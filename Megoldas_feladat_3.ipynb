{
 "cells": [
  {
   "cell_type": "markdown",
   "id": "e584f393-b4e3-41c2-8a05-952d6941e48b",
   "metadata": {
    "editable": true,
    "slideshow": {
     "slide_type": ""
    },
    "tags": []
   },
   "source": [
    "# 3. feladat\n",
    "\n",
    "Felveszem a gyerekek adatait és kiíratom őket."
   ]
  },
  {
   "cell_type": "code",
   "execution_count": 1,
   "id": "4bb3bcbe-cdab-43b4-9e7f-ad82ac27d05a",
   "metadata": {
    "editable": true,
    "slideshow": {
     "slide_type": ""
    },
    "tags": []
   },
   "outputs": [],
   "source": [
    "aliz_neve = \"Alíz\"\n",
    "aliz_kora = 7\n",
    "aliz_sulya = 23.6\n",
    "\n",
    "benedek_neve = \"Benedek\"\n",
    "benedek_kora = 5\n",
    "benedek_sulya = 20.3\n",
    "\n",
    "luca_neve = \"Luca\"\n",
    "luca_kora = 3\n",
    "luca_sulya = 12.5"
   ]
  },
  {
   "cell_type": "code",
   "execution_count": 2,
   "id": "2c39c6fa-a6e3-4e1c-aa1c-e878b37fe65a",
   "metadata": {},
   "outputs": [
    {
     "name": "stdout",
     "output_type": "stream",
     "text": [
      "Luca Benedek és Alíz együttes kora: 15\n",
      "Luca Benedek és Alíz együttes sulya: 56.400000000000006\n"
     ]
    }
   ],
   "source": [
    "egyuttes_koruk = aliz_kora + benedek_kora + luca_kora\n",
    "egyuttes_sulyuk = aliz_sulya + benedek_sulya + luca_sulya\n",
    "\n",
    "print(f\"{luca_neve} {benedek_neve} és {aliz_neve} együttes kora: {egyuttes_koruk}\")\n",
    "print(f\"{luca_neve} {benedek_neve} és {aliz_neve} együttes sulya: {egyuttes_sulyuk}\")"
   ]
  }
 ],
 "metadata": {
  "kernelspec": {
   "display_name": "Python 3 (ipykernel)",
   "language": "python",
   "name": "python3"
  },
  "language_info": {
   "codemirror_mode": {
    "name": "ipython",
    "version": 3
   },
   "file_extension": ".py",
   "mimetype": "text/x-python",
   "name": "python",
   "nbconvert_exporter": "python",
   "pygments_lexer": "ipython3",
   "version": "3.12.4"
  }
 },
 "nbformat": 4,
 "nbformat_minor": 5
}
