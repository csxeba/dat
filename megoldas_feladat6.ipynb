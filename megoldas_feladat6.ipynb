{
 "cells": [
  {
   "cell_type": "markdown",
   "id": "f351cd62-78ee-47a5-a508-9344578bdc43",
   "metadata": {},
   "source": [
    "# Kód kiemelése függvénybe\n",
    "\n",
    "Alább láthatsz egy csomó cellát, amikben ugyanaz a kód található, csak más a változók értéke. Emeld ki ezt a kódrészt egy függvénybe és használd a függvényt a kódismétlés helyett."
   ]
  },
  {
   "cell_type": "code",
   "execution_count": null,
   "id": "0a3b3b9a-72d7-4b82-b5b6-47b3870b4517",
   "metadata": {},
   "outputs": [],
   "source": [
    "barcelona_koltseg = 1500\n",
    "\n",
    "if barcelona_koltseg > 5000:\n",
    "    print(f\"Barcelona túl drága úticél most.\")\n",
    "elif barcelona_koltseg < 5000 and barcelona_koltseg >= 2000:\n",
    "    print(f\"Barcelona megfelelő úticél lenne.\")\n",
    "else:\n",
    "    print(f\"Barcelona nagyon olcsó most!\")"
   ]
  },
  {
   "cell_type": "code",
   "execution_count": null,
   "id": "a9971628-3230-4592-9fd1-182883481561",
   "metadata": {},
   "outputs": [],
   "source": [
    "madrid_koltseg = 3000\n",
    "\n",
    "if mardir_koltseg > 5000:\n",
    "    print(f\"Madrid túl drága úticél most.\")\n",
    "elif barcelona_koltseg < 5000 and mallor_koltseg >= 2000:\n",
    "    print(f\"Madrid megfelelő úticél lenne.\")\n",
    "else:\n",
    "    print(f\"Madrid nagyon olcsó most!\")"
   ]
  },
  {
   "cell_type": "code",
   "execution_count": null,
   "id": "0d2ad586-850e-4f4d-adeb-207f044a6f91",
   "metadata": {},
   "outputs": [],
   "source": [
    "mallorca_koltseg = 10000\n",
    "\n",
    "if mallorca_koltseg > 5000:\n",
    "    print(f\"Mallorca túl drága úticél most.\")\n",
    "elif mallorca_koltseg < 5000 and mallorca_koltseg >= 2000:\n",
    "    print(f\"Mallorca megfelelő úticél lenne.\")\n",
    "else:\n",
    "    print(f\"Mallorca nagyon olcsó most!\")"
   ]
  },
  {
   "cell_type": "code",
   "execution_count": 1,
   "id": "9444a66c-ee78-4a16-a37c-babf0ad6e055",
   "metadata": {},
   "outputs": [
    {
     "name": "stdout",
     "output_type": "stream",
     "text": [
      "Barcelona nagyon olcsó most!\n",
      "Madrid megfelelő úticél lenne.\n",
      "Mallorca túl drága úticél most.\n"
     ]
    }
   ],
   "source": [
    "def koltseghatekonysag_szamolo(varos_neve, koltseg):\n",
    "    if koltseg > 5000:\n",
    "        print(f\"{varos_neve} túl drága úticél most.\")\n",
    "    elif koltseg < 5000 and koltseg >= 2000:\n",
    "        print(f\"{varos_neve} megfelelő úticél lenne.\")\n",
    "    else:\n",
    "        print(f\"{varos_neve} nagyon olcsó most!\")\n",
    "\n",
    "barcelona_koltseg = 1500\n",
    "madrid_koltseg = 3000\n",
    "mallorca_koltseg = 10000\n",
    "\n",
    "koltseghatekonysag_szamolo(\"Barcelona\", barcelona_koltseg)\n",
    "koltseghatekonysag_szamolo(\"Madrid\", madrid_koltseg)\n",
    "koltseghatekonysag_szamolo(\"Mallorca\", mallorca_koltseg)"
   ]
  }
 ],
 "metadata": {
  "kernelspec": {
   "display_name": "Python 3 (ipykernel)",
   "language": "python",
   "name": "python3"
  },
  "language_info": {
   "codemirror_mode": {
    "name": "ipython",
    "version": 3
   },
   "file_extension": ".py",
   "mimetype": "text/x-python",
   "name": "python",
   "nbconvert_exporter": "python",
   "pygments_lexer": "ipython3",
   "version": "3.12.4"
  }
 },
 "nbformat": 4,
 "nbformat_minor": 5
}
