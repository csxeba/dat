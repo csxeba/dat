{
 "cells": [
  {
   "cell_type": "markdown",
   "id": "486684be-ff35-4a87-842f-64295f738a17",
   "metadata": {
    "editable": true,
    "slideshow": {
     "slide_type": ""
    },
    "tags": []
   },
   "source": [
    "# Meghívottak\n",
    "\n",
    "Meghívtunk magunkhoz pár barátot. Csinálj egy szótárat, amiben a kulcsok a meghívottak nevei, az értékek pedig egy al-szótárak.\n",
    "\n",
    "Meghívottak nevei:\n",
    "- Misi\n",
    "- Azuma\n",
    "- Fanni\n",
    "- Gergő\n",
    "- Hege\n",
    "- Hege fura nője (nem tudom a nevét)\n",
    "\n",
    "Minden kulcshoz tartozik egy al-szótár ezekkel a kulcsokkal:\n",
    "- inni: valamilyen string legyen\n",
    "- enni: valamilyen string legyen\n",
    "- hánykor_jön: egy egész szám, hogy hány órakor érkezik.\n",
    "- párja_neve: mi a párja neve (string)"
   ]
  },
  {
   "cell_type": "code",
   "execution_count": 2,
   "id": "1fb6412b-4f6d-46c2-b65f-3c1d9d4667e5",
   "metadata": {},
   "outputs": [],
   "source": [
    "# Megoldás helye\n",
    "meghivottak = {\n",
    "    \"Misi\": {\"inni\": \"sörike\", \"enni\": \"csípős\", \"hánykor_jön\": 11, \"párja_neve\": \"Azuma\"},\n",
    "    \"Azuma\": {\"inni\": \"tea\", \"enni\": \"tatár beefsteak\", \"hánykor_jön\": 12, \"párja_neve\": \"Misi\"},\n",
    "    \"Fanni\": {\"inni\": \"koktél\", \"enni\": \"gyümölcs\", \"hánykor_jön\": 10, \"párja_neve\": \"Gergő\"},\n",
    "    \"Gergő\": {\"inni\": \"sörike\", \"enni\": \"husika\", \"hánykor_jön\": 10, \"párja_neve\": \"Fanni\"},\n",
    "    \"Hege\": {\"inni\": \"sörike\", \"enni\": \"harmatos fű\", \"hánykor_jön\": 13, \"párja_neve\": \"Hege nője\"},\n",
    "    \"Hege nője\": {\"inni\": \"víz\", \"enni\": \"harmatos fű\", \"hánykor_jön\": 13, \"párja_neve\": \"Hege\"}\n",
    "}"
   ]
  },
  {
   "cell_type": "code",
   "execution_count": 3,
   "id": "3c027ba6-4d67-4ba7-b541-5031569d9c44",
   "metadata": {},
   "outputs": [
    {
     "name": "stdout",
     "output_type": "stream",
     "text": [
      "{'Azuma': {'enni': 'tatár beefsteak',\n",
      "           'hánykor_jön': 12,\n",
      "           'inni': 'tea',\n",
      "           'párja_neve': 'Misi'},\n",
      " 'Fanni': {'enni': 'gyümölcs',\n",
      "           'hánykor_jön': 10,\n",
      "           'inni': 'koktél',\n",
      "           'párja_neve': 'Gergő'},\n",
      " 'Gergő': {'enni': 'husika',\n",
      "           'hánykor_jön': 10,\n",
      "           'inni': 'sörike',\n",
      "           'párja_neve': 'Fanni'},\n",
      " 'Hege': {'enni': 'harmatos fű',\n",
      "          'hánykor_jön': 13,\n",
      "          'inni': 'sörike',\n",
      "          'párja_neve': 'Hege nője'},\n",
      " 'Hege nője': {'enni': 'harmatos fű',\n",
      "               'hánykor_jön': 13,\n",
      "               'inni': 'víz',\n",
      "               'párja_neve': 'Hege'},\n",
      " 'Misi': {'enni': 'csípős',\n",
      "          'hánykor_jön': 11,\n",
      "          'inni': 'sörike',\n",
      "          'párja_neve': 'Azuma'}}\n"
     ]
    }
   ],
   "source": [
    "# írasd ki pprint segítségével ezt a bonyolult szótárat\n",
    "from pprint import pprint\n",
    "pprint(meghivottak)"
   ]
  }
 ],
 "metadata": {
  "kernelspec": {
   "display_name": "Python 3 (ipykernel)",
   "language": "python",
   "name": "python3"
  },
  "language_info": {
   "codemirror_mode": {
    "name": "ipython",
    "version": 3
   },
   "file_extension": ".py",
   "mimetype": "text/x-python",
   "name": "python",
   "nbconvert_exporter": "python",
   "pygments_lexer": "ipython3",
   "version": "3.12.4"
  }
 },
 "nbformat": 4,
 "nbformat_minor": 5
}
