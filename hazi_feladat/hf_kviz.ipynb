{
 "cells": [
  {
   "cell_type": "markdown",
   "id": "1d9b2cad-76c6-427d-9c7c-d7db0fbf7f89",
   "metadata": {},
   "source": [
    "# Kvízes feladat"
   ]
  },
  {
   "cell_type": "code",
   "execution_count": 1,
   "id": "24676840-3cdb-4303-8b5b-e8da9a9f01b1",
   "metadata": {
    "editable": true,
    "slideshow": {
     "slide_type": ""
    },
    "tags": []
   },
   "outputs": [],
   "source": [
    "kerdes = \"Hányat lép a veréb egy évben?\"\n",
    "helyes_valasz = 0"
   ]
  },
  {
   "cell_type": "code",
   "execution_count": 2,
   "id": "040c07ab-af26-4275-a9a6-b6851f17b772",
   "metadata": {},
   "outputs": [],
   "source": [
    "felhasznalo_valasza = 0  # ezt te adod meg. Nyugodtan változtasd meg és pr"
   ]
  },
  {
   "cell_type": "code",
   "execution_count": 1,
   "id": "a1d70e64-b4a8-45ed-a4b6-ddf5df4535f2",
   "metadata": {
    "editable": true,
    "slideshow": {
     "slide_type": ""
    },
    "tags": []
   },
   "outputs": [],
   "source": [
    "# Ebbe a cellába írj egy if-elif-else elágazást.\n",
    "# Ha jó a válasz (if ág), írasd ki, hogy jó a válasz és dícsérd meg a válaszolót.\n",
    "# Ha 0-nál kisebb a válasz (elif ág), dorgáld meg a válaszolót a hülyéskedés miatt.\n",
    "# Mikor fut le az else ág? Írasd ki egy print-tel az else ágon belül, hogy milyen esetben fut erre a kód.\n"
   ]
  }
 ],
 "metadata": {
  "kernelspec": {
   "display_name": "Python 3 (ipykernel)",
   "language": "python",
   "name": "python3"
  },
  "language_info": {
   "codemirror_mode": {
    "name": "ipython",
    "version": 3
   },
   "file_extension": ".py",
   "mimetype": "text/x-python",
   "name": "python",
   "nbconvert_exporter": "python",
   "pygments_lexer": "ipython3",
   "version": "3.12.4"
  }
 },
 "nbformat": 4,
 "nbformat_minor": 5
}
