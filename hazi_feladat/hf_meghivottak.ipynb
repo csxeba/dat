{
 "cells": [
  {
   "cell_type": "markdown",
   "id": "486684be-ff35-4a87-842f-64295f738a17",
   "metadata": {},
   "source": [
    "# Meghívottak\n",
    "\n",
    "Meghívtunk magunkhoz pár barátot. Csinálj egy szótárat, amiben a kulcsok a meghívottak nevei, az értékek pedig egy al-szótárak.\n",
    "\n",
    "Meghívottak nevei:\n",
    "- Misi\n",
    "- Azuma\n",
    "- Fanni\n",
    "- Gergő\n",
    "- Hege\n",
    "- Hege fura nője (nem tudom a nevét)\n",
    "\n",
    "Minden kulcshoz tartozik egy al-szótár ezekkel a kulcsokkal:\n",
    "- inni: valamilyen string legyen\n",
    "- enni: valamilyen string legyen\n",
    "- hánykor_jön: egy egész szám, hogy hány órakor érkezik.\n",
    "- párja_neve: mi a párja neve (string)"
   ]
  },
  {
   "cell_type": "code",
   "execution_count": 1,
   "id": "1fb6412b-4f6d-46c2-b65f-3c1d9d4667e5",
   "metadata": {},
   "outputs": [],
   "source": [
    "# Megoldás helye"
   ]
  },
  {
   "cell_type": "code",
   "execution_count": 3,
   "id": "3c027ba6-4d67-4ba7-b541-5031569d9c44",
   "metadata": {},
   "outputs": [],
   "source": [
    "# írasd ki pprint segítségével ezt a bonyolult szótárat"
   ]
  }
 ],
 "metadata": {
  "kernelspec": {
   "display_name": "Python 3 (ipykernel)",
   "language": "python",
   "name": "python3"
  },
  "language_info": {
   "codemirror_mode": {
    "name": "ipython",
    "version": 3
   },
   "file_extension": ".py",
   "mimetype": "text/x-python",
   "name": "python",
   "nbconvert_exporter": "python",
   "pygments_lexer": "ipython3",
   "version": "3.12.4"
  }
 },
 "nbformat": 4,
 "nbformat_minor": 5
}
