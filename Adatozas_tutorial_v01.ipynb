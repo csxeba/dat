{
 "cells": [
  {
   "cell_type": "markdown",
   "id": "ea2ffe9d-eb46-4640-9ad9-76f0a8be740d",
   "metadata": {},
   "source": [
    "# 0. Környezetkezelés\n",
    "\n",
    "Ebben a fejezetben átnézzük, hogy milyen eszközök kellenek ahhoz, hogy a Pythont futtatni és használni tudjuk. Szó lesz a könyvtárakról, csomagokról és a környezetekről, illetve a Jupyter fejlesztői környezetről."
   ]
  },
  {
   "cell_type": "markdown",
   "id": "e597de76-7ffd-4c01-b071-96abe876f4a7",
   "metadata": {},
   "source": [
    "## 0.1 Anaconda környezet kezelő\n",
    "\n",
    "Ahhoz, hogy Python programokat tudjunk írni és futtatni, szükség van egy Python értelmezőre. Magában a Python-t ritkán használjuk, legtöbbször szükség van könytárakra, amiket fel kell telepíteni az értelmező mellé. Mivel a Python-t sokan sok különböző dologra használják, nagyon hasznos, ha el tudunk különíteni többféle futási környezetet. Ezekben más-más könyvtárakat telepíthetünk fel.\n",
    "\n",
    "Alább írok egy szemléletes példát arra, miért kell elkülöníteni a futási környezeteket.\n",
    "\n",
    "*Képzeletben előreugrunk 3 évet az időben. Fifi ekkor már gyakorlott geo-adatelemző egy nagynevű multinál és rengeteget dolgozik otthonról. Fifi mindennapi munkájához teljesen más Python könyvtárak kellenek (ArcPy, GeoPandas), mint Csabi mindennapi munkájához (PyTorch, Scikit-Learn). Az ArcPy-nak Python 3.12-es verziójú értelmezőre van szüksége, a PyTorch-nak viszont Python 3.7-re, így Fifi és Csabi nem tudják ugyanazt a feltelepített Pythont használni -> két külön Python kell nekik.*\n",
    "\n",
    "A fentiek verzió ütközés feloldására a Python-t nem közvetlenül telepítjük a gépre, hanem verziókezelőt vagy környezet menedzsert használunk hozzá. Egy ilyen környezet menedzselő eszköz `conda`.\n",
    "\n",
    "**Pár fontosabb fogalom**:\n",
    "- **Könyvtár** (library vagy lib): előre megírt kódok, függvények, osztályok Pythonhoz különféle alkalmazásokra. Geoinfós Python könyvtárak pl. a fent említett `ArcPy` vagy a `GeoPandas`.\n",
    "- **Csomag** (package): a könyvtárakat becsomagolják, hogy feltelepíthetőek legyenek. Egy csomag több könyvtárat is tartalmazhat, bár ez ritka.\n",
    "- **Csomagkezelő** (package manager): ezzel lehet csomagokat feltelepíteni és így könyvtárakat szerezni. Pl. a `pip` a Python saját csomagkezelője (tehát a Pythonnal együtt jön), de a `conda` is kezel csomagokat.\n",
    "- **Függőség** (dependency): egy általad megírt programok függőségei azok a könyvtárak, amiket használsz a programodban. Egy geoinfós elemzéshez pl. függőség lehet az `ArcPy` könyvtár. A trükk az a dologban, hogy a könyvtáraknak is lehetnek más könyvtár függőségei, pl. a `NumPy` egy olyan könyvtár, ami mátrixokat kezel, ezt nagyon sok adatelemző könyvtár, függetlenül a témától (geoinfós, pénzügyi vagy AI) függőségként megjelöli. Az általad feltelepített könyvtárak függőségeit, illetve azok függőségeit (és azokét és azokét ... satöbbi) automatikusan kezeli neked a csomagkezelő.\n",
    "- **Környezet** (environment): egy általad összerakott python értelmező + hozzá tartozó könyvtárak, azok függőségei és azok függőségei...\n",
    "- **Környezet kezelő** (environment manager): `conda` tud ilyet is. Létrehozza, kilistázza, törli a környezeteket és pl. menedzseli a környezetekben lévő könyvtárak frissítését. `conda`-n kívül van még más ilyen is, pl. `poetry`, `pyenv`.\n",
    "- **Fejlesztő környezet** (development environment: DE vagy IDE): az a program, amiben Python kódot írsz. Ilyen pl. Jupyter, PyCharm vagy VSCode.\n",
    "\n",
    "Tehát összefoglalva, ha dolgozol Pythonnal, lesz egy (vagy több) környezeted. Ezek a környezetek más-más könyvtárakat használnak függőségként. A környezeteket egymástól a `conda` különíti majd el, illetve kezeli őket (frissíti, törli, létrehozza). A környezeteken belül a könyvtárakat csomagok formájában telepítjük fel a csomagkezelővel (`conda install arcpy`) vagy (`pip install geopandas`). Ezeknek a könyvtáraknak a függőségeit automatikusan feltelepíti a csomagkezelő.\n",
    "\n",
    "### Fontosabb conda parancsok\n",
    "\n",
    "- `conda create --name környezet_neve_pl_geoinfo_de_bármi_lehet`: ez létrehoz egy új környezetet. Ez ekkor még üres, nincsenek benne feltelepített könyvtárak.\n",
    "- `conda activate környezet_neve`: aktivál egy környezetet. Aktiválás után minden Python telepítő parancsot a környezeten belül hajt végre.\n",
    "- `conda install könyvtár_neve`: feltelepít egy könyvtárat, pl. arcpy, pandas, jupyter, stb. Automatikusan feltelepíti a könyvtár függőségeit is.\n",
    "- `pip install könyvtár_neve`: a pip a Python saját csomagkezelője, amivel könyvtárakat lehet telepíteni. Ha egy könyvtár conda-val nem elérhető, pip-pel is fel lehet telepíteni. A pip nem tud környezeteket kezelni, viszont ha egy conda környezetben futtatunk pip-es telepítő parancsot, a conda felismeri és csak a környezeten belül telepíti fel a könyvtárat.\n",
    "- `conda env list`: kilistázza, milyen környezetek vannak létrehozva. Ha elfelejtenéd, mi volt a neve valamelyik környezetnek (velem gyakran megesik).\n",
    "- `conda env export > fájlnév.yml`: elmenti a környezetet a megadott fájlba. Ha van egy jó környezeted, azt így exportálhatod és pl. egy másik gépre átviheted.\n",
    "- `conda env create --name környezet_neve --file environment_fájl.yml`: ezzel importálni lehet egy elmentett környezetet, pl. másik gépen vagy újratelepítés után.\n",
    "\n",
    "Ezeket a parancsokat nem kell fejből tudni, de ideírtam a fontosabbak szemléltetésként és esetleg később referenciaként, hogy lásd ha valamit keresel. Az Anaconda oldalán fent van egy puska egy csomó paranccsal, itt éred el: [Anaconda parancsok](https://docs.conda.io/projects/conda/en/latest/_downloads/843d9e0198f2a193a3484886fa28163c/conda-cheatsheet.pdf)\n",
    "\n",
    "Az Anaconda vagy Miniconda feltelepítésekor kapsz minden esetben egy `base` nevű környezetet. Ez Anaconda telepítés esetén már tele van hasznos könyvtárakkal, amik mindenféle adatelemzéshez jók. Miniconda esetében a `base` környezet szinte teljesen üres, csak a Python értelmező van benne, a pip csomagkezelő és a conda környezetkezelő."
   ]
  },
  {
   "cell_type": "markdown",
   "id": "4564bdf2-f856-432b-9023-a3bb3570e316",
   "metadata": {},
   "source": [
    "### 1. feladat - conda export\n",
    "\n",
    "- Nyiss egy Windows terminált: Windows gomb + r, utána írd be: `powershell`.\n",
    "- Ha minden igaz, a `conda` már működni fog a gépeden. Írd be: `conda --version`. Ha ez hibát dob (nem találja a `conda`-t), akkor hozd haza a géped és megcsinálom. Ha nem dob hibát, hanem kiírja a conda verzióját, akkor tovább mehetsz.\n",
    "- Hozz létre egy környezetet, hazi_feladat_1 néven. Telepítsd fel az alábbi könyvtárakat:\n",
    "- **NumPy**: mátrixok kezelése és mátrix műveletek (lineáris algebra)\n",
    "- **Pandas**: táblázatok beolvasása és műveletek\n",
    "- **Seaborn**: diagrammok készítése, vizualizálás\n",
    "- **Jupyter**: fejlesztő környezet, amiben Pythont tudsz írni és futtatni.\n",
    "- Exportáld ki a `conda` környezetet `conda_kornyezet.yml` fájlba.\n",
    "- Küldd át nekem a környezet fájlt."
   ]
  },
  {
   "cell_type": "markdown",
   "id": "edb2a6ea-adb3-4087-ba04-9dd8eab5b3a7",
   "metadata": {},
   "source": [
    "## 0.2 Jupyter notebook-ok\n",
    "\n",
    "A Jupyter egy fejlesztő környezet, amit adattudományban rengeteget használnak. Alapvetően arra jó, hogy a Python kódot cellákba rendezze. Ezeket a cellákat külön-külön futtathatjuk, tetszőleges sorrendben. A celláknak van egy bemeneti része, ahová a kód kerül és ha lefuttatjuk a cellát, alatta létrejön egy kimeneti rész, ahová kiírkálódik minden amit a programunk kiad magából."
   ]
  },
  {
   "cell_type": "code",
   "execution_count": null,
   "id": "b4378d2c-9c8e-4db7-9b0c-07c7bb19d57d",
   "metadata": {},
   "outputs": [],
   "source": [
    "# Ez itt egy komment.\n",
    "# Ez egy kód cella.\n",
    "print(\"Van bemeneti és kimeneti része is\")"
   ]
  },
  {
   "cell_type": "markdown",
   "id": "b0c45841-8ec5-4ffc-88be-64cda7fe6990",
   "metadata": {},
   "source": [
    "A kódcellákon kívül használhatsz Markdown cellákat is (mint amilyen ez is). A Markdown egy faék egyszerűségű jelölő nyelv, amivel formázott szöveget tudunk írni. A beviteli mód aktiválásához kattints kétszer erre a cellára és meglátod, milyen jelekkel tudtam előhozni a formázásokat. Olvasási módra váltáshoz pedig futtasd a cellát ctrl+Enter lenyomásával vagy a fejlécben a lejátszás gomb megnyomásával.\n",
    "\n",
    "Ez sima szöveg.\n",
    "\n",
    "**Ez félkövér**.\n",
    "\n",
    "*Ez dőlt*\n",
    "\n",
    "`Ezt kódhoz használom`\n",
    "\n",
    "- lista\n",
    "- második elem\n",
    "\n",
    "1. felsorolás\n",
    "2. következő elem\n",
    "\n",
    "Kettőskereszt karakterrel tudsz különböző szintű címsorokat létrehozni. Ezek segítik a Notebook átláthatóságát, engedik a Notebook \"összehajtását\", hogy eltűntesd a nem releváns részeket és a tartalomjegyzék használatát is lehetővé teszik, úgyhogy erősen ajánlottak.\n",
    "\n",
    "\\# Első szintű címsor\n",
    "\n",
    "\\#\\# Második szintű címsor\n",
    "\n",
    "\\#\\#\\# Harmadik szintű címsor\n",
    "\n",
    "stb. sok szint lehet. Ezeket én most vissza-perjellel \"semlegesítettem\", hogy ebben a notebookban ne rontsák el a tartalomhegyzéket.\n",
    "\n",
    "A cellákat futtatni ctrl+Enter kombinációval tudod, ha benne állsz a cellában. Ez Python cella esetében futtatja a kódot, Markdown cella esetében pedig átvált beviteli módból a formázott szöveg megjelenítésére.\n",
    "\n",
    "A Jupyter és a különféle Python környezetek kapcsolata többféle lehet. Nyilván szeretnénk, ha különböző Jupyter Notebookjaink esetleg más-más conda környezetet tudnának használni. Ezt legegyszerűbben úgy tudjuk elérni, ha a használni kívánt conda környezetbe feltelepítjük a `jupyter` csomagot:\n",
    "\n",
    "- `conda activate kornyezet_neve`\n",
    "- `conda install jupyter`\n",
    "\n",
    "Ezután a `jupyter notebook` vagy `jupyter lab` parancs elindítja a Jupyter felületét, ahol tudunk létrehozni, törölni, szerkeszteni notebook-okat."
   ]
  },
  {
   "cell_type": "markdown",
   "id": "3510dc27-ffae-462b-8b2b-78d451f3bed5",
   "metadata": {},
   "source": [
    "### 2. feladat - hello world\n",
    "\n",
    "Csinálj egy új Jupyter Notebook-ot, `\"hello_world.ipyn\"` címen. Az első cellába írj egy címet, majd pár sor szöveget. Használj félkövér, dőlt, lista, stb. formázásokat.\n",
    "\n",
    "A második cella legyen kód cella, amiben kiíratod, hogy \"Hello World!\""
   ]
  },
  {
   "cell_type": "markdown",
   "id": "5088a595-38cf-431d-a6ea-fdb0462c9cfe",
   "metadata": {},
   "source": [
    "# 1. Python alapok\n",
    "\n",
    "A Python nagyon lassú nyelv, ezért csak arra használjuk, hogy a könyvtárak működését koordináljuk vele. Mivel a könyvtárakat nem feltétlenül Pythonban írják, ezért azok lehetnek nagyon gyorsak is (a NumPy könyvát például C-ben van írva).\n",
    "\n",
    "Ennek ellenére szükség van a nyelv működésének minimális ismeretére, ezt mutatom most be."
   ]
  },
  {
   "cell_type": "markdown",
   "id": "aca64cba-0287-47a8-ac72-a560d04a3ed4",
   "metadata": {},
   "source": [
    "## 1.1 Típusok és változók\n",
    "\n",
    "### Számok"
   ]
  },
  {
   "cell_type": "code",
   "execution_count": 3,
   "id": "9292e9ee-e8dd-4555-9574-4b87741f9349",
   "metadata": {},
   "outputs": [],
   "source": [
    "# Ez komment. Amit a # után írsz, az nem hajtódik végre."
   ]
  },
  {
   "cell_type": "code",
   "execution_count": null,
   "id": "a1377a70-b28c-4185-b8f1-86707c506d8d",
   "metadata": {},
   "outputs": [],
   "source": [
    "# Számok\n",
    "\n",
    "a = 1  # a egy változó, ami jelenleg az 1 egész számot tartalmazza.\n",
    "b = 1.0  # b az 1.0 lebegőpontos törtet tartalmazza.\n",
    "\n",
    "# Ez a változó definiálás vagy érték-hozzárendelés (variable definition / variable assignement)\n",
    "# Pythonban a típusokat nem kell kiírni. Opcionálisan lehet megadni típust így:\n",
    "a: float = 1.0  # Itt megadjuk, hogy 'a' tört szám és értéket adunk neki.\n",
    "\n",
    "# A típusokkal a Python nem foglalkozik. Később felülírhatjuk a változót bármilyen típussal:\n",
    "a = 1  # Nem fog hibát dobni. Sok programnyelv ezt hibaként venné.\n",
    "\n",
    "# Emiatt a típusokkal nem szoktunk foglalkozni csak legfejlebb nagyobb programok esetén.\n",
    "\n",
    "a + b  # ez az utasítás összeadja a számokat.\n",
    "# A két szám nem ugyanolyan típusú. 'a' egész, 'b' pedig tört.\n",
    "# Szerencsére a Python ezt lekezeli és nem kell az átváltással szórakozni.\n",
    "\n",
    "# A fenti utasítás összeadta a számokat, de az eredménnyel nem csináltunk semmit.\n",
    "# Nem tároltuk el, nem írattuk ki.\n",
    "c = a + b  # Itt eltároljuk az összeadás eredményét egy új változóban.\n",
    "\n",
    "# Műveletek: + - * /\n",
    "# Ezen kívül: ** a hatványozás.\n",
    "# Gyökvonáshoz, szögfüggvényekhez, logaritmushoz már könyvtárakat kell importálni."
   ]
  },
  {
   "cell_type": "code",
   "execution_count": null,
   "id": "f0c93174-b3af-48b0-92e8-2361e88156b6",
   "metadata": {},
   "outputs": [],
   "source": [
    "print(c)  # Kiírathatod egy változó értékét a 'print' függvénnyel\n",
    "print(a + b)  # Magát az összeadást is beteheted ide. A python előbb kiértékeli az összeadást,\n",
    "# majd végrehajtja a print függvényt."
   ]
  },
  {
   "cell_type": "markdown",
   "id": "0ff1b6f2-3f57-457e-a9a8-a54a557ea41d",
   "metadata": {},
   "source": [
    "### Változónevek\n",
    "\n",
    "Változónevekben használható karakterek:\n",
    "- kis betűk\n",
    "- nagy betűk\n",
    "- számok (kivéve első karakter)\n",
    "- alsó vonás\n",
    "- ékezetes betűk is használhatóak (de nem ajánlott)\n",
    "- görög betűk is használhatóak (de nem ajánlott)\n",
    "\n",
    "A változókat rendszerint csupa kis betűvel nevezzük el és a szavakat alsó vonással választjuk el egymástól. Ez nem kötelező, de Pythonban ez a konvenció.\n",
    "\n",
    "Tiltott változónevek, amik ütköznek egy nyelvi kulcsszóval, pl. `del`, `def`, `class`, `return`, stb.\n",
    "\n",
    "Nem tiltott, de nem ajánlott olyan változónevet használni, ami beépített függvény nevével ütközik, pl. `print`, `sum`, `type`, stb."
   ]
  },
  {
   "cell_type": "markdown",
   "id": "db2c140a-8ffc-4a83-9877-6f5de4f72d07",
   "metadata": {},
   "source": [
    "### Karakterláncok"
   ]
  },
  {
   "cell_type": "code",
   "execution_count": null,
   "id": "6a2fa500-17c7-4543-9f78-1e1d579df66a",
   "metadata": {},
   "outputs": [],
   "source": [
    "# Érdemes értelmes változónevekkel dolgozni.\n",
    "\n",
    "karakterlanc_eleje = \"Ez egy karakterlánc (string). Ebben tárolunk szövegeket.\"\n",
    "karakterlanc_vege = 'Egyes és kettes idézőjelekkel is létrehozhatod.'\n",
    "\n",
    "# Karakterláncokat összefűzheted (konkatenálhatod) a + operátorral:\n",
    "szoveg = karakterlanc_eleje + karakterlanc_vege\n",
    "\n",
    "print(szoveg)"
   ]
  },
  {
   "cell_type": "markdown",
   "id": "4e40ad7e-a23b-4037-a6f1-9d59b6761cf2",
   "metadata": {},
   "source": [
    "*Ide beékeltem egy Markdown cellát. Ebben formázott szöveg használatával magyarázhatod pl. egy cella működését.*\n",
    "\n",
    "**Ajj!** Egy space karakter hiányzik a két mondat között. Javítsuk ki:"
   ]
  },
  {
   "cell_type": "code",
   "execution_count": null,
   "id": "d90545be-fe5f-4e6d-8f24-9644743aedc5",
   "metadata": {},
   "outputs": [],
   "source": [
    "# Konkatenáljuk a szöveg elejét, majd egy \" \" space karaktert, majd a szöveg végét\n",
    "szoveg = karakterlanc_eleje + \" \" + karakterlanc_vege\n",
    "print(szoveg)"
   ]
  },
  {
   "cell_type": "markdown",
   "id": "db8c3b85-eb2e-4f78-a755-67597d999081",
   "metadata": {},
   "source": [
    "*Na ez máris jobban néz ki.*"
   ]
  },
  {
   "cell_type": "code",
   "execution_count": null,
   "id": "12ad8bf9-f6aa-4824-be82-9423ef72fab3",
   "metadata": {},
   "outputs": [],
   "source": [
    "# Még jobb lenne sortöréssel. Azt így tudod bevinni:\n",
    "szoveg = karakterlanc_eleje + \"\\n\" + karakterlanc_vege\n",
    "print(szoveg)"
   ]
  },
  {
   "cell_type": "markdown",
   "id": "1899d0b6-5540-4bfa-8625-9017c5e37c39",
   "metadata": {},
   "source": [
    "A vissza-perjel (backslash) mindig valami speciális dolgot jelent a stringen belül. `\\n` jelenti a sortörést."
   ]
  },
  {
   "cell_type": "code",
   "execution_count": null,
   "id": "ca476be6-5c7c-430b-8a0f-a7ee07bcfe42",
   "metadata": {},
   "outputs": [],
   "source": [
    "# Néha találkozhatsz tripla-idézőjeles szöveggel\n",
    "nagyon_hosszu_string = \"\"\"Ezt akkor használjuk, ha hosszú stringet szeretnénk létrehozni,\n",
    "amiben pl. sortörések is vannak.\n",
    "\n",
    "Rendesen a Python nem engedi az entert a stringen belül, de ha tripla-idézőjellel\n",
    "hozod létre a stringet, akkor magába a szövegbe is üthetsz enterrel sortöréseket,\n",
    "nem kell a vissza-perjeles dologgal szórakozni.\"\"\"\n",
    "# Itt a hosszú string vége. Figyeld meg, hogy ezt a hosszú stringet eltettem egy változóba.\n",
    "\n",
    "# Itt egy másik hosszú string:\n",
    "'''Egyesek az ilyen stringeket arra is használják, hogy hosszú kommentet írjanak a kódba.\n",
    "Ekkor elhagyható a változó-hozzárendelés a string elejéről.\n",
    "Ez a string nem lesz eltárolva semmilyen változóba, de nincs is rá szükség,\n",
    "mert nem akarjuk használni, csak ideírtuk, mint komment.'''\n",
    "\n",
    "print(nagyon_hosszu_string)  # A változóban eltárolt stringet ki is írathatjuk a kimenetre."
   ]
  },
  {
   "cell_type": "markdown",
   "id": "437cc746-4c76-4d2b-9ba7-a2b6a8a98eb2",
   "metadata": {},
   "source": [
    "## 1.2 Print függvény"
   ]
  },
  {
   "cell_type": "code",
   "execution_count": null,
   "id": "20eaf976-e0b7-4553-a492-d9d13d95a94d",
   "metadata": {},
   "outputs": [],
   "source": [
    "# A print nagyon hasznos függvény:\n",
    "print(\"Ez a program az összeadást mutatja be\")\n",
    "print(\"Összeadtam ezeket a számokat:\", a, b)  # A vessző helyére a print automatikusan tesz egy space-t.\n",
    "print(\"Ezt az eredményt kaptam:\", c)"
   ]
  },
  {
   "cell_type": "code",
   "execution_count": null,
   "id": "17de929c-04cc-4d9e-89dd-c45e8d275102",
   "metadata": {},
   "outputs": [],
   "source": [
    "# Még egy koncepciót mutatok, az f-stringeket. Ezek formázott stringek,\n",
    "# ami azt jelenti, hogy a string közepébe beilleszthetünk változókat.\n",
    "# Ezt az esetek 99%-ban a printtel együtt használjuk:\n",
    "print(f\"Összeadtam {a}-t és {b}-t. Az eredmény: {c}\")"
   ]
  },
  {
   "cell_type": "code",
   "execution_count": null,
   "id": "d8515547-a4e6-46d7-b727-ae0c83ac6c46",
   "metadata": {},
   "outputs": [],
   "source": [
    "# A szintaxis a következő:\n",
    "# A stringet f-fel prefixeljük: f\"\" vagy f''.\n",
    "# A behelyettesítés helyére kapcsos zárójelet teszünk:\n",
    "# f\"{}\"\n",
    "# A zárójelbe beírhatsz python változót:\n",
    "print(f\"Ez az a: {a}\")"
   ]
  },
  {
   "cell_type": "code",
   "execution_count": null,
   "id": "07c98213-47b2-4792-91f4-1901b73f97ae",
   "metadata": {},
   "outputs": [],
   "source": [
    "# De beírhatsz kifejezést is:\n",
    "print(f\"Ez egy kifejezés: {a + b}\")"
   ]
  },
  {
   "cell_type": "code",
   "execution_count": null,
   "id": "3dd0ec90-ea50-4a29-9cad-617f6baa5900",
   "metadata": {},
   "outputs": [],
   "source": [
    "# A string-konkatenációt is megcsinálhatod így:\n",
    "print(f\"{karakterlanc_eleje}{karakterlanc_vege}\")"
   ]
  },
  {
   "cell_type": "code",
   "execution_count": null,
   "id": "fa53cc2a-6ec0-4f29-ae2b-d75fe3fcfdad",
   "metadata": {},
   "outputs": [],
   "source": [
    "# Hüpsz, megint kimaradt a space.\n",
    "print(f\"{karakterlanc_eleje} {karakterlanc_vege}\")"
   ]
  },
  {
   "cell_type": "code",
   "execution_count": null,
   "id": "38d82d9e-1535-469d-b372-3d59785e287c",
   "metadata": {},
   "outputs": [],
   "source": [
    "# Legyen inkább sortörés?\n",
    "print(f\"{karakterlanc_eleje}\\n{karakterlanc_vege}\")"
   ]
  },
  {
   "cell_type": "markdown",
   "id": "70b7db78-df10-4e97-9b6d-c5a1643e0e4a",
   "metadata": {},
   "source": [
    "### 3. feladat - gyerekek adatai\n",
    "\n",
    "Csinálj egy új Jupyter Notebook-ot, \"gyerekek_adatai.ipynb\" fájlnévvel. Az első cella legyen Markdown, írd le, hogy mit fogsz csinálni a notebook-ban. A második cellába vegyél fel változókat:\n",
    "- Alíz neve: karakterlánc\n",
    "- Alíz kora: egész szám\n",
    "- Alíz súlya: tört szám\n",
    "\n",
    "Csináld meg Benedekre, Lucára is.\n",
    "Írasd ki printtel és formázott karakterlánccal, hogy mennyi a három gyerek együttes súlya és a három gyerek együttes kora."
   ]
  },
  {
   "cell_type": "markdown",
   "id": "f967a985-c2be-4ad2-9d67-01797cf3c003",
   "metadata": {},
   "source": [
    "## 1.3 Feltételes utasítások (if-else)\n",
    "\n",
    "Az if pythonban így néz ki:"
   ]
  },
  {
   "cell_type": "code",
   "execution_count": null,
   "id": "6901154d-5e80-4290-8dbc-9416471438c3",
   "metadata": {},
   "outputs": [],
   "source": [
    "logikai_ertek = True\n",
    "masik_logikai_ertek = False\n",
    "\n",
    "if logikai_ertek:\n",
    "    print(\"Az egyik logikai érték igaz (True) volt.\")\n",
    "    print(\"Nagyon boldog vagyok!\")\n",
    "else:\n",
    "    print(\"Az egyik logikai érték hamis (False) volt.\")\n",
    "    print(\"Kicsit elszomorodtam emiatt.\")\n",
    "\n",
    "if masik_logikai_ertek:\n",
    "    print(\"A másik logikai érték igaz (True) volt.\")\n",
    "else:\n",
    "    print(\"A másik logikai érték hamis (False) volt.\")\n"
   ]
  },
  {
   "cell_type": "markdown",
   "id": "72406180-5ce4-46c4-895c-25e0bc071f5b",
   "metadata": {},
   "source": [
    "Az if egy összetett utasítás, ami annyit jelent, hogy az if-en belül több sornyi kódot is írhatunk (azaz egy kód blokkot).\n",
    "\n",
    "A kód blokkot behúzással különbötetjük meg. Általában 4 space-szel szoktunk behúzni, de van aki 2-vel szokott (google kódjainál általában). A behúzásnál használhatsz Tab-ot is, ezt Jupyter automatikusan kicseréli neked 4 space-re.\n",
    "\n",
    "Arra figyelj csak, hogy ha a kódod egyik részénél 4-gyel húztál be, akkor mindenhoz 4-gyel vagy 4 többszörösével kell behúznod:"
   ]
  },
  {
   "cell_type": "code",
   "execution_count": null,
   "id": "c0230415-953c-4ec4-a72e-5b11ea33c25b",
   "metadata": {},
   "outputs": [],
   "source": [
    "if logikai_ertek:\n",
    "    # Az első if-ben 4-gyel húztunk be\n",
    "    print(\"Az egyik logikai érték igaz volt.\") \n",
    "    # az if-be beágyazhatunk egy második if szintet is:\n",
    "    if masik_logikai_ertek:\n",
    "        # Itt már 8-cal húzunk be.\n",
    "        print(\"A másik is igaz, ettől nagyon boldog vagyok\")\n",
    "        print(\"Teljesen fel vagyok dobódva!!!!\")\n",
    "    else:\n",
    "        print(\"A másik sajnos hamis volt.\")\n",
    "        print(\"Hát ennél jobb is lehetett volna.\")\n",
    "else:\n",
    "    print(\"Nem is igaz\")"
   ]
  },
  {
   "cell_type": "code",
   "execution_count": null,
   "id": "07700303-a1d9-4eb0-9195-dd17456631db",
   "metadata": {},
   "outputs": [],
   "source": [
    "# A logikai értékeket ritkán tesszük változókba. Az if-be beírhatsz kifejezéseket is\n",
    "if a == b:  # Dupla egyenlőség jel az összehasonlító egyenlő. A szimpla az változó érték-hozzárendelés\n",
    "    print(f\"{a} egyenlő volt {b}-vel\")\n",
    "\n",
    "# Ezek a logikai operátorok vannak:\n",
    "# Egyenlő: ==\n",
    "# Nem egyenlő: !=\n",
    "# Nagyobb-kisebb: <>\n",
    "# Nagyobb-egyenlő, kisebb-egyenlő: >=  <="
   ]
  },
  {
   "cell_type": "code",
   "execution_count": null,
   "id": "43b89431-495f-406e-a653-5a163c11494b",
   "metadata": {},
   "outputs": [],
   "source": [
    "# Ezen kívül van még and, or:\n",
    "if a == b and b <= 1 and a <= 1:\n",
    "    print(\"Ez egy összetettebb logikai vizsgálat\")"
   ]
  },
  {
   "cell_type": "code",
   "execution_count": null,
   "id": "657f80a6-f860-4fa3-8f61-2708dd67792f",
   "metadata": {},
   "outputs": [],
   "source": [
    "# Lehet elif-fel más elágazásokat is csinálni. Ezek egymás után értékelődnek ki,\n",
    "# azaz ha az előbbi if/elif ágba belefutunk, a többit elif ágat (és az else ágat is) át fogjuk ugrani.\n",
    "if a < 0:\n",
    "    print(\"'a' negatív\")\n",
    "elif a == 0:\n",
    "    print(\"'a' nulla\")\n",
    "elif a > 0 and a < 1:\n",
    "    print(\"'a' nulla és egy közötti érték\")\n",
    "elif a == 1:\n",
    "    print(\"'a' pontosan eggyel egyenlő\")\n",
    "elif b == 1:\n",
    "    print(\"Ez az ág hiába igaz. Mivel a == 1-be belefutunk, ezt át fogjuk ugrani\")\n",
    "else:\n",
    "    print(\"'a' 1-nél nagyobb pozitív szám\")\n",
    "# if/elif/else esetében mindig csak az egyik ága fog lefutni a programnak."
   ]
  },
  {
   "cell_type": "markdown",
   "id": "fbf2c7d6-d1c0-458d-b85b-38bbf833ec12",
   "metadata": {},
   "source": [
    "### 4. feladat - kvíz\n",
    "Oldd meg a hf_kviz.ipynb feladatot."
   ]
  },
  {
   "cell_type": "markdown",
   "id": "d4c61549-fdb6-4c3b-910c-8bddee380a17",
   "metadata": {},
   "source": [
    "## 1.4 Összetett adattípusok\n",
    "\n",
    "A string, egész (int), lebegőpontos tört (float) egyszerű adattípusok. Az összetett adattípusok általában valamilyen tárolók, amiben más adatokat tudunk eltenni."
   ]
  },
  {
   "cell_type": "markdown",
   "id": "8f8b0a7d-d997-4c0d-a5d9-e95d8441551f",
   "metadata": {},
   "source": [
    "### Listák (list)\n",
    "\n",
    "A listák sorba rendezett elemek, amik bármilyen típusba tartozhatnak."
   ]
  },
  {
   "cell_type": "code",
   "execution_count": null,
   "id": "5b7be655-5ac9-4727-af8a-2cab378cd0f5",
   "metadata": {},
   "outputs": [],
   "source": [
    "# Python lista\n",
    "ez_ures_lista = []\n",
    "ebbe_vannak_dolgok = [1, 2, 3, 4]  # ebben 4 int van\n",
    "kevert_tipusok = [1, 0.0, \"string\"]  # lehet keverni a típusokat. Más programnyelveken ez nem mindig lehetséges."
   ]
  },
  {
   "cell_type": "code",
   "execution_count": null,
   "id": "6b94d600-d728-4005-a5d3-a05c315d7bc7",
   "metadata": {},
   "outputs": [],
   "source": [
    "# A listával tudunk csinálni dolgokat:\n",
    "kevert_lista_hossza = len(kevert_tipusok)  # len() függvény lekéri a hosszát\n",
    "print(f\"A kevert lista hossza: {kevert_lista_hossza} elem\")\n",
    "\n",
    "# A lista elemeit kikérhetjük a sorszámuk szerint, indexeléssel:\n",
    "# lista_neve[hányadik_elem_kell]. Nullától indexelünk Pythonban.\n",
    "print(f\"A lista első eleme: {kevert_tipusok[0]}\")\n",
    "print(f\"A lista második eleme: {kevert_tipusok[1]}\")\n",
    "print(f\"A lista harmadik eleme: {kevert_tipusok[2]}\")"
   ]
  },
  {
   "cell_type": "code",
   "execution_count": null,
   "id": "44ca3927-78fd-496c-822a-cd2ca983f6ac",
   "metadata": {},
   "outputs": [],
   "source": [
    "# A listát indexelhetjük a vége felől is, negatív számokkal:\n",
    "print(f\"A lista utolsó eleme: {kevert_tipusok[-1]}\")\n",
    "print(f\"A lista utolsó előtti eleme: {kevert_tipusok[-2]}\")"
   ]
  },
  {
   "cell_type": "code",
   "execution_count": null,
   "id": "2113478e-653f-466c-a012-681a68ca4930",
   "metadata": {},
   "outputs": [],
   "source": [
    "# A listának kikérhetjük egy 'szeletét' vagy al-listáját:\n",
    "print(f\"A lista első két eleme: {kevert_tipusok[0:2]}\")\n",
    "# Ennek a szintaxisa a következő:\n",
    "# kapcsos zárójelben [hányadiktól:hányadikig]\n",
    "# Itt oda kell figyelni, mert a 'hányadiktól' elemet megkapjuk, de a 'hányadikig' elemet már nem kapjuk meg."
   ]
  },
  {
   "cell_type": "code",
   "execution_count": null,
   "id": "d98f66bc-332b-41ae-8e1c-733dbac2be1c",
   "metadata": {},
   "outputs": [],
   "source": [
    "# Ha túlindexelünk, hibát kapunk:\n",
    "print(f\"A lista negyedik eleme: {kevert_tipusok[3]}\")"
   ]
  },
  {
   "cell_type": "code",
   "execution_count": null,
   "id": "01f162e3-acfc-4479-8110-7d3df3fda62e",
   "metadata": {},
   "outputs": [],
   "source": [
    "# Hossza van a stringeknek is:\n",
    "print(f\"Nagyon hosszú string hossza (amit ezelőtt pár cellával csináltunk): {len(nagyon_hosszu_string)}\")\n",
    "# A string hossza a karakterek számát adja vissza."
   ]
  },
  {
   "cell_type": "code",
   "execution_count": null,
   "id": "0703bb1e-8397-4c6d-85b4-a8cdfa0b831c",
   "metadata": {},
   "outputs": [],
   "source": [
    "# A listába tudunk elemeket tenni a létrehozása után is\n",
    "meghivottak = [\"Misi\", \"Azuma\"]\n",
    "print(f\"Lista kinézete append előtt: {meghivottak}\")\n",
    "meghivottak.append(\"Benji\")  # Az append hozzáfűz a lista végéhez egy elemet.\n",
    "print(f\"Lista kinézete append után: {meghivottak}\")\n",
    "meghivottak.extend([\"Hege\", \"Hege fura nője\", \"Gergő\", \"Fanni\"]) # Az extend összefűz két listát. A sorrendeket megtartja.\n",
    "print(f\"Lista kinézete extend után: {meghivottak}\")"
   ]
  },
  {
   "cell_type": "code",
   "execution_count": null,
   "id": "8bb34d42-30b8-4c61-ba0c-664b8daf39b5",
   "metadata": {},
   "outputs": [],
   "source": [
    "# A lista elemeit tudjuk módosítani\n",
    "meghivottak[2] = \"Bendzsi\"  # A harmadik elemet helyben kicseréltem\n",
    "print(f\"Lista kinézete a csere után: {meghivottak}\")\n",
    "del meghivottak[2]  # A del kulcsszóval törölni tudunk. Ez kitörli a harmadik elemet.\n",
    "print(f\"Lista kinézete a törlés után: {meghivottak}\")\n",
    "# A listát tudjuk rendezni kétféle képpen.\n",
    "# A sorted() függvény békénhagyja az eredeti listát és visszaad egy másolatot belőle, a rendezett elemekkel:\n",
    "rendezett_lista = sorted(meghivottak) \n",
    "print(f\"rendezett_lista kinézete: {rendezett_lista}\")\n",
    "\n",
    "# A másik módszer, hogy helyben rendezzük a listát a .sort() metódussal:\n",
    "print(f\"Lista kinézete rendezés előtt: {meghivottak}\")\n",
    "meghivottak.sort()\n",
    "print(f\"Lista kinézete rendezés után: {meghivottak}\")"
   ]
  },
  {
   "cell_type": "markdown",
   "id": "b67de006-2447-4e6d-bce9-585b2ec88e2b",
   "metadata": {},
   "source": [
    "### Szótárak (dictionary)\n",
    "\n",
    "A szótárak kulcs: érték párokat tartalmaznak, amik egymáshoz vannak rendelve. Ezeket is indexelhetjük, de nem sorrend alapján, hanem egy értéket kérhetünk ki a kulcsa alapján:"
   ]
  },
  {
   "cell_type": "code",
   "execution_count": null,
   "id": "25d80201-ceac-42b9-a8ed-bee89476591d",
   "metadata": {},
   "outputs": [],
   "source": [
    "ez_ures_dict = {}  # dict-eket kapcsos zárójellel jelöljük\n",
    "don_pepe_adatok = {\"név\": \"Don Pepe\", \"margarita_ár\": 2100, \"almalé_ár\": 800}\n",
    "\n",
    "# Nagyobb dicteket érdemes több sorba kiírni, így jobban átlátható.\n",
    "# Zárójeleken belül a Python engedi a sortörés használatát.\n",
    "konrado_adatok = {\n",
    "    \"név\": \"Konrádó\",  # a szótárnak kulcs: érték párok az elemei\n",
    "    \"margarita_ár\": 1500,  # bal oldalt van a kulcs (key), jobb oldalt az érték (value)\n",
    "    \"almalé_ár\": 700,  # vesszővel választjuk el az elemeket\n",
    "    \"pontszám\": 7.5,\n",
    "}"
   ]
  },
  {
   "cell_type": "code",
   "execution_count": null,
   "id": "75a0bb66-ad99-47ac-98b4-f7e7f034114c",
   "metadata": {},
   "outputs": [],
   "source": [
    "print(konrado_adatok)\n",
    "print(f\"Az almalé ára a Konrádóban: {konrado_adatok[\"almalé_ár\"]}\")  # dict-eket a kulccsal indexeljük."
   ]
  },
  {
   "cell_type": "code",
   "execution_count": null,
   "id": "f6a56d4a-73f6-4c25-8935-573bc79c83c9",
   "metadata": {},
   "outputs": [],
   "source": [
    "# Utólag is tehetünk bele adatot:\n",
    "print(f\"Don Pepe dict módosítás előtt: {don_pepe_adatok}\")\n",
    "don_pepe_adatok[\"pontszám\"] = 7\n",
    "print(f\"Don Pepe dict módosítás után: {don_pepe_adatok}\")"
   ]
  },
  {
   "cell_type": "code",
   "execution_count": null,
   "id": "de0fcdc1-9a3e-4c95-91d0-43ac822a4ab1",
   "metadata": {},
   "outputs": [],
   "source": [
    "# Bár a python megtartja a dictben a párok sorrendjét, de a dict-eket nem lehet sorrend alapján indexelni:\n",
    "don_pepe_adatok[0]  # úgy veszi, hogy 0 kulcsot szeretnénk, de ilyen kulcs nincs ebben a dict-ben."
   ]
  },
  {
   "cell_type": "code",
   "execution_count": null,
   "id": "c9d55ea2-94f2-4203-a2c0-fc99ca0f7fe7",
   "metadata": {},
   "outputs": [],
   "source": [
    "# Érték alapján sem lehet indexelni:\n",
    "don_pepe_adatok[7]"
   ]
  },
  {
   "cell_type": "code",
   "execution_count": null,
   "id": "147d615b-495e-49ea-8739-b873ca47d150",
   "metadata": {},
   "outputs": [],
   "source": [
    "# Ellenben a dictek és listák tetszőlegesen kombinálhatóak önmagukkal is és egymással is:\n",
    "\n",
    "pizza_adatok_listaba_teve = [don_pepe_adatok, konrado_adatok]\n",
    "print(pizza_adatok_listaba_teve)\n",
    "\n",
    "pizza_adatok_dictbe_teve = {\n",
    "    \"Konrádó adatok\": konrado_adatok,\n",
    "    \"Don Pepe adatok\": don_pepe_adatok,\n",
    "}\n",
    "print(pizza_adatok_dictbe_teve)"
   ]
  },
  {
   "cell_type": "code",
   "execution_count": null,
   "id": "79d3a3ee-b351-46b7-8578-b6a72b235776",
   "metadata": {},
   "outputs": [],
   "source": [
    "# Ezek a listában dictek és dictben dictek már csúnyák kiprintelve.\n",
    "# A Python ezért ad egy Pretty Print könyvtárat, ami szépen formázva ki tudja őket íratni.\n",
    "# Így tudsz könyvtárat behúzni:\n",
    "import pprint  # ez a Pretty Print könyvtár\n",
    "pprint.pprint(pizza_adatok_dictbe_teve)  # itt használjuk a pprint könyvtár pprint függvényét: pprint.pprint()"
   ]
  },
  {
   "cell_type": "code",
   "execution_count": null,
   "id": "eb6f2fc1-0c06-4cf3-9e38-e9ea24c1cf5a",
   "metadata": {},
   "outputs": [],
   "source": [
    "pprint.pprint(pizza_adatok_listaba_teve)"
   ]
  },
  {
   "cell_type": "code",
   "execution_count": null,
   "id": "9131bed8-5818-4086-aa02-6952c0ad9fc9",
   "metadata": {},
   "outputs": [],
   "source": [
    "# Gyarkan előfordul, hogy nem tudjuk előre, hogy egy dictben szerepel-e valamilyen kulcs.\n",
    "# Ezt le tudjuk ellenőrizni:\n",
    "kulcs = \"próbáltuk\"\n",
    "print(\"Don Pepe adatok futtatás előtt:\")\n",
    "pprint.pprint(don_pepe_adatok)\n",
    "if kulcs in don_pepe_adatok:  # Az 'in' kulcsszóval tudjuk csekkolni, hogy valami szerepel-e valami másban.\n",
    "    print(f\"A kulcs: '{kulcs}' szerepel a Don Pepe dictben.\")\n",
    "else:\n",
    "    print(f\"A kulcs: '{kulcs}' nem szerepel a Don Pepe dictben. Most beleteszem.\")\n",
    "    don_pepe_adatok[kulcs] = False\n",
    "print(\"Don Pepe adatok futtatás után:\")\n",
    "pprint.pprint(don_pepe_adatok)"
   ]
  },
  {
   "cell_type": "markdown",
   "id": "d51fca64-60ff-4549-853c-375a1f0ab96e",
   "metadata": {},
   "source": [
    "### 5. feladat - meghívottak\n",
    "Oldd meg a hf_meghivottak.ipynb feladatot."
   ]
  },
  {
   "cell_type": "markdown",
   "id": "b593c6d9-db12-4a9d-9c44-741bf5964580",
   "metadata": {},
   "source": [
    "## 1.5 Függvények\n",
    "\n",
    "Nagyon gyakran szükség lehet arra, hogy egy kódrészt, amit megírtunk, újrahasználjuk. Erre ad lehetőséget a függvények definíciója. A függvény egy olyan kódrészlet, amit elnevezünk és elmentünk egy változóba, hogy később újra meghívhassuk."
   ]
  },
  {
   "cell_type": "code",
   "execution_count": null,
   "id": "8861d3c9-3469-4029-aaf0-cf006b230053",
   "metadata": {},
   "outputs": [],
   "source": [
    "# Pythonban sok hasznos beépített függvény van:\n",
    "szam_lista = [1, 2, 4, 8, 16, 32]\n",
    "print(f\"A lista szummája: {sum(szam_lista)}\")  # sum() függvény\n",
    "print(f\"A lista hossza: {len(szam_lista)}\")  # len() függvény\n",
    "print(f\"A lista átlaga: {sum(szam_lista) / len(szam_lista)}\")  # Átlag számítás két függvénnyel"
   ]
  },
  {
   "cell_type": "code",
   "execution_count": null,
   "id": "542813b5-beb3-4896-8876-ed22a7566464",
   "metadata": {},
   "outputs": [],
   "source": [
    "# Ez a kódrész létrehoz egy új függvényt.\n",
    "# Függvény neve furcsa_kivalaszto lesz.\n",
    "# A függvénynek 2 bemenete van.\n",
    "# A bemeneteket paramétereknek vagy argumentumoknak szoktuk nevezni.\n",
    "# A függvény visszatérhet valamivel, jelen esetben a nagyobb méretű paraméterrel.\n",
    "# Speciális esetben nullával tér vissza.\n",
    "\n",
    "def furcsa_kivalaszto(elso_parameter, masodik_parameter):\n",
    "    if elso_parameter > masodik_parameter:\n",
    "        return elso_parameter\n",
    "    elif masodik_parameter > elso_parameter:\n",
    "        return masodik_parameter\n",
    "    else:  # Ha egyenlők\n",
    "        return 0"
   ]
  },
  {
   "cell_type": "code",
   "execution_count": null,
   "id": "8d52900e-efbf-48c7-920f-4f80268d40e4",
   "metadata": {},
   "outputs": [],
   "source": [
    "a = 1\n",
    "b = 2\n",
    "\n",
    "# Meghívjuk a függvényt:\n",
    "c = furcsa_kivalaszto(a, b)\n",
    "print(f\"A függvény ezzel tért vissza: {c}\")"
   ]
  },
  {
   "cell_type": "code",
   "execution_count": null,
   "id": "6cd169dd-436d-4387-aca4-b7e1b69a5539",
   "metadata": {},
   "outputs": [],
   "source": [
    "# A függvényt meghívhatjuk helyben létrehozott bemeneti paraméterekkel is:\n",
    "c = furcsa_kivalaszto(2, 2)\n",
    "print(f\"A függvény ezzel tért vissza: {c}\")"
   ]
  },
  {
   "cell_type": "markdown",
   "id": "0a558618-42d9-4a34-9234-9d962e449ff1",
   "metadata": {},
   "source": [
    "Azáltal, hogy definiáltuk a `furcsa_kivalaszto` függvényt, kaptunk egy kódrészletet, amit mindig újrahasználhatunk. Ha nem lenne definiálva ez a függvény, a hosszú if-elif-else elágazást minden cellába újra bele kellene írnunk.\n",
    "\n",
    "Függvények használatával a kódunk rövidebb és fenntarthatóbb - tegyük fel, hogy hibát találunk az if-elif-else kódrészben. Ha nem lenne kiemelve egy függvénybe, minden cellában módosítanunk kellene a kódot. Így viszont csak simán módosítjuk a függvényt és máris minden cellában módosul a működése."
   ]
  },
  {
   "cell_type": "markdown",
   "id": "90af28b1-d8fc-47be-8457-4b642c675fee",
   "metadata": {},
   "source": [
    "## 1.6 Objektumok\n",
    "\n",
    "Programozásban legtöbbször az a feladatunk, hogy a való világot leképezzük egy programban. Ennek az egyik módja az objektumok használata. A való életben a dolgoknak lehetnek tulajdonságai (adatok), illetve a valós dolgok tudhatnak csinálni valamit (függvények).\n",
    "\n",
    "Ha objektumokkal dolgozunk, említést kell tennünk a típusokról vagy más nével osztályokról is. Az egy típusba tartozó objektumok hasonlítanak egymásra. Íme egy egyszerű példa:\n",
    "\n",
    "Típus neve: kutya\n",
    "Tulajdonságok: fajta, testsúly, marmagasság, orr_hossz, barátságosság\n",
    "Képességek: ugatás, ugrálás, futás, gyaloglás\n",
    "\n",
    "Konkrét kutya típusú objektumok a való életben például: Berci, Molli, Fifi, stb.\n",
    "\n",
    "Figyeld meg, hogy minden 'kutya' típusú objektumnak vannak említett tulajdonságai, bár a tulajdonságok konkrét értéke eltérhet közöttük:\n",
    "- Bercinek van fajtája: utcai vegyes\n",
    "- Mollinak van fajtája: skót juhász\n",
    "\n",
    "A képességek esetében is hasonló dolgot figyelünk meg.\n",
    "- Berci tud ugatni\n",
    "- Molli is tud ugatni, de másképp ugat, mint Berci.\n",
    "\n",
    "stb.\n",
    "\n",
    "Berci egy olyan objektum, aminek a típusa kutya.\n",
    "\n",
    "A kutya típusnak egy példánya Berci.\n",
    "\n",
    "A típushoz képest az objektum egy *konkrétabb* dolog: megvannak a tulajdonságai és azoknak konkrét értékei vannak.\n",
    "\n",
    "Az objektumhoz képest a típus egy *absztraktabb* dolog: tudjuk mik a tulajdonságai, de nem tudjuk, hogy azoknak mik az értékei.\n",
    "\n",
    "Amikor egy típust példányosítunk (azaz objektumok készítunk belőle), konkretizáljuk.\n",
    "\n",
    "Amikor objektumokat összevonunk (leírunk) egy típusba, absztraháljuk őket."
   ]
  },
  {
   "cell_type": "markdown",
   "id": "652551bc-fff1-44eb-8af6-7980a10792e3",
   "metadata": {},
   "source": [
    "### Osztályok"
   ]
  },
  {
   "cell_type": "code",
   "execution_count": null,
   "id": "bfa97310-1e3a-46bf-a7a5-544ce79c98fe",
   "metadata": {},
   "outputs": [],
   "source": [
    "# Pythonban a típus és az osztály szó is használatos, de nagyrészt ugyanazt jelentik.\n",
    "# Itt bemutatom, hogy lehet 'dataclass' típusú osztályt létrehozni.\n",
    "# A dataclass használata tisztábbá teszi a kódot. Később megmutatom, hogy kell\n",
    "# dataclass használata nélkül csinálni, de az kicsit bonyolultabb, nehezebben átlátható.\n",
    "\n",
    "from dataclasses import dataclass\n",
    "\n",
    "@dataclass  # ezzel a sorral jelezzük, hogy dataclass típusú osztályt szeretnénk létrehozni.\n",
    "class Kutya:  # az osztály nevét közmegegyezés szerint nagy betűvel kezdjük.\n",
    "    nev: str  # Itt meg szoktuk jelölni a típusokat, de itt sem muszáj.\n",
    "    fajta: str  \n",
    "    testsuly: float\n",
    "    marmagassag: float\n",
    "    orr_hossz: float\n",
    "    baratsagossag: str\n",
    "\n",
    "    def ugatas(self):\n",
    "        if self.fajta == \"pincsi\":\n",
    "            print(\"VÁVÁVÁVÁVÁVÁVÁVÁVÁVÁÁVÁVÁVÁVÁVÁVÁVÁVÁ\")\n",
    "            return   # Ha ide érünk, megszakad a függvény futása\n",
    "        \n",
    "        # Ez csak akkor fut le, ha nem pincsi volt a fajta.\n",
    "        if self.baratsagossag != \"barátságos\":\n",
    "            print(\"VÁUVÁVÁVÁ\")\n",
    "        else:\n",
    "            if self.testsuly > 50:\n",
    "                print(\"Vufff vvvvvuffff\")\n",
    "            else:\n",
    "                print(\"vá  vá   vá\")\n",
    "\n",
    "    def futas(self):\n",
    "        if self.baratsagossag != \"barátságos\":\n",
    "            self.ugatas()  # Ha nem barátságos, ugat egyet futás előtt.\n",
    "            # Itt nincs return. A barátságos kutya nem fog ugatni, de attól még tovább fut a program.\n",
    "            \n",
    "        if self.testsuly > 50:\n",
    "            print(\"Lassú galoppozás\")\n",
    "        else:\n",
    "            print(\"Skerázás\")"
   ]
  },
  {
   "cell_type": "code",
   "execution_count": null,
   "id": "f859c644-8bcf-483d-99c6-c68391affecb",
   "metadata": {},
   "outputs": [],
   "source": [
    "# Az osztály olyan, mint egy terv, ami megmondja, milyen tulajdonságai\n",
    "# lesznek az objektumainkak, de azok konkrét értékéről még nem mond semmit.\n",
    "\n",
    "# Így tudunk objektumokat példányosítani az osztályunkból:\n",
    "molli = Kutya(nev=\"Molli\", fajta=\"Skót juhász\", testsuly=40.0, marmagassag=1.2, orr_hossz=0.4, baratsagossag=\"barátságos\")\n",
    "\n",
    "# Itt is megtörhetjük a sorokat, hogy átláthatóbb legyen:\n",
    "berci = Kutya(\n",
    "    nev=\"Berci\",\n",
    "    fajta=\"UV\",\n",
    "    testsuly=51.0,\n",
    "    marmagassag=1.3,\n",
    "    orr_hossz=0.2,\n",
    "    baratsagossag=\"nem barátságos\",\n",
    ")"
   ]
  },
  {
   "cell_type": "code",
   "execution_count": null,
   "id": "6ed8985c-7bd3-450f-ace5-5016b65490cd",
   "metadata": {},
   "outputs": [],
   "source": [
    "# Ezután kikérhetjük objektumaink tulajsonságait:\n",
    "\n",
    "print(f\"Molli orrhossza: {molli.orr_hossz}\")\n",
    "print(f\"Berci orrhossza: {berci.orr_hossz}\")"
   ]
  },
  {
   "cell_type": "markdown",
   "id": "6739e302-fec1-42f4-8395-6c90ceb69f04",
   "metadata": {},
   "source": [
    "Láthatod, hogy az orr hossz, mint tulajdonság mindkét objektumnál szerepel, de az értéke más. Ezt a ponttal elválasztott szintaxist tag-hozzáférésnek hívják (member access) és arra használjuk, hogy az objektum belső dolgait manipuláljuk vagy kiolvassuk. Kicsit hasonló ahhoz, ahogy a szótárból kiolvastuk a kulcs-érték párokat:\n",
    "\n",
    "`print(szotar[\"kulcs\"])`\n",
    "\n",
    "Objektumnál ennek a megfelelője:\n",
    "\n",
    "`print(molli.orr_hossz)`\n",
    "\n",
    "Az objektumban eltárolt 'változókat', mint az `orr_hossz`, az objektum vagy az osztály attribútumainak hívják (attributes).\n",
    "\n",
    "Az objektumhoz rendelt függvényeket pedig az objektum metódusainak (methods) hívják."
   ]
  },
  {
   "cell_type": "markdown",
   "id": "ccc56d1d-0e29-4b39-9a4a-f43a6ad4a41a",
   "metadata": {},
   "source": [
    "### Névterek\n",
    "Az objektumok névterek - ez azt jelenti, hogy alárendelt neveket tartalmaznak. A `molli` névtér alá van rendelve az `orr_hossz` név. A névtéren kívül létrehozott változókat (mint a `meghivottak`, `don_pepe_adatok` vagy a `pizza_adatok_dictbe_teve`) az ún. **külső névtérben** hozzuk létre. A `molli` névtéren belüli változók a pont szintaxissal érhetőek el: `molli.orr_hossz`.\n",
    "\n",
    "Külső névtérben van a `molli`, de a `Kutya` osztály, `furcsa_kivalaszto()` függvény és minden, ami nem egy osztályon belül jön létre."
   ]
  },
  {
   "cell_type": "code",
   "execution_count": null,
   "id": "e03ea00e-5b1e-4a4f-84a4-d9d933508c75",
   "metadata": {},
   "outputs": [],
   "source": [
    "# A névterek átjárhatóak. Egy belső névtér mindig név szerint látja a külsőbb névtér változóit\n",
    "\n",
    "\n",
    "kulso_valtozo = \"külső\"\n",
    "\n",
    "\n",
    "def fuggveny(parameter):\n",
    "    belso_valtozo = \"belső\"\n",
    "    print(f\"A belső létrejött. A változó értéke: {belso_valtozo}\")\n",
    "    print(f\"Paraméter értéke: {parameter}\")\n",
    "    print(f\"Látom a külső változót is: {kulso_valtozo}\")\n",
    "\n",
    "\n",
    "# Ne felejtsd, hogy a függvény felső definíció nem futtatja le a függvényt, csak létrehozza.\n",
    "# Ha futtatni szeretnéd, külön meg kell hívni.\n",
    "fuggveny(parameter=\"meglepi\")  # a 'parameter' a függvény belső névteréhez tartozik.\n",
    "\n",
    "print(f\"Külső változó értéke: {kulso_valtozo}\")"
   ]
  },
  {
   "cell_type": "code",
   "execution_count": null,
   "id": "606ba725-9a41-4fa5-9326-4916b6255b23",
   "metadata": {},
   "outputs": [],
   "source": [
    "print(f\"Nem látom a belső változót... {belso_valtozo}\")"
   ]
  },
  {
   "cell_type": "code",
   "execution_count": null,
   "id": "0b43928f-f7de-4ed0-bc92-230549211512",
   "metadata": {},
   "outputs": [],
   "source": [
    "print(f\"Sőt, a 'parameter' értékéhez sem férek hozzá: {parameter}\")"
   ]
  },
  {
   "cell_type": "markdown",
   "id": "7fbc84ca-a0b3-4043-bd3b-be0113bf3c0b",
   "metadata": {
    "jp-MarkdownHeadingCollapsed": true
   },
   "source": [
    "# 2. Adatelemzés\n",
    "\n",
    "Ebben a fejezetben elkezdünk adatot elemezni. Átnézzük, milyen könyvtárak elérhetőek és kipróbálunk pár elemzési és megjelenítési módszert."
   ]
  },
  {
   "cell_type": "markdown",
   "id": "38f2e7d0-fb2a-4596-adbb-03e8335df9d2",
   "metadata": {},
   "source": []
  },
  {
   "cell_type": "code",
   "execution_count": null,
   "id": "a8591877-a7e3-4e80-8b56-c3f4681264da",
   "metadata": {},
   "outputs": [],
   "source": []
  }
 ],
 "metadata": {
  "kernelspec": {
   "display_name": "Python 3 (ipykernel)",
   "language": "python",
   "name": "python3"
  },
  "language_info": {
   "codemirror_mode": {
    "name": "ipython",
    "version": 3
   },
   "file_extension": ".py",
   "mimetype": "text/x-python",
   "name": "python",
   "nbconvert_exporter": "python",
   "pygments_lexer": "ipython3",
   "version": "3.12.4"
  }
 },
 "nbformat": 4,
 "nbformat_minor": 5
}
