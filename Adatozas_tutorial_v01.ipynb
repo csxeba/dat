{
 "cells": [
  {
   "cell_type": "markdown",
   "id": "ea2ffe9d-eb46-4640-9ad9-76f0a8be740d",
   "metadata": {},
   "source": [
    "# 0. Környezetkezelés\n",
    "\n",
    "Ebben a fejezetben átnézzük, hogy milyen eszközök kellenek ahhoz, hogy a Pythont futtatni és használni tudjuk. Szó lesz a könyvtárakról, csomagokról és a környezetekről, illetve a Jupyter fejlesztői környezetről."
   ]
  },
  {
   "cell_type": "markdown",
   "id": "e597de76-7ffd-4c01-b071-96abe876f4a7",
   "metadata": {},
   "source": [
    "## 0.1 Anaconda környezet kezelő\n",
    "\n",
    "Ahhoz, hogy Python programokat tudjunk írni és futtatni, szükség van egy Python értelmezőre. Magában a Python-t ritkán használjuk, legtöbbször szükség van könytárakra, amiket fel kell telepíteni az értelmező mellé. Mivel a Python-t sokan sok különböző dologra használják, nagyon hasznos, ha el tudunk különíteni többféle futási környezetet. Ezekben más-más könyvtárakat telepíthetünk fel.\n",
    "\n",
    "Alább írok egy szemléletes példát arra, miért kell elkülöníteni a futási környezeteket.\n",
    "\n",
    "*Képzeletben előreugrunk 3 évet az időben. Fifi ekkor már gyakorlott geo-adatelemző egy nagynevű multinál és rengeteget dolgozik otthonról. Fifi mindennapi munkájához teljesen más Python könyvtárak kellenek (ArcPy, GeoPandas), mint Csabi mindennapi munkájához (PyTorch, Scikit-Learn). Az ArcPy-nak Python 3.12-es verziójú értelmezőre van szüksége, a PyTorch-nak viszont Python 3.7-re, így Fifi és Csabi nem tudják ugyanazt a feltelepített Pythont használni -> két külön Python kell nekik.*\n",
    "\n",
    "A fentiek verzió ütközés feloldására a Python-t nem közvetlenül telepítjük a gépre, hanem verziókezelőt vagy környezet menedzsert használunk hozzá. Egy ilyen környezet menedzselő eszköz `conda`.\n",
    "\n",
    "**Pár fontosabb fogalom**:\n",
    "- **Könyvtár** (library vagy lib): előre megírt kódok, függvények, osztályok Pythonhoz különféle alkalmazásokra. Geoinfós Python könyvtárak pl. a fent említett `ArcPy` vagy a `GeoPandas`.\n",
    "- **Csomag** (package): a könyvtárakat becsomagolják, hogy feltelepíthetőek legyenek. Egy csomag több könyvtárat is tartalmazhat, bár ez ritka.\n",
    "- **Csomagkezelő** (package manager): ezzel lehet csomagokat feltelepíteni és így könyvtárakat szerezni. Pl. a `pip` a Python saját csomagkezelője (tehát a Pythonnal együtt jön), de a `conda` is kezel csomagokat.\n",
    "- **Függőség** (dependency): egy általad megírt programok függőségei azok a könyvtárak, amiket használsz a programodban. Egy geoinfós elemzéshez pl. függőség lehet az `ArcPy` könyvtár. A trükk az a dologban, hogy a könyvtáraknak is lehetnek más könyvtár függőségei, pl. a `NumPy` egy olyan könyvtár, ami mátrixokat kezel, ezt nagyon sok adatelemző könyvtár, függetlenül a témától (geoinfós, pénzügyi vagy AI) függőségként megjelöli. Az általad feltelepített könyvtárak függőségeit, illetve azok függőségeit (és azokét és azokét ... satöbbi) automatikusan kezeli neked a csomagkezelő.\n",
    "- **Környezet** (environment): egy általad összerakott python értelmező + hozzá tartozó könyvtárak, azok függőségei és azok függőségei...\n",
    "- **Környezet kezelő** (environment manager): `conda` tud ilyet is. Létrehozza, kilistázza, törli a környezeteket és pl. menedzseli a környezetekben lévő könyvtárak frissítését. `conda`-n kívül van még más ilyen is, pl. `poetry`, `pyenv`.\n",
    "- **Fejlesztő környezet** (development environment: DE vagy IDE): az a program, amiben Python kódot írsz. Ilyen pl. Jupyter, PyCharm vagy VSCode.\n",
    "\n",
    "Tehát összefoglalva, ha dolgozol Pythonnal, lesz egy (vagy több) környezeted. Ezek a környezetek más-más könyvtárakat használnak függőségként. A környezeteket egymástól a `conda` különíti majd el, illetve kezeli őket (frissíti, törli, létrehozza). A környezeteken belül a könyvtárakat csomagok formájában telepítjük fel a csomagkezelővel (`conda install arcpy`) vagy (`pip install geopandas`). Ezeknek a könyvtáraknak a függőségeit automatikusan feltelepíti a csomagkezelő.\n",
    "\n",
    "### Fontosabb conda parancsok\n",
    "\n",
    "- `conda create --name környezet_neve_pl_geoinfo_de_bármi_lehet`: ez létrehoz egy új környezetet. Ez ekkor még üres, nincsenek benne feltelepített könyvtárak.\n",
    "- `conda activate környezet_neve`: aktivál egy környezetet. Aktiválás után minden Python telepítő parancsot a környezeten belül hajt végre.\n",
    "- `conda install könyvtár_neve`: feltelepít egy könyvtárat, pl. arcpy, pandas, jupyter, stb. Automatikusan feltelepíti a könyvtár függőségeit is.\n",
    "- `pip install könyvtár_neve`: a pip a Python saját csomagkezelője, amivel könyvtárakat lehet telepíteni. Ha egy könyvtár conda-val nem elérhető, pip-pel is fel lehet telepíteni. A pip nem tud környezeteket kezelni, viszont ha egy conda környezetben futtatunk pip-es telepítő parancsot, a conda felismeri és csak a környezeten belül telepíti fel a könyvtárat.\n",
    "- `conda env list`: kilistázza, milyen környezetek vannak létrehozva. Ha elfelejtenéd, mi volt a neve valamelyik környezetnek (velem gyakran megesik).\n",
    "- `conda env export > fájlnév.yml`: elmenti a környezetet a megadott fájlba. Ha van egy jó környezeted, azt így exportálhatod és pl. egy másik gépre átviheted.\n",
    "- `conda env create --name környezet_neve --file environment_fájl.yml`: ezzel importálni lehet egy elmentett környezetet, pl. másik gépen vagy újratelepítés után.\n",
    "\n",
    "Ezeket a parancsokat nem kell fejből tudni, de ideírtam a fontosabbak szemléltetésként és esetleg később referenciaként, hogy lásd ha valamit keresel. Az Anaconda oldalán fent van egy puska egy csomó paranccsal, itt éred el: [Anaconda parancsok](https://docs.conda.io/projects/conda/en/latest/_downloads/843d9e0198f2a193a3484886fa28163c/conda-cheatsheet.pdf)\n",
    "\n",
    "Az Anaconda vagy Miniconda feltelepítésekor kapsz minden esetben egy `base` nevű környezetet. Ez Anaconda telepítés esetén már tele van hasznos könyvtárakkal, amik mindenféle adatelemzéshez jók. Miniconda esetében a `base` környezet szinte teljesen üres, csak a Python értelmező van benne, a pip csomagkezelő és a conda környezetkezelő."
   ]
  },
  {
   "cell_type": "markdown",
   "id": "e1339e38-befe-423c-b6bd-2e224ebd5792",
   "metadata": {},
   "source": [
    "### Vizuális példa\n",
    "\n",
    "![kornyezet1_visu](_assets/kornyezet1_pelda.png \"Title\")"
   ]
  },
  {
   "cell_type": "markdown",
   "id": "b63cf6b3-c2b2-4112-a1d9-295998de3835",
   "metadata": {},
   "source": [
    "Tegyük fel, hogy adatelemzésre készülünk. Az táblázatos adatok betöltéséhez és kezeléséhez a `Pandas` könyvtárat szeretnénk használni. Diagrammok megjelenítéséhez pedig a `Seaborn` könyvtárat. Mind a Pandas, mind a Seaborn függőségként igényli a NumPy könyvtár jelenlétét, ami mátrixos adatok tárolását, kezelését végzi. Nekünk az adatelemzéshez közvetlenül nem biztos, hogy kell a NumPy könyvtárt használni, de pl. a Pandas használja a NumPy által biztosított funkciókat a táblázat mátrixként való tárolására, így a NumPy nélkül nem tud működni.\n",
    "\n",
    "A Seaborn ezen felül kéri a MatPlotLib könyvtárat, ami szintén rajzoláshoz, diagrammok készítéséhez van.\n",
    "\n",
    "Láthatod még, hogy minden könyvtárnak van egy verzió száma, ami tovább bonyolítja a képet. Szerencsére a legtöbb esetben a konkrét verziókkal és a könyvtárak függőségeivel nekünk nem kell foglalkozni, azokat automatikusan kezeli a csomagkezelő.\n",
    "\n",
    "A fenti környezetet az alábbi parancsokkal hozhatjuk létre:\n",
    "- `conda create --name adat`: létrehoz egy új (üres) conda környezetet, **adat** néven.\n",
    "- `conda activate adat`: aktiváljuk a környezetet, így minden további telepítő parancs az **adat** környezetben fut le. Ha ezt elmulasztjuk megtenni, akkor a telepítő parancsok a **base** környezetben futnak majd, ami nem feltétlenül kívánatos, jobb a környezeteket elválasztani egymástól.\n",
    "- `conda install pandas seaborn`: feltelepítjük a pandas és seaborn csomagokat, hogy elérhető legyen a Pandas és Seaborn könyvtár.\n",
    "- `conda install jupyter`: végül feltesszük a Jupyter környezetet.\n",
    "\n",
    "Próbaképpen lefuttathatod a fenti parancsokat. A valóságban nem csak a MatPlotLib és NumPy könyvtárak fognak függőségként települni, hanem még rengeteg másik is."
   ]
  },
  {
   "cell_type": "markdown",
   "id": "4564bdf2-f856-432b-9023-a3bb3570e316",
   "metadata": {},
   "source": [
    "### 1. feladat - conda export\n",
    "\n",
    "- Indítsd el a terminált: Start menü -> Anaconda PowerShell Prompt, a `conda` parancs itt működni fog.\n",
    "- Hozz létre egy új környezetet, hazi_feladat_1 néven. Telepítsd fel az alábbi könyvtárakat:\n",
    "- **NumPy**: mátrixok kezelése és mátrix műveletek (lineáris algebra). Csomag neve: `numpy`\n",
    "- **Pandas**: táblázatok beolvasása és műveletek. Csomag neve: `pandas`\n",
    "- **Seaborn**: diagrammok készítése, vizualizálás. Csomag neve: `seaborn`\n",
    "- **Scikit-Learn**: gépi tanulás. Csomag neve: `scikit-learn`\n",
    "- **Jupyter**: fejlesztő környezet, amiben Pythont tudsz írni és futtatni.\n",
    "- Exportáld ki a `conda` környezetet `conda_kornyezet.yml` fájlba.\n",
    "- Küldd át nekem a környezet fájlt."
   ]
  },
  {
   "cell_type": "markdown",
   "id": "edb2a6ea-adb3-4087-ba04-9dd8eab5b3a7",
   "metadata": {},
   "source": [
    "## 0.2 Jupyter notebook-ok\n",
    "\n",
    "A Jupyter egy fejlesztő környezet, amit adattudományban rengeteget használnak. Alapvetően arra jó, hogy a Python kódot cellákba rendezze. Ezeket a cellákat külön-külön futtathatjuk, tetszőleges sorrendben. A celláknak van egy bemeneti része, ahová a kód kerül és ha lefuttatjuk a cellát, alatta létrejön egy kimeneti rész, ahová kiírkálódik minden amit a programunk kiad magából."
   ]
  },
  {
   "cell_type": "code",
   "execution_count": 1,
   "id": "b4378d2c-9c8e-4db7-9b0c-07c7bb19d57d",
   "metadata": {
    "editable": true,
    "slideshow": {
     "slide_type": ""
    },
    "tags": []
   },
   "outputs": [
    {
     "name": "stdout",
     "output_type": "stream",
     "text": [
      "Van bemeneti és kimeneti része is.\n"
     ]
    }
   ],
   "source": [
    "# Ez itt egy komment.\n",
    "# Ez egy kód cella.\n",
    "print(\"Van bemeneti és kimeneti része is.\")\n",
    "# Jelöld ki (vagy lépj bele) és futtasd le ezt a cellát\n",
    "# a Ctrl+Enter lenyomásával vagy a notebook fejlécben a lejátszás gomb megnyomásával\n",
    "# Alulra íródik ki a cella kimenete"
   ]
  },
  {
   "cell_type": "markdown",
   "id": "2859f1ef-b6da-43f4-a44d-914c33af3cea",
   "metadata": {},
   "source": [
    "A kódcellákon kívül használhatsz Markdown cellákat is (mint amilyen ez is). A Markdown egy faék egyszerűségű jelölő nyelv, amivel formázott szöveget tudunk írni. A beviteli mód aktiválásához kattints kétszer erre a cellára és meglátod, milyen jelekkel tudtam előhozni a formázásokat. Olvasási módra váltáshoz pedig futtasd a cellát ctrl+Enter lenyomásával vagy a fejlécben a lejátszás gomb megnyomásával.\n",
    "\n",
    "Ez sima szöveg.\n",
    "\n",
    "*Ez dőlt, csillag karakterek közé írjuk*\n",
    "\n",
    "**Ez félkövér, dupla csillaggal hozzuk létre**\n",
    "\n",
    "`Ezt kódhoz használom, AltGr-7 (backtick) karakterek közé tesszük`\n",
    "\n",
    "- lista, kötőjel + space után írjuk\n",
    "- második elem\n",
    "\n",
    "1. felsorolás, szám + pont + space után írjuk.\n",
    "2. következő elem\n",
    "\n",
    "Kettőskereszt karakterrel tudsz különböző szintű címsorokat létrehozni. Ezek segítik a Notebook átláthatóságát, engedik a Notebook \"összehajtását\", hogy eltűntesd a nem releváns részeket és a tartalomjegyzék használatát is lehetővé teszik, úgyhogy erősen ajánlottak.\n",
    "\n",
    "\\# Első szintű címsor\n",
    "\n",
    "\\#\\# Második szintű címsor\n",
    "\n",
    "\\#\\#\\# Harmadik szintű címsor\n",
    "\n",
    "stb. sok szint lehet.\n",
    "\n",
    "### Ez Címsor 3 (3 kettőskereszt) rendesen megformázva\n",
    "\n",
    "A cellákat futtatni Ctrl+Enter kombinációval tudod, miután kijelölted a cellát (a cella bal szélére kattintasz) vagy belépsz szerkesztő módba (dupla klikk a cellára). A futtatás parancs kód cella esetében futtatja a cellában a kódot, Markdown cella esetében pedig átvált szerkesztő módból a formázott szöveg megjelenítésére.\n",
    "\n",
    "Próbáld ki ezen Markdown cellán, hogy szerkesztő módba változ (dupla klikk bárhol a cella szövegére). Így látni fogod, a különböző formázásokat hogyan hoztam létre."
   ]
  },
  {
   "cell_type": "markdown",
   "id": "a2ea9595-b296-4945-a377-434bf75629bc",
   "metadata": {},
   "source": [
    "### Jupyter és különböző környezetek\n",
    "\n",
    "*Elöljáróban: a Jupyter-t fejlesztő környezetnek hívják. Ebben az esetben a környezet alatt nem ugyanazt értjük, mint a conda környezet alatt. A fejlesztő környezet felület és eszközök a kódoláshoz. A conda környezet: csomagok összessége.*\n",
    "\n",
    "A kavarodás elkerülése végett a fejlesztő környezeteket (development environment) DE-knek szoktuk hívni (pl. Jupyter DE, PyCharm DE), a conda környezeteket pedig röviden csak env-nek szoktuk nevezni (\"létrehozok egy új envet\", \"exportáld a conda envet\").\n",
    "\n",
    "Nyilván szeretnénk, ha különböző Jupyter Notebookjaink esetleg más-más conda envet tudnának használni. Ezt legegyszerűbben úgy tudjuk elérni, ha a használni kívánt envbe feltelepítjük a `jupyter` csomagot:\n",
    "\n",
    "- `conda activate kornyezet_neve`\n",
    "- `conda install jupyter`\n",
    "\n",
    "Ezután a `jupyter lab` parancs elindítja a Jupyter felületét, ahol tudunk létrehozni, törölni, szerkeszteni notebook-okat.\n",
    "\n",
    "Ez a reláció azonban fordított is lehet: elindítunk egy DE-t és a DE-ben aktiváljuk, váltogatjuk az enveket. Ez történik, amikor az Anaconda Navigator-ból elindítjuk a Jupyter Lab applikációt. Az Anaconda Navigator ekkor a `base` environmentből indítja el a Jupyter Lab-ot. A létrehozott Notebook-ok alapból a `base` környezetet és annak könyvtárait fogják látni. Envet váltani ekkor a Notebook jobb felső sarkában is lehet.\n",
    "\n",
    "Ennek a tutorialnak a teljesítéséhez elég lesz az Anaconda base környezet használata, amiben elérhető minden adatelemző csomag, amit használni fogunk."
   ]
  },
  {
   "cell_type": "markdown",
   "id": "3510dc27-ffae-462b-8b2b-78d451f3bed5",
   "metadata": {},
   "source": [
    "### 2. feladat - hello world\n",
    "\n",
    "Csinálj egy új Jupyter Notebook-ot, `hello_world` néven. Az első cellába írj egy címet, majd pár sor szöveget. Használj félkövér, dőlt, lista, stb. formázásokat.\n",
    "\n",
    "A második cella legyen kód cella, amiben kiíratod, hogy \"Hello World!\""
   ]
  },
  {
   "cell_type": "markdown",
   "id": "5088a595-38cf-431d-a6ea-fdb0462c9cfe",
   "metadata": {},
   "source": [
    "# 1. Python alapok\n",
    "\n",
    "A Python nagyon lassú nyelv, ezért csak arra használjuk, hogy a könyvtárak működését koordináljuk vele. Mivel a könyvtárakat nem feltétlenül Pythonban írják, ezért azok lehetnek nagyon gyorsak is (a NumPy könyvtár például C-ben van írva).\n",
    "\n",
    "Ennek ellenére szükség van a nyelv működésének minimális ismeretére, ezt mutatom most be."
   ]
  },
  {
   "cell_type": "markdown",
   "id": "aca64cba-0287-47a8-ac72-a560d04a3ed4",
   "metadata": {},
   "source": [
    "## 1.1 Típusok és változók\n",
    "\n",
    "### Számok"
   ]
  },
  {
   "cell_type": "code",
   "execution_count": 2,
   "id": "a1377a70-b28c-4185-b8f1-86707c506d8d",
   "metadata": {},
   "outputs": [],
   "source": [
    "# Számok\n",
    "\n",
    "a = 1  # a egy változó. Típusa: egész szám (integer, röviden int). Értéke: 1\n",
    "b = 1.0  # b típusa: lebegőpontos tört (floating point, röviden float). Értéke 1.0\n",
    "\n",
    "# Ez a változó definiálás vagy érték-hozzárendelés (variable definition / variable assignement)\n",
    "# Pythonban a változók típusát nem kell kiírni, de opcionálisan lehet megadni típust így:\n",
    "a: int  # Itt megadjuk, hogy 'a' egy int, de nem adunk értéket neki. \n",
    "b: float = 1.0  # Itt megadjuk, hogy 'b' tört szám és értéket is adunk neki.\n",
    "\n",
    "\n",
    "# A típusokkal a Python nem foglalkozik. Később felülírhatjuk a változót bármilyen típussal:\n",
    "a: float = 1  # Nem fog hibát dobni. Sok programnyelv ezt hibaként venné.\n",
    "\n",
    "# Emiatt a típusok megjelölésével nem szoktunk foglalkozni csak legfejlebb nagyobb programok esetén.\n",
    "\n",
    "a + b  # ez az utasítás összeadja a számokat.\n",
    "# A két szám nem ugyanolyan típusú. 'a' egész, 'b' pedig tört.\n",
    "# Szerencsére a Python ezt lekezeli és nem kell az átváltással szórakozni.\n",
    "# A fenti utasítás összeadta a számokat, de az eredménnyel nem csináltunk semmit.\n",
    "# Nem tároltuk el, nem írattuk ki.\n",
    "c = a + b  # Itt eltároljuk az összeadás eredményét egy új változóban.\n",
    "\n",
    "# Műveletek: + - * /\n",
    "# Ezen kívül: ** a hatványozás:\n",
    "d = a ** b\n",
    "# Gyökvonáshoz, szögfüggvényekhez, logaritmushoz már könyvtárakat kell használni."
   ]
  },
  {
   "cell_type": "code",
   "execution_count": 3,
   "id": "f0c93174-b3af-48b0-92e8-2361e88156b6",
   "metadata": {},
   "outputs": [
    {
     "name": "stdout",
     "output_type": "stream",
     "text": [
      "2.0\n",
      "2.0\n",
      "<class 'float'>\n"
     ]
    }
   ],
   "source": [
    "print(c)  # Kiírathatod egy változó értékét a 'print' függvénnyel\n",
    "print(a + b)  # Magát az összeadást is beteheted ide. A python előbb kiértékeli az összeadást,\n",
    "# majd végrehajtja a print függvényt.\n",
    "c_tipusa = type(c)  # lekérjük, milyen típusú c\n",
    "print(c_tipusa)"
   ]
  },
  {
   "cell_type": "markdown",
   "id": "0ff1b6f2-3f57-457e-a9a8-a54a557ea41d",
   "metadata": {
    "editable": true,
    "slideshow": {
     "slide_type": ""
    },
    "tags": []
   },
   "source": [
    "### Változónevek\n",
    "\n",
    "Változónevekben használható karakterek:\n",
    "- kis betűk\n",
    "- nagy betűk\n",
    "- számok (kivéve első karakter)\n",
    "- alsó vonás\n",
    "- ékezetes betűk is használhatóak (de nem ajánlott)\n",
    "- görög betűk is használhatóak (de nem ajánlott)\n",
    "\n",
    "A változókat rendszerint csupa kis betűvel nevezzük el és a szavakat alsó vonással választjuk el egymástól. Ez nem kötelező, de Pythonban ez a konvenció.\n",
    "\n",
    "Tiltott változónevek, amik ütköznek egy nyelvi kulcsszóval, pl. `del`, `def`, `class`, `return`, `if`, `else` stb. A nyelvi kulcsszavakat a Jupyter zöld színnel kiemeli a kód cellákban.\n",
    "\n",
    "Nem tiltott, de nem ajánlott olyan változónevet használni, ami beépített függvény nevével ütközik, pl. `print`, `sum`, `type`, stb."
   ]
  },
  {
   "cell_type": "markdown",
   "id": "db2c140a-8ffc-4a83-9877-6f5de4f72d07",
   "metadata": {},
   "source": [
    "### Karakterláncok"
   ]
  },
  {
   "cell_type": "code",
   "execution_count": 4,
   "id": "6a2fa500-17c7-4543-9f78-1e1d579df66a",
   "metadata": {},
   "outputs": [
    {
     "name": "stdout",
     "output_type": "stream",
     "text": [
      "Ez egy karakterlánc (string). Ebben tárolunk szövegeket.Egyes és kettes idézőjelekkel is létrehozhatod.\n"
     ]
    }
   ],
   "source": [
    "# Érdemes értelmes változónevekkel dolgozni.\n",
    "\n",
    "karakterlanc_eleje = \"Ez egy karakterlánc (string). Ebben tárolunk szövegeket.\"\n",
    "karakterlanc_vege = 'Egyes és kettes idézőjelekkel is létrehozhatod.'\n",
    "\n",
    "# Karakterláncokat összefűzheted (konkatenálhatod) a + operátorral:\n",
    "szoveg = karakterlanc_eleje + karakterlanc_vege\n",
    "\n",
    "print(szoveg)"
   ]
  },
  {
   "cell_type": "markdown",
   "id": "4e40ad7e-a23b-4037-a6f1-9d59b6761cf2",
   "metadata": {},
   "source": [
    "*Ide beékeltem egy Markdown cellát. Ebben formázott szöveg használatával magyarázhatod pl. egy cella működését.*\n",
    "\n",
    "**Ajj!** Egy space karakter hiányzik a két mondat között. Javítsuk ki:"
   ]
  },
  {
   "cell_type": "code",
   "execution_count": 5,
   "id": "d90545be-fe5f-4e6d-8f24-9644743aedc5",
   "metadata": {},
   "outputs": [
    {
     "name": "stdout",
     "output_type": "stream",
     "text": [
      "Ez egy karakterlánc (string). Ebben tárolunk szövegeket. Egyes és kettes idézőjelekkel is létrehozhatod.\n"
     ]
    }
   ],
   "source": [
    "# Konkatenáljuk a szöveg elejét, majd egy \" \" space karaktert, majd a szöveg végét\n",
    "szoveg = karakterlanc_eleje + \" \" + karakterlanc_vege\n",
    "print(szoveg)"
   ]
  },
  {
   "cell_type": "markdown",
   "id": "db8c3b85-eb2e-4f78-a755-67597d999081",
   "metadata": {},
   "source": [
    "*Na ez máris jobban néz ki.*"
   ]
  },
  {
   "cell_type": "code",
   "execution_count": 6,
   "id": "12ad8bf9-f6aa-4824-be82-9423ef72fab3",
   "metadata": {},
   "outputs": [
    {
     "name": "stdout",
     "output_type": "stream",
     "text": [
      "Ez egy karakterlánc (string). Ebben tárolunk szövegeket.\n",
      "Egyes és kettes idézőjelekkel is létrehozhatod.\n"
     ]
    }
   ],
   "source": [
    "# Még jobb lenne sortöréssel. Azt így tudod bevinni:\n",
    "szoveg = karakterlanc_eleje + \"\\n\" + karakterlanc_vege\n",
    "print(szoveg)"
   ]
  },
  {
   "cell_type": "markdown",
   "id": "1899d0b6-5540-4bfa-8625-9017c5e37c39",
   "metadata": {},
   "source": [
    "A vissza-perjel (backslash) mindig valami speciális dolgot jelent a stringen belül. `\\n` jelenti a sortörést."
   ]
  },
  {
   "cell_type": "code",
   "execution_count": 7,
   "id": "ca476be6-5c7c-430b-8a0f-a7ee07bcfe42",
   "metadata": {},
   "outputs": [
    {
     "name": "stdout",
     "output_type": "stream",
     "text": [
      "Ezt akkor használjuk, ha hosszú stringet szeretnénk létrehozni,\n",
      "amiben pl. sortörések is vannak.\n",
      "\n",
      "Rendesen a Python nem engedi az entert a stringen belül, de ha tripla-idézőjellel\n",
      "hozod létre a stringet, akkor magába a szövegbe is üthetsz enterrel sortöréseket.\n"
     ]
    }
   ],
   "source": [
    "# Néha találkozhatsz tripla-idézőjeles szöveggel\n",
    "nagyon_hosszu_string = \"\"\"Ezt akkor használjuk, ha hosszú stringet szeretnénk létrehozni,\n",
    "amiben pl. sortörések is vannak.\n",
    "\n",
    "Rendesen a Python nem engedi az entert a stringen belül, de ha tripla-idézőjellel\n",
    "hozod létre a stringet, akkor magába a szövegbe is üthetsz enterrel sortöréseket.\"\"\"\n",
    "# Itt a hosszú string vége. Figyeld meg, hogy ezt a hosszú stringet eltettem egy változóba.\n",
    "\n",
    "# Itt egy másik hosszú string:\n",
    "'''Egyesek az ilyen stringeket arra is használják, hogy hosszú kommentet írjanak a kódba.\n",
    "Ekkor elhagyható a változó-hozzárendelés.\n",
    "Ez a string nem lesz eltárolva semmilyen változóba, de nincs is rá szükség,\n",
    "mert nem akarjuk használni, csak ideírtuk, mint komment.'''\n",
    "\n",
    "print(nagyon_hosszu_string)  # A változóban eltárolt stringet ki is írathatjuk a kimenetre."
   ]
  },
  {
   "cell_type": "markdown",
   "id": "dc9482a1-93f3-4762-b8ea-5d2ebd25702d",
   "metadata": {},
   "source": [
    "### Más, speciális típusok"
   ]
  },
  {
   "cell_type": "code",
   "execution_count": 8,
   "id": "7868d4c4-dc75-4311-8589-16b3cd92a5c7",
   "metadata": {},
   "outputs": [
    {
     "name": "stdout",
     "output_type": "stream",
     "text": [
      "True\n",
      "False\n",
      "None\n"
     ]
    }
   ],
   "source": [
    "igaz = True  # nagy betűvel írjuk.\n",
    "hamis = False\n",
    "semmi = None  # Ez speciális, de gyakran előjön.\n",
    "print(igaz)\n",
    "print(hamis)\n",
    "print(semmi)"
   ]
  },
  {
   "cell_type": "markdown",
   "id": "437cc746-4c76-4d2b-9ba7-a2b6a8a98eb2",
   "metadata": {},
   "source": [
    "## 1.2 Print függvény"
   ]
  },
  {
   "cell_type": "code",
   "execution_count": 9,
   "id": "20eaf976-e0b7-4553-a492-d9d13d95a94d",
   "metadata": {},
   "outputs": [
    {
     "name": "stdout",
     "output_type": "stream",
     "text": [
      "Ez a program az összeadást mutatja be\n",
      "Összeadtam ezeket a számokat: 1 + 1.0\n",
      "Ezt az eredményt kaptam: 2.0 <- látható, hogy ez egy 'float'.\n"
     ]
    }
   ],
   "source": [
    "# A print nagyon hasznos függvény:\n",
    "print(\"Ez a program az összeadást mutatja be\")\n",
    "print(\"Összeadtam ezeket a számokat:\", a, \"+\", b)  # A vessző helyére a print automatikusan tesz egy space-t.\n",
    "print(\"Ezt az eredményt kaptam:\", c, \"<- látható, hogy ez egy 'float'.\")"
   ]
  },
  {
   "cell_type": "code",
   "execution_count": 10,
   "id": "17de929c-04cc-4d9e-89dd-c45e8d275102",
   "metadata": {},
   "outputs": [
    {
     "name": "stdout",
     "output_type": "stream",
     "text": [
      "Összeadtam 1-t és 1.0-t. Az eredmény: 2.0\n"
     ]
    }
   ],
   "source": [
    "# Még egy koncepciót mutatok, az f-stringeket. Ezek formázott stringek,\n",
    "# ami azt jelenti, hogy a string közepébe beilleszthetünk változókat.\n",
    "# Ezt az esetek 99%-ban a printtel együtt használjuk:\n",
    "print(f\"Összeadtam {a}-t és {b}-t. Az eredmény: {c}\")"
   ]
  },
  {
   "cell_type": "code",
   "execution_count": 11,
   "id": "d8515547-a4e6-46d7-b727-ae0c83ac6c46",
   "metadata": {},
   "outputs": [
    {
     "name": "stdout",
     "output_type": "stream",
     "text": [
      "Ez az 'a' értéke: 1\n"
     ]
    }
   ],
   "source": [
    "# A szintaxis a következő:\n",
    "# A stringet f-fel prefixeljük: f\"\" vagy f''.\n",
    "# A behelyettesítés helyére kapcsos zárójelet teszünk:\n",
    "# f\"blablabla {} blabla\"\n",
    "# A zárójelbe beírhatsz python változót:\n",
    "print(f\"Ez az 'a' értéke: {a}\")"
   ]
  },
  {
   "cell_type": "code",
   "execution_count": 12,
   "id": "07c98213-47b2-4792-91f4-1901b73f97ae",
   "metadata": {},
   "outputs": [
    {
     "name": "stdout",
     "output_type": "stream",
     "text": [
      "Ez egy kifejezés: 2.0\n"
     ]
    }
   ],
   "source": [
    "# De beírhatsz kifejezést is, amit kiértékel a program és az eredményt illeszti be:\n",
    "print(f\"Ez egy kifejezés: {a + b}\")"
   ]
  },
  {
   "cell_type": "code",
   "execution_count": 13,
   "id": "3dd0ec90-ea50-4a29-9cad-617f6baa5900",
   "metadata": {},
   "outputs": [
    {
     "name": "stdout",
     "output_type": "stream",
     "text": [
      "Ez egy karakterlánc (string). Ebben tárolunk szövegeket.Egyes és kettes idézőjelekkel is létrehozhatod.\n"
     ]
    }
   ],
   "source": [
    "# A string-konkatenációt is megcsinálhatod így:\n",
    "print(f\"{karakterlanc_eleje}{karakterlanc_vege}\")"
   ]
  },
  {
   "cell_type": "code",
   "execution_count": 14,
   "id": "fa53cc2a-6ec0-4f29-ae2b-d75fe3fcfdad",
   "metadata": {},
   "outputs": [
    {
     "name": "stdout",
     "output_type": "stream",
     "text": [
      "Ez egy karakterlánc (string). Ebben tárolunk szövegeket. Egyes és kettes idézőjelekkel is létrehozhatod.\n"
     ]
    }
   ],
   "source": [
    "# Hüpsz, megint kimaradt a space.\n",
    "print(f\"{karakterlanc_eleje} {karakterlanc_vege}\")"
   ]
  },
  {
   "cell_type": "code",
   "execution_count": 15,
   "id": "38d82d9e-1535-469d-b372-3d59785e287c",
   "metadata": {
    "editable": true,
    "slideshow": {
     "slide_type": ""
    },
    "tags": []
   },
   "outputs": [
    {
     "name": "stdout",
     "output_type": "stream",
     "text": [
      "Ez egy karakterlánc (string). Ebben tárolunk szövegeket.\n",
      "Egyes és kettes idézőjelekkel is létrehozhatod.\n"
     ]
    }
   ],
   "source": [
    "# Legyen inkább sortörés?\n",
    "print(f\"{karakterlanc_eleje}\\n{karakterlanc_vege}\")"
   ]
  },
  {
   "cell_type": "markdown",
   "id": "70b7db78-df10-4e97-9b6d-c5a1643e0e4a",
   "metadata": {},
   "source": [
    "### 3. feladat - gyerekek adatai\n",
    "\n",
    "Csinálj egy új Jupyter Notebook-ot, \"gyerekek_adatai.ipynb\" fájlnévvel. Az első cella legyen Markdown, írd le, hogy mit fogsz csinálni a notebook-ban. A második cellába vegyél fel változókat:\n",
    "- Alíz neve: karakterlánc\n",
    "- Alíz kora: egész szám\n",
    "- Alíz súlya: tört szám\n",
    "\n",
    "Csináld meg Benedekre, Lucára is.\n",
    "Írasd ki printtel és formázott karakterlánccal, hogy mennyi a három gyerek együttes súlya és a három gyerek együttes kora."
   ]
  },
  {
   "cell_type": "markdown",
   "id": "f967a985-c2be-4ad2-9d67-01797cf3c003",
   "metadata": {},
   "source": [
    "## 1.3 Feltételes utasítások (if-else)\n",
    "\n",
    "Az `if` Pythonban így néz ki:"
   ]
  },
  {
   "cell_type": "code",
   "execution_count": 16,
   "id": "6901154d-5e80-4290-8dbc-9416471438c3",
   "metadata": {},
   "outputs": [
    {
     "name": "stdout",
     "output_type": "stream",
     "text": [
      "Az egyik logikai érték igaz (True) volt.\n",
      "Nagyon boldog vagyok!\n",
      "A másik logikai érték hamis (False) volt.\n"
     ]
    }
   ],
   "source": [
    "igaz_logikai_ertek = True\n",
    "hamis_logikai_ertek = False\n",
    "\n",
    "if igaz_logikai_ertek:\n",
    "    print(\"Az egyik logikai érték igaz (True) volt.\")\n",
    "    print(\"Nagyon boldog vagyok!\")\n",
    "else:\n",
    "    print(\"Az egyik logikai érték hamis (False) volt.\")\n",
    "    print(\"Kicsit elspzomorodtam emiatt.\")\n",
    "\n",
    "if hamis_logikai_ertek:\n",
    "    print(\"A másik logikai érték igaz (True) volt.\")\n",
    "else:\n",
    "    print(\"A másik logikai érték hamis (False) volt.\")"
   ]
  },
  {
   "cell_type": "markdown",
   "id": "72406180-5ce4-46c4-895c-25e0bc071f5b",
   "metadata": {},
   "source": [
    "Az `if` egy **összetett utasítás**, ami annyit jelent, hogy az if-en belül több sornyi kódot is írhatunk (azaz egy kód blokkot).\n",
    "\n",
    "A kód blokkot behúzással különbötetjük meg. Általában 4 space-szel szoktunk behúzni, de van aki 2-vel szokott (google kódjainál általában). A behúzásnál használhatsz Tab-ot is, ezt Jupyter automatikusan kicseréli neked 4 space-re.\n",
    "\n",
    "Arra figyelj csak, hogy ha a kódod egyik részénél 4-gyel húztál be, akkor mindenhol 4-gyel vagy 4 többszörösével kell behúznod:"
   ]
  },
  {
   "cell_type": "code",
   "execution_count": 17,
   "id": "c0230415-953c-4ec4-a72e-5b11ea33c25b",
   "metadata": {},
   "outputs": [
    {
     "name": "stdout",
     "output_type": "stream",
     "text": [
      "Az egyik logikai érték igaz volt.\n",
      "A másik sajnos hamis volt.\n",
      "Hát ennél jobb is lehetett volna.\n"
     ]
    }
   ],
   "source": [
    "if igaz_logikai_ertek:\n",
    "    # Az első if-ben 4-gyel húztunk be\n",
    "    print(\"Az egyik logikai érték igaz volt.\") \n",
    "    # az if-be beágyazhatunk egy második if szintet is:\n",
    "    if hamis_logikai_ertek:\n",
    "        # Itt már 8-cal húzunk be.\n",
    "        print(\"A másik is igaz, ettől nagyon boldog vagyok\")\n",
    "        print(\"Teljesen fel vagyok dobódva!!!!\")\n",
    "    else:\n",
    "        print(\"A másik sajnos hamis volt.\")\n",
    "        print(\"Hát ennél jobb is lehetett volna.\")\n",
    "else:\n",
    "    print(\"Nem is igaz\")"
   ]
  },
  {
   "cell_type": "code",
   "execution_count": 18,
   "id": "07700303-a1d9-4eb0-9195-dd17456631db",
   "metadata": {},
   "outputs": [
    {
     "name": "stdout",
     "output_type": "stream",
     "text": [
      "1 egyenlő volt 1.0-vel\n"
     ]
    }
   ],
   "source": [
    "# A logikai értékeket ritkán tesszük változókba. Az if-be beírhatsz kifejezéseket is\n",
    "if a == b:  # Dupla egyenlőség jel az összehasonlító egyenlő. A szimpla az változó érték-hozzárendelés\n",
    "    print(f\"{a} egyenlő volt {b}-vel\")\n",
    "\n",
    "# Ezek a logikai operátorok vannak:\n",
    "# Egyenlő: ==\n",
    "# Nem egyenlő: !=\n",
    "# Nagyobb-kisebb: <>\n",
    "# Nagyobb-egyenlő, kisebb-egyenlő: >=  <="
   ]
  },
  {
   "cell_type": "code",
   "execution_count": 19,
   "id": "43b89431-495f-406e-a653-5a163c11494b",
   "metadata": {},
   "outputs": [
    {
     "name": "stdout",
     "output_type": "stream",
     "text": [
      "Ez egy összetettebb logikai vizsgálat, de igaz eredményt adott.\n"
     ]
    }
   ],
   "source": [
    "# Ezen kívül van még and, or:\n",
    "if a == b and b <= 1 and a <= 1:\n",
    "    print(\"Ez egy összetettebb logikai vizsgálat, de igaz eredményt adott.\")"
   ]
  },
  {
   "cell_type": "code",
   "execution_count": 20,
   "id": "657f80a6-f860-4fa3-8f61-2708dd67792f",
   "metadata": {
    "editable": true,
    "slideshow": {
     "slide_type": ""
    },
    "tags": []
   },
   "outputs": [
    {
     "name": "stdout",
     "output_type": "stream",
     "text": [
      "'a' pontosan eggyel egyenlő\n"
     ]
    }
   ],
   "source": [
    "# Lehet elif-fel más elágazásokat is csinálni. Ezek egymás után értékelődnek ki,\n",
    "# azaz ha az előbbi if/elif ágba belefutunk, a többit elif ágat (és az else ágat is) át fogjuk ugrani.\n",
    "if a < 0:\n",
    "    print(\"'a' negatív\")\n",
    "elif a == 0:\n",
    "    print(\"'a' nulla\")\n",
    "elif a > 0 and a < 1:\n",
    "    print(\"'a' nulla és egy közötti érték\")\n",
    "elif a == 1:\n",
    "    print(\"'a' pontosan eggyel egyenlő\")\n",
    "elif b == 1:\n",
    "    print(\"Ez az ág hiába igaz. Mivel a == 1-be belefutunk, ezt át fogjuk ugrani\")\n",
    "else:\n",
    "    print(\"'a' 1-nél nagyobb pozitív szám\")\n",
    "# if/elif/else esetében mindig csak az egyik ága fog lefutni a programnak."
   ]
  },
  {
   "cell_type": "markdown",
   "id": "fbf2c7d6-d1c0-458d-b85b-38bbf833ec12",
   "metadata": {},
   "source": [
    "### 4. feladat - kvíz\n",
    "Oldd meg a `hf_kviz` feladatot a `hazi_feladat` mappában."
   ]
  },
  {
   "cell_type": "markdown",
   "id": "d4c61549-fdb6-4c3b-910c-8bddee380a17",
   "metadata": {},
   "source": [
    "## 1.4 Összetett adattípusok\n",
    "\n",
    "A string, egész (int), lebegőpontos tört (float) egyszerű adattípusok. Az összetett adattípusok általában valamilyen tárolók, amiben más adatokat tudunk eltenni."
   ]
  },
  {
   "cell_type": "markdown",
   "id": "8f8b0a7d-d997-4c0d-a5d9-e95d8441551f",
   "metadata": {},
   "source": [
    "### Listák (list)\n",
    "\n",
    "A listák rendezett elemek, amik bármilyen típusba tartozhatnak."
   ]
  },
  {
   "cell_type": "code",
   "execution_count": 21,
   "id": "5b7be655-5ac9-4727-af8a-2cab378cd0f5",
   "metadata": {},
   "outputs": [],
   "source": [
    "# Python lista\n",
    "ez_ures_lista = []\n",
    "ebben_vannak_dolgok = [1, 2, 3, 4]  # ebben 4 int van\n",
    "kevert_tipusok = [1, 0.0, \"szöveg\"]  # lehet keverni a típusokat. Más programnyelveken ez nem mindig lehetséges."
   ]
  },
  {
   "cell_type": "code",
   "execution_count": 22,
   "id": "6b94d600-d728-4005-a5d3-a05c315d7bc7",
   "metadata": {},
   "outputs": [
    {
     "name": "stdout",
     "output_type": "stream",
     "text": [
      "A kevert lista hossza: 3 elem\n",
      "A lista első eleme: 1\n",
      "A lista második eleme: 0.0\n",
      "A lista harmadik eleme: szöveg\n"
     ]
    }
   ],
   "source": [
    "kevert_tipusok = [1, 0.0, \"szöveg\"]\n",
    "\n",
    "# A listával tudunk csinálni dolgokat:\n",
    "kevert_lista_hossza = len(kevert_tipusok)  # len() függvény lekéri a hosszát\n",
    "print(f\"A kevert lista hossza: {kevert_lista_hossza} elem\")\n",
    "\n",
    "# A lista elemeit kikérhetjük a sorszámuk szerint, indexeléssel:\n",
    "# lista_neve[hányadik_elem_kell]. Nullától indexelünk Pythonban.\n",
    "\n",
    "elso_elem = kevert_tipusok[0]\n",
    "print(f\"A lista első eleme: {elso_elem}\")\n",
    "print(f\"A lista második eleme: {kevert_tipusok[1]}\")  # Itt már nem csinálok külön változót\n",
    "print(f\"A lista harmadik eleme: {kevert_tipusok[2]}\")"
   ]
  },
  {
   "cell_type": "code",
   "execution_count": 23,
   "id": "44ca3927-78fd-496c-822a-cd2ca983f6ac",
   "metadata": {},
   "outputs": [
    {
     "name": "stdout",
     "output_type": "stream",
     "text": [
      "A lista utolsó eleme: szöveg\n",
      "A lista utolsó előtti eleme: 0.0\n"
     ]
    }
   ],
   "source": [
    "# A listát indexelhetjük a vége felől is, negatív számokkal:\n",
    "print(f\"A lista utolsó eleme: {kevert_tipusok[-1]}\")\n",
    "print(f\"A lista utolsó előtti eleme: {kevert_tipusok[-2]}\")"
   ]
  },
  {
   "cell_type": "code",
   "execution_count": 24,
   "id": "2113478e-653f-466c-a012-681a68ca4930",
   "metadata": {},
   "outputs": [
    {
     "name": "stdout",
     "output_type": "stream",
     "text": [
      "A lista első két eleme: [1, 0.0]\n"
     ]
    }
   ],
   "source": [
    "# A listának kikérhetjük egy 'szeletét' vagy al-listáját:\n",
    "print(f\"A lista első két eleme: {kevert_tipusok[0:2]}\")\n",
    "# Ennek a szintaxisa a következő:\n",
    "# kapcsos zárójelben [hányadiktól:hányadikig]\n",
    "# Itt oda kell figyelni, mert a 'hányadiktól' elemet megkapjuk, de a 'hányadikig' elemet már nem kapjuk meg."
   ]
  },
  {
   "cell_type": "markdown",
   "id": "44a54555-79ec-4e34-9c82-1c165300ca70",
   "metadata": {},
   "source": [
    "Ha túlindexelünk, hibát kapunk:\n",
    "\n",
    "```python\n",
    "\n",
    "print(f\"A lista negyedik eleme: {kevert_tipusok[3]}\")\n",
    "```"
   ]
  },
  {
   "cell_type": "code",
   "execution_count": 25,
   "id": "01f162e3-acfc-4479-8110-7d3df3fda62e",
   "metadata": {},
   "outputs": [
    {
     "name": "stdout",
     "output_type": "stream",
     "text": [
      "Nagyon hosszú string hossza (amit ezelőtt pár cellával csináltunk): 261\n"
     ]
    }
   ],
   "source": [
    "# Hossza van a stringeknek is:\n",
    "print(f\"Nagyon hosszú string hossza (amit ezelőtt pár cellával csináltunk): {len(nagyon_hosszu_string)}\")\n",
    "# A string hossza a karakterek számát adja vissza."
   ]
  },
  {
   "cell_type": "code",
   "execution_count": 26,
   "id": "0703bb1e-8397-4c6d-85b4-a8cdfa0b831c",
   "metadata": {},
   "outputs": [
    {
     "name": "stdout",
     "output_type": "stream",
     "text": [
      "Lista kinézete append előtt: ['Misi', 'Azuma']\n",
      "Lista kinézete append után: ['Misi', 'Azuma', 'Benji']\n",
      "Lista kinézete extend után: ['Misi', 'Azuma', 'Benji', 'Hege', 'Hege fura nője', 'Gergő', 'Fanni']\n"
     ]
    }
   ],
   "source": [
    "# A listába tudunk elemeket tenni a létrehozása után is\n",
    "meghivottak = [\"Misi\", \"Azuma\"]\n",
    "print(f\"Lista kinézete append előtt: {meghivottak}\")\n",
    "\n",
    "# Az append hozzáfűz a lista végéhez egy elemet.\n",
    "meghivottak.append(\"Benji\")\n",
    "print(f\"Lista kinézete append után: {meghivottak}\")\n",
    "\n",
    "# Az extend összefűz két listát. A sorrendeket megtartja.\n",
    "meghivottak.extend([\"Hege\", \"Hege fura nője\", \"Gergő\", \"Fanni\"])\n",
    "print(f\"Lista kinézete extend után: {meghivottak}\")"
   ]
  },
  {
   "cell_type": "code",
   "execution_count": 27,
   "id": "8bb34d42-30b8-4c61-ba0c-664b8daf39b5",
   "metadata": {},
   "outputs": [
    {
     "name": "stdout",
     "output_type": "stream",
     "text": [
      "Lista kinézete a csere után: ['Misi', 'Azuma', 'Bendzsi', 'Hege', 'Hege fura nője', 'Gergő', 'Fanni']\n",
      "Lista kinézete a törlés után: ['Misi', 'Azuma', 'Hege', 'Hege fura nője', 'Gergő', 'Fanni']\n",
      "rendezett_lista kinézete: ['Azuma', 'Fanni', 'Gergő', 'Hege', 'Hege fura nője', 'Misi']\n",
      "Lista kinézete rendezés előtt: ['Misi', 'Azuma', 'Hege', 'Hege fura nője', 'Gergő', 'Fanni']\n",
      "Lista kinézete rendezés után: ['Azuma', 'Fanni', 'Gergő', 'Hege', 'Hege fura nője', 'Misi']\n"
     ]
    }
   ],
   "source": [
    "# A lista elemeit tudjuk módosítani\n",
    "meghivottak[2] = \"Bendzsi\"  # A harmadik elemet kicseréltem\n",
    "print(f\"Lista kinézete a csere után: {meghivottak}\")\n",
    "del meghivottak[2]  # A del kulcsszóval törölni tudunk. Ez kitörli a harmadik elemet.\n",
    "print(f\"Lista kinézete a törlés után: {meghivottak}\")\n",
    "# A listát tudjuk rendezni kétféle képpen.\n",
    "# A sorted() függvény békénhagyja az eredeti listát és visszaad egy másolatot belőle, a rendezett elemekkel:\n",
    "rendezett_lista = sorted(meghivottak) \n",
    "print(f\"rendezett_lista kinézete: {rendezett_lista}\")\n",
    "\n",
    "# A másik módszer, hogy helyben rendezzük a listát a .sort() metódussal:\n",
    "print(f\"Lista kinézete rendezés előtt: {meghivottak}\")\n",
    "meghivottak.sort()\n",
    "print(f\"Lista kinézete rendezés után: {meghivottak}\")"
   ]
  },
  {
   "cell_type": "code",
   "execution_count": 28,
   "id": "0e2b28e2-80b4-4386-8ef3-fade690490b5",
   "metadata": {},
   "outputs": [
    {
     "name": "stdout",
     "output_type": "stream",
     "text": [
      "[1, 2, [3, 3, 3], 'négy', [5, 5, 5, 5, 'öt']]\n"
     ]
    }
   ],
   "source": [
    "# A listába tehetünk listákat is:\n",
    "kulso_lista = [1, 2]\n",
    "belso_lista1 = [3, 3, 3]\n",
    "belso_lista2 = [5, 5, 5, 5, \"öt\"]\n",
    "kulso_lista.append(belso_lista1)\n",
    "kulso_lista.append(\"négy\")\n",
    "kulso_lista.append(belso_lista2)\n",
    "\n",
    "print(kulso_lista)"
   ]
  },
  {
   "cell_type": "code",
   "execution_count": 29,
   "id": "ce7fb264-277d-45dd-93e9-bef01e252349",
   "metadata": {},
   "outputs": [
    {
     "name": "stdout",
     "output_type": "stream",
     "text": [
      "Külső lista a belsők módosítása előtt:\n",
      "[1, 2, [3, 3, 3], 'négy', [5, 5, 5, 5, 'öt']]\n",
      "Módosítom a belső listát\n",
      "Belső lista most így néz ki:\n",
      "[3, 'három', 3]\n",
      "A külső listán belül is látszik ez a változás:\n",
      "[1, 2, [3, 'három', 3], 'négy', [5, 5, 5, 5, 'öt']]\n"
     ]
    }
   ],
   "source": [
    "# Fontos, hogy a lista elemei referenciák, azaz csak rámutatnak egy adatra.\n",
    "# Hadd demonstráljam, ez mit jelent:\n",
    "print(\"Külső lista a belsők módosítása előtt:\")\n",
    "print(kulso_lista)\n",
    "print(\"Módosítom a belső listát\")\n",
    "belso_lista1[1] = \"három\"  # A középső elemet kicserélem\n",
    "print(\"Belső lista most így néz ki:\")\n",
    "print(belso_lista1)\n",
    "print(\"A külső listán belül is látszik ez a változás:\")\n",
    "print(kulso_lista)"
   ]
  },
  {
   "cell_type": "markdown",
   "id": "12ccaeef-fa58-4b27-951c-e3ca4c5cd607",
   "metadata": {},
   "source": [
    "Általánosan igaz minden összetett adattípusra (nem csak a listára), hogy ezeknek az elemei csak mutatók egy másik adatra, így ha a kívül módosítunk valamit, az a módosítás automatikusan érvényesül a lista vagy más adattípus tartalmára."
   ]
  },
  {
   "cell_type": "markdown",
   "id": "b67de006-2447-4e6d-bce9-585b2ec88e2b",
   "metadata": {},
   "source": [
    "### Szótárak (dictionary)\n",
    "\n",
    "A szótárak kulcs: érték párokat tartalmaznak, amik egymáshoz vannak rendelve. Ezeket is indexelhetjük, de nem sorrend alapján, hanem egy értéket kérhetünk ki a kulcsa alapján:"
   ]
  },
  {
   "cell_type": "code",
   "execution_count": 30,
   "id": "25d80201-ceac-42b9-a8ed-bee89476591d",
   "metadata": {},
   "outputs": [
    {
     "name": "stdout",
     "output_type": "stream",
     "text": [
      "{'név': 'Konrádó', 'margarita_ár': 1500, 'almalé_ár': 700, 'pontszám': 7.5}\n"
     ]
    }
   ],
   "source": [
    "ez_ures_dict = {}  # dict-eket kapcsos zárójellel jelöljük\n",
    "don_pepe_adatok = {\"név\": \"Don Pepe\", \"margarita_ár\": 2100, \"almalé_ár\": 800}\n",
    "\n",
    "# Nagyobb dicteket érdemes több sorba kiírni, így jobban átlátható.\n",
    "# Zárójeleken belül a Python engedi a sortörés használatát.\n",
    "konrado_adatok = {\n",
    "    \"név\": \"Konrádó\",  # a szótárnak kulcs: érték párok az elemei\n",
    "    \"margarita_ár\": 1500,  # bal oldalt van a kulcs (key), jobb oldalt az érték (value)\n",
    "    \"almalé_ár\": 700,  # vesszővel választjuk el az elemeket\n",
    "    \"pontszám\": 7.5,\n",
    "}\n",
    "\n",
    "# A kulcsoknak egyedinek kell lennie, azaz nem ismétlődhetnek. Az értékek igen.\n",
    "\n",
    "print(konrado_adatok)"
   ]
  },
  {
   "cell_type": "code",
   "execution_count": 31,
   "id": "75a0bb66-ad99-47ac-98b4-f7e7f034114c",
   "metadata": {},
   "outputs": [
    {
     "name": "stdout",
     "output_type": "stream",
     "text": [
      "Az almalé ára a Konrádóban: 700\n",
      "A Margarita ára a Konrádóban: 1500\n"
     ]
    }
   ],
   "source": [
    "konrado_alma_ar = konrado_adatok[\"almalé_ár\"]  # dict-eket a kulccsal indexeljük.\n",
    "print(f\"Az almalé ára a Konrádóban: {konrado_alma_ar}\")\n",
    "\n",
    "# Itt nem veszem ki külön változóba az értéket.\n",
    "print(f\"A Margarita ára a Konrádóban: {konrado_adatok['margarita_ár']}\")\n",
    "# Figyelj, hogy itt az f-stringen belül egyes idézőjelet kellett használnom.\n",
    "# Ez azért van, mert az f-stringet kettős idézőjellel nyitottam."
   ]
  },
  {
   "cell_type": "code",
   "execution_count": 32,
   "id": "f6a56d4a-73f6-4c25-8935-573bc79c83c9",
   "metadata": {},
   "outputs": [
    {
     "name": "stdout",
     "output_type": "stream",
     "text": [
      "Don Pepe dict módosítás előtt: {'név': 'Don Pepe', 'margarita_ár': 2100, 'almalé_ár': 800}\n",
      "Don Pepe dict módosítás után: {'név': 'Don Pepe', 'margarita_ár': 2100, 'almalé_ár': 800, 'pontszám': 7}\n"
     ]
    }
   ],
   "source": [
    "# Utólag is tehetünk a dict-be adatot:\n",
    "print(f\"Don Pepe dict módosítás előtt: {don_pepe_adatok}\")\n",
    "don_pepe_adatok[\"pontszám\"] = 7\n",
    "print(f\"Don Pepe dict módosítás után: {don_pepe_adatok}\")"
   ]
  },
  {
   "cell_type": "markdown",
   "id": "cd6f43ef-7c9a-4afa-8b10-bc9b227e597b",
   "metadata": {},
   "source": [
    "Bár a python megtartja a dict-ben a párok sorrendjét, de a dict-eket nem lehet sorrend alapján indexelni:\n",
    "\n",
    "```python\n",
    "don_pepe_adatok[0]  # úgy veszi, hogy 0 kulcsot szeretnénk, de ilyen kulcs nincs ebben a dict-ben.\n",
    "```"
   ]
  },
  {
   "cell_type": "markdown",
   "id": "b9ab7fd8-f92f-4e2e-9493-cf73789359cf",
   "metadata": {},
   "source": [
    "Érték alapján sem lehet indexelni:\n",
    "\n",
    "```python\n",
    "don_pepe_adatok[7]\n",
    "```\n",
    "\n",
    "Hiába \"7\" létezik a dict-ben, de az értékek oldalán van, nem a kulcsok oldalán."
   ]
  },
  {
   "cell_type": "code",
   "execution_count": 33,
   "id": "147d615b-495e-49ea-8739-b873ca47d150",
   "metadata": {},
   "outputs": [
    {
     "name": "stdout",
     "output_type": "stream",
     "text": [
      "[{'név': 'Don Pepe', 'margarita_ár': 2100, 'almalé_ár': 800, 'pontszám': 7}, {'név': 'Konrádó', 'margarita_ár': 1500, 'almalé_ár': 700, 'pontszám': 7.5}]\n",
      "{'Konrádó adatok': {'név': 'Konrádó', 'margarita_ár': 1500, 'almalé_ár': 700, 'pontszám': 7.5}, 'Don Pepe adatok': {'név': 'Don Pepe', 'margarita_ár': 2100, 'almalé_ár': 800, 'pontszám': 7}}\n"
     ]
    }
   ],
   "source": [
    "# Ellenben a dictek és listák tetszőlegesen kombinálhatóak önmagukkal is és egymással is:\n",
    "\n",
    "# Íme egy lista, aminek az első eleme is dict és a második eleme is.\n",
    "pizza_adatok_listaba_teve = [don_pepe_adatok, konrado_adatok]\n",
    "print(pizza_adatok_listaba_teve)\n",
    "\n",
    "# Ez egy dict, aminek az értékei dict-ek.\n",
    "pizza_adatok_dictbe_teve = {\n",
    "    \"Konrádó adatok\": konrado_adatok,\n",
    "    \"Don Pepe adatok\": don_pepe_adatok,\n",
    "}\n",
    "print(pizza_adatok_dictbe_teve)"
   ]
  },
  {
   "cell_type": "code",
   "execution_count": 34,
   "id": "79d3a3ee-b351-46b7-8578-b6a72b235776",
   "metadata": {},
   "outputs": [
    {
     "name": "stdout",
     "output_type": "stream",
     "text": [
      "{'Don Pepe adatok': {'almalé_ár': 800,\n",
      "                     'margarita_ár': 2100,\n",
      "                     'név': 'Don Pepe',\n",
      "                     'pontszám': 7},\n",
      " 'Konrádó adatok': {'almalé_ár': 700,\n",
      "                    'margarita_ár': 1500,\n",
      "                    'név': 'Konrádó',\n",
      "                    'pontszám': 7.5}}\n"
     ]
    }
   ],
   "source": [
    "# Ezek a listában dictek és dictben dictek már csúnyák, átláthatatlanok kiprintelve.\n",
    "# A Python ezért ad egy Pretty Print könyvtárat, ami szépen formázva ki tudja őket íratni.\n",
    "# Így tudsz könyvtárat használni:\n",
    "from pprint import pprint  # a Pretty Print könyvtárból importáljuk a 'pprint' függvényt.\n",
    "pprint(pizza_adatok_dictbe_teve)  # Meghívjuk az importált függvényt"
   ]
  },
  {
   "cell_type": "code",
   "execution_count": 35,
   "id": "eb6f2fc1-0c06-4cf3-9e38-e9ea24c1cf5a",
   "metadata": {},
   "outputs": [
    {
     "name": "stdout",
     "output_type": "stream",
     "text": [
      "[{'almalé_ár': 800, 'margarita_ár': 2100, 'név': 'Don Pepe', 'pontszám': 7},\n",
      " {'almalé_ár': 700, 'margarita_ár': 1500, 'név': 'Konrádó', 'pontszám': 7.5}]\n"
     ]
    }
   ],
   "source": [
    "pprint(pizza_adatok_listaba_teve)"
   ]
  },
  {
   "cell_type": "code",
   "execution_count": 36,
   "id": "9131bed8-5818-4086-aa02-6952c0ad9fc9",
   "metadata": {},
   "outputs": [
    {
     "name": "stdout",
     "output_type": "stream",
     "text": [
      "Don Pepe adatok futtatás előtt:\n",
      "{'almalé_ár': 800, 'margarita_ár': 2100, 'név': 'Don Pepe', 'pontszám': 7}\n",
      "A kulcs: 'próbáltuk' nem szerepel a Don Pepe dictben. Most beleteszem.\n",
      "Don Pepe adatok futtatás után:\n",
      "{'almalé_ár': 800,\n",
      " 'margarita_ár': 2100,\n",
      " 'név': 'Don Pepe',\n",
      " 'pontszám': 7,\n",
      " 'próbáltuk': False}\n"
     ]
    }
   ],
   "source": [
    "# Gyarkan előfordul, hogy nem tudjuk előre, hogy egy dictben szerepel-e valamilyen kulcs.\n",
    "# Ezt le tudjuk ellenőrizni:\n",
    "kulcs = \"próbáltuk\"\n",
    "print(\"Don Pepe adatok futtatás előtt:\")\n",
    "pprint(don_pepe_adatok)\n",
    "if kulcs in don_pepe_adatok:  # Az 'in' kulcsszóval tudjuk csekkolni, hogy valami szerepel-e valami másban.\n",
    "    print(f\"A kulcs: '{kulcs}' szerepel a Don Pepe dictben.\")\n",
    "else:\n",
    "    print(f\"A kulcs: '{kulcs}' nem szerepel a Don Pepe dictben. Most beleteszem.\")\n",
    "    don_pepe_adatok[kulcs] = False\n",
    "print(\"Don Pepe adatok futtatás után:\")\n",
    "pprint(don_pepe_adatok)"
   ]
  },
  {
   "cell_type": "markdown",
   "id": "d51fca64-60ff-4549-853c-375a1f0ab96e",
   "metadata": {},
   "source": [
    "### 5. feladat - meghívottak\n",
    "Oldd meg a hf_meghivottak.ipynb feladatot."
   ]
  },
  {
   "cell_type": "markdown",
   "id": "b593c6d9-db12-4a9d-9c44-741bf5964580",
   "metadata": {},
   "source": [
    "## 1.5 Függvények\n",
    "\n",
    "Nagyon gyakran szükség lehet arra, hogy egy kódrészt vagy logikát újrahasználjuk. Erre adnak lehetőséget a függvények. A függvény egy olyan kódrészlet vagy logika, amit elnevezünk és elmentünk egy változóba, hogy később újra meghívhassuk.\n",
    "\n",
    "Alapból a Python nyelv rendelkezik pár egyszerű beépített függvénnyel, melyeket használhatunk:\n",
    "\n",
    "- `print()`: kiíratás a kimenetre, ezt már sokszor használtuk.\n",
    "- `type()`: egy változó típusának lekérése (int, float, dict, list, str, stb.)\n",
    "- `quit()`: megszakítja a program futását, kilép a programból.\n",
    "- `sum()`: szumma, pl. egy lista elemeit összeadja, ha azok mind számok.\n",
    "- `len()`: egy összetett adattípus (lista, dict) vagy string hosszát lekéri\n",
    "- `open()`: megnyit egy fájlt\n",
    "\n",
    "Van még pár beépített függvény, azokat most nem fejtem ki. Ha más, bonyolultabb funkcionalitásra van szükségünk, azt általában egy könyvtárból kell importálnunk."
   ]
  },
  {
   "cell_type": "code",
   "execution_count": 37,
   "id": "8861d3c9-3469-4029-aaf0-cf006b230053",
   "metadata": {},
   "outputs": [
    {
     "name": "stdout",
     "output_type": "stream",
     "text": [
      "A lista szummája: 63\n",
      "A lista hossza: 6\n",
      "A lista átlaga: 10.5\n"
     ]
    }
   ],
   "source": [
    "# Pythonban sok hasznos beépített függvény van:\n",
    "szam_lista = [1, 2, 4, 8, 16, 32]\n",
    "print(f\"A lista szummája: {sum(szam_lista)}\")  # sum() függvény\n",
    "print(f\"A lista hossza: {len(szam_lista)}\")  # len() függvény\n",
    "print(f\"A lista átlaga: {sum(szam_lista) / len(szam_lista)}\")  # Átlag számítás két függvénnyel"
   ]
  },
  {
   "cell_type": "code",
   "execution_count": 38,
   "id": "542813b5-beb3-4896-8876-ed22a7566464",
   "metadata": {},
   "outputs": [],
   "source": [
    "# Ez a kódrész létrehoz egy új függvényt.\n",
    "# Függvény neve furcsa_kivalaszto lesz.\n",
    "# A függvénynek 2 bemenete van.\n",
    "# A bemeneteket paramétereknek vagy argumentumoknak szoktuk nevezni.\n",
    "# A függvény visszatérhet valamivel, jelen esetben a nagyobb méretű paraméterrel.\n",
    "# Speciális esetben nullával tér vissza.\n",
    "\n",
    "def furcsa_kivalaszto(elso_parameter, masodik_parameter):\n",
    "    if elso_parameter > masodik_parameter:\n",
    "        return elso_parameter\n",
    "    elif masodik_parameter > elso_parameter:\n",
    "        return masodik_parameter\n",
    "    else:  # Ha egyenlők\n",
    "        return 0"
   ]
  },
  {
   "cell_type": "code",
   "execution_count": 39,
   "id": "8d52900e-efbf-48c7-920f-4f80268d40e4",
   "metadata": {},
   "outputs": [
    {
     "name": "stdout",
     "output_type": "stream",
     "text": [
      "A függvény ezzel tért vissza: 2\n"
     ]
    }
   ],
   "source": [
    "a = 1\n",
    "b = 2\n",
    "\n",
    "# Meghívjuk a függvényt:\n",
    "c = furcsa_kivalaszto(a, b)\n",
    "print(f\"A függvény ezzel tért vissza: {c}\")"
   ]
  },
  {
   "cell_type": "code",
   "execution_count": 40,
   "id": "6cd169dd-436d-4387-aca4-b7e1b69a5539",
   "metadata": {},
   "outputs": [
    {
     "name": "stdout",
     "output_type": "stream",
     "text": [
      "A függvény ezzel tért vissza: 0\n"
     ]
    }
   ],
   "source": [
    "# A függvényt meghívhatjuk helyben létrehozott bemeneti paraméterekkel is:\n",
    "c = furcsa_kivalaszto(2, 2)\n",
    "print(f\"A függvény ezzel tért vissza: {c}\")"
   ]
  },
  {
   "cell_type": "markdown",
   "id": "0a558618-42d9-4a34-9234-9d962e449ff1",
   "metadata": {},
   "source": [
    "Azáltal, hogy definiáltuk a `furcsa_kivalaszto` függvényt, kaptunk egy kódrészletet, amit mindig újrahasználhatunk. Ha nem lenne definiálva ez a függvény, a hosszú if-elif-else elágazást minden cellába újra bele kellene írnunk.\n",
    "\n",
    "*Függvények használatával a kódunk rövidebb és fenntarthatóbb - tegyük fel, hogy hibát találunk az if-elif-else kódrészben. Ha nem lenne kiemelve az a blokk függvénybe, minden cellában módosítanunk kellene az if-elif-else logikáját. Így viszont csak simán módosítjuk a függvény definícióját és máris minden használatnál a módosult működés érvényesül.*"
   ]
  },
  {
   "cell_type": "markdown",
   "id": "a63a338e-99d4-4ff5-9d83-a9b870c85530",
   "metadata": {
    "editable": true,
    "slideshow": {
     "slide_type": ""
    },
    "tags": []
   },
   "source": [
    "### 6. feladat - kód kiemelése függvénybe\n",
    "\n",
    "Oldd meg a `hazi_feladat/hf_kodkiemeles.ipynb` Notebook-ot."
   ]
  },
  {
   "cell_type": "markdown",
   "id": "90af28b1-d8fc-47be-8457-4b642c675fee",
   "metadata": {},
   "source": [
    "## 1.6 Objektumok\n",
    "\n",
    "Programozásban legtöbbször az a feladatunk, hogy a való világot leképezzük egy programban. Ennek az egyik módja az **objektumok** használata. A való életben a dolgoknak lehetnek tulajdonságai (**attribútumok**, valamiféle tulajdonságok), illetve a valós dolgok tudhatnak csinálni valamit (**metódusok**, valamiféle képességek). Említést kell tennünk a **típusokról** vagy más nével osztályokról is. Az egy típusba tartozó objektumok hasonlítanak egymásra. Íme egy egyszerű példa:\n",
    "\n",
    "**Típus neve**: kutya\n",
    "**Attribútumok**: fajta, testsúly, marmagasság, orr_hossz, barátságosság\n",
    "**Metódusok**: ugatás, ugrálás, futás, gyaloglás\n",
    "\n",
    "Konkrét *kutya* típusú objektumok a való életben például: Berci, Molli, Fifi, stb.\n",
    "\n",
    "Figyeld meg, hogy minden *kutya* típusú objektumnak rendelkezik a felsorolt attribútumokkal, bár az attribútumok konkrét **értéke** eltérhet közöttük:\n",
    "- **Bercinek van fajtája**: utcai vegyes\n",
    "- **Mollinak van fajtája**: skót juhász\n",
    "- **Fifinek van fajtája**: border collie\n",
    "\n",
    "A *metódusok* esetében is hasonló dolgot figyelünk meg.\n",
    "- **Berci tud ugatni**: úgy, hogy váuváuvávuváiuv\n",
    "- **Molli is tud ugatni**: úgy, hogy vá, vá, vá - a lényeg, hogy másképp ugat, mint Berci. \n",
    "\n",
    "stb.\n",
    "\n",
    "Berci egy olyan objektum, aminek a **típusa** kutya.\n",
    "\n",
    "A kutya típusnak egy **példánya** Berci.\n",
    "\n",
    "A **típushoz** képest az **objektum** egy *konkrétabb* dolog: attribútumainak konkrét értékei vannak.\n",
    "\n",
    "Az **objektumhoz** képest a **típus** egy *absztraktabb* dolog: attribútumainak tudjuk a nevét, de nincs konkrét értékük.\n",
    "\n",
    "Amikor egy **típus** alapján **objektumok** készítünk, **példányosítjuk** a típust."
   ]
  },
  {
   "cell_type": "markdown",
   "id": "652551bc-fff1-44eb-8af6-7980a10792e3",
   "metadata": {},
   "source": [
    "### Osztályok"
   ]
  },
  {
   "cell_type": "code",
   "execution_count": 41,
   "id": "bfa97310-1e3a-46bf-a7a5-544ce79c98fe",
   "metadata": {},
   "outputs": [],
   "source": [
    "# Pythonban a típus és az osztály szó is használatos, de nagyrészt ugyanazt jelentik.\n",
    "# Itt bemutatom, hogy lehet 'dataclass' típusú osztályt létrehozni.\n",
    "# A dataclass használata tisztábbá teszi a kódot. Később megmutatom, hogy kell\n",
    "# dataclass használata nélkül csinálni, de az kicsit bonyolultabb, nehezebben átlátható.\n",
    "from dataclasses import dataclass\n",
    "\n",
    "@dataclass  # ezzel a sorral jelezzük, hogy dataclass típusú osztályt szeretnénk létrehozni.\n",
    "class Kutya:  # az osztály nevét közmegegyezés szerint nagy betűvel kezdjük.\n",
    "    # Először felsoroljuk az attribútumokat. Itt általában megjelöljük azok típusait is.\n",
    "    nev: str\n",
    "    fajta: str  \n",
    "    testsuly: float\n",
    "    marmagassag: float\n",
    "    orr_hossz: float\n",
    "    baratsagossag: str\n",
    "\n",
    "    def ugatas(self):\n",
    "        if self.fajta == \"pincsi\":\n",
    "            print(\"VÁVÁVÁVÁVÁVÁVÁVÁVÁVÁÁVÁVÁVÁVÁVÁVÁVÁVÁ\")\n",
    "            return   # Ha ide érünk, megszakad a függvény futása\n",
    "        \n",
    "        # Ez csak akkor fut le, ha nem pincsi volt a fajta.\n",
    "        if self.baratsagossag != \"barátságos\":\n",
    "            print(\"VÁUVÁVÁVÁ\")\n",
    "        else:\n",
    "            if self.testsuly > 50:\n",
    "                print(\"Vufff vvvvvuffff\")\n",
    "            else:\n",
    "                print(\"vá  vá   vá\")\n",
    "\n",
    "    def futas(self):\n",
    "        if self.baratsagossag != \"barátságos\":\n",
    "            self.ugatas()  # Ha nem barátságos, ugat egyet futás előtt.\n",
    "            # Itt nincs return. A barátságos kutya nem fog ugatni, de attól még tovább fut a program.\n",
    "            \n",
    "        if self.testsuly > 50:\n",
    "            print(\"Lassú galoppozás\")\n",
    "        else:\n",
    "            print(\"Skerázás\")"
   ]
  },
  {
   "cell_type": "code",
   "execution_count": 42,
   "id": "f859c644-8bcf-483d-99c6-c68391affecb",
   "metadata": {},
   "outputs": [],
   "source": [
    "# Az osztály olyan, mint egy terv, ami megmondja, milyen tulajdonságai\n",
    "# lesznek az objektumainkak, de azok konkrét értékéről még nem mond semmit.\n",
    "\n",
    "# Így tudunk objektumokat példányosítani az osztályunkból:\n",
    "molli = Kutya(nev=\"Molli\", fajta=\"Skót juhász\", testsuly=40.0, marmagassag=1.2, orr_hossz=0.4, baratsagossag=\"barátságos\")\n",
    "\n",
    "# Itt is megtörhetjük a sorokat, hogy átláthatóbb legyen:\n",
    "berci = Kutya(\n",
    "    nev=\"Berci\",\n",
    "    fajta=\"UV\",\n",
    "    testsuly=51.0,\n",
    "    marmagassag=1.3,\n",
    "    orr_hossz=0.2,\n",
    "    baratsagossag=\"nem barátságos\",\n",
    ")"
   ]
  },
  {
   "cell_type": "code",
   "execution_count": 43,
   "id": "6ed8985c-7bd3-450f-ace5-5016b65490cd",
   "metadata": {},
   "outputs": [
    {
     "name": "stdout",
     "output_type": "stream",
     "text": [
      "Molli orrhossza: 0.4\n",
      "Berci orrhossza: 0.2\n"
     ]
    }
   ],
   "source": [
    "# Ezután kikérhetjük objektumaink tulajsonságait:\n",
    "\n",
    "print(f\"Molli orrhossza: {molli.orr_hossz}\")\n",
    "print(f\"Berci orrhossza: {berci.orr_hossz}\")"
   ]
  },
  {
   "cell_type": "markdown",
   "id": "6739e302-fec1-42f4-8395-6c90ceb69f04",
   "metadata": {},
   "source": [
    "Láthatod, hogy az orr hossz, mint tulajdonság mindkét objektumnál szerepel, de az értéke más. Ezt a ponttal elválasztott szintaxist tag-hozzáférésnek hívják (member access) és arra használjuk, hogy az objektum belső dolgait manipuláljuk vagy kiolvassuk. Kicsit hasonló ahhoz, ahogy a szótárból kiolvastuk a kulcs-érték párokat:\n",
    "\n",
    "`print(szotar[\"kulcs\"])`\n",
    "\n",
    "Objektumnál ennek a megfelelője:\n",
    "\n",
    "`print(molli.orr_hossz)`\n",
    "\n",
    "Az objektumban eltárolt 'változókat', mint az `orr_hossz`, az objektum vagy az osztály attribútumainak hívják (attributes).\n",
    "\n",
    "Az objektumhoz rendelt függvényeket pedig az objektum metódusainak (methods) hívják."
   ]
  },
  {
   "cell_type": "markdown",
   "id": "ccc56d1d-0e29-4b39-9a4a-f43a6ad4a41a",
   "metadata": {},
   "source": [
    "### Névterek\n",
    "Az objektumok névterek - ez azt jelenti, hogy alárendelt neveket tartalmaznak. A `molli` névtér alá van rendelve az `orr_hossz` név. A névtéren kívül létrehozott változókat (mint a `meghivottak`, `don_pepe_adatok` vagy a `pizza_adatok_dictbe_teve`) az ún. **külső névtérben** hozzuk létre. A `molli` névtéren belüli változók a pont szintaxissal érhetőek el: `molli.orr_hossz`.\n",
    "\n",
    "Külső névtérben van a `molli`, de a `Kutya` osztály, `furcsa_kivalaszto()` függvény és minden, ami nem egy osztályon belül jön létre."
   ]
  },
  {
   "cell_type": "code",
   "execution_count": 44,
   "id": "e03ea00e-5b1e-4a4f-84a4-d9d933508c75",
   "metadata": {},
   "outputs": [
    {
     "name": "stdout",
     "output_type": "stream",
     "text": [
      "A belső létrejött. A változó értéke: belső\n",
      "Paraméter értéke: meglepi\n",
      "Látom a külső változót is: külső\n",
      "Külső változó értéke: külső\n"
     ]
    }
   ],
   "source": [
    "# A névterek átjárhatóak. Egy belső névtér mindig név szerint látja a külsőbb névtér változóit\n",
    "\n",
    "\n",
    "kulso_valtozo = \"külső\"\n",
    "\n",
    "\n",
    "def fuggveny(parameter):\n",
    "    belso_valtozo = \"belső\"\n",
    "    print(f\"A belső létrejött. A változó értéke: {belso_valtozo}\")\n",
    "    print(f\"Paraméter értéke: {parameter}\")\n",
    "    print(f\"Látom a külső változót is: {kulso_valtozo}\")\n",
    "\n",
    "\n",
    "# Ne felejtsd, hogy a függvény felső definíció nem futtatja le a függvényt, csak létrehozza.\n",
    "# Ha futtatni szeretnéd, külön meg kell hívni.\n",
    "fuggveny(parameter=\"meglepi\")  # a 'parameter' a függvény belső névteréhez tartozik.\n",
    "\n",
    "print(f\"Külső változó értéke: {kulso_valtozo}\")"
   ]
  },
  {
   "cell_type": "markdown",
   "id": "230877a4-fdd9-4f48-badc-bd703f0761a5",
   "metadata": {},
   "source": [
    "Az alábbi sorok hibásak, mert a belső változók csak a függvényeken belül elérhetőek. A függvény paraméterei is a belső névtérhez tartoznak.\n",
    "\n",
    "```python\n",
    "print(f\"Nem látom a belső változót... {belso_valtozo}\")\n",
    "```"
   ]
  },
  {
   "cell_type": "markdown",
   "id": "ff902f6b-4c2b-40f2-8666-96601a3a0a1a",
   "metadata": {},
   "source": [
    "```python\n",
    "print(f\"Sőt, a 'parameter' értékéhez sem férek hozzá: {parameter}\")\n",
    "```"
   ]
  },
  {
   "cell_type": "markdown",
   "id": "7fbc84ca-a0b3-4043-bd3b-be0113bf3c0b",
   "metadata": {},
   "source": [
    "# 2. Adatelemzés\n",
    "\n",
    "Ebben a fejezetben elkezdünk adatot elemezni. Átnézzük, milyen könyvtárak elérhetőek és kipróbálunk pár elemzési és megjelenítési módszert."
   ]
  },
  {
   "cell_type": "markdown",
   "id": "38f2e7d0-fb2a-4596-adbb-03e8335df9d2",
   "metadata": {},
   "source": [
    "## 2.1 Pandas és NumPy\n",
    "\n",
    "Ezeket a könyvtárakat együtt beszéljül át, kezdjük a NumPy-jal, ami az alapját adja a Pandas-nak.\n",
    "\n",
    "A NumPy egy hatékony eszköz, amellyel mátrixokat tudunk kezelni, manipulálni. A NumPy ezeket tömböknek nevezi (array). Egy tömb olyasmi, mint a Python lista, de típusát tekintve homogén, azaz ebben nem lehet keverni egészeket, törteket, karaktereket, stb."
   ]
  },
  {
   "cell_type": "code",
   "execution_count": 45,
   "id": "a8591877-a7e3-4e80-8b56-c3f4681264da",
   "metadata": {},
   "outputs": [
    {
     "name": "stdout",
     "output_type": "stream",
     "text": [
      "[0 1 2 3 4]\n"
     ]
    }
   ],
   "source": [
    "import numpy as np\n",
    "# Az 'import <könyvtár> as <valami>' kifejezés egy átnevezést jelent.\n",
    "# A 'np' rövidebb, mint a 'numpy', ezért így importáljuk.\n",
    "\n",
    "szamok_tomb = np.array([0, 1, 2, 3, 4])  # Python listából numpy tömböt képzünk\n",
    "print(szamok_tomb)"
   ]
  },
  {
   "cell_type": "code",
   "execution_count": 46,
   "id": "6cda2478-48b0-4396-8b9c-b1a1fb562e60",
   "metadata": {},
   "outputs": [
    {
     "name": "stdout",
     "output_type": "stream",
     "text": [
      "[[1 2 3 4]\n",
      " [1 2 3 4]\n",
      " [1 2 3 4]]\n"
     ]
    }
   ],
   "source": [
    "tomb_numpyban = np.array([\n",
    "    [1, 2, 3, 4],\n",
    "    [1, 2, 3, 4],\n",
    "    [1, 2, 3, 4],\n",
    "])  # A sortörések csak az esztétika miatt vannak benne.\n",
    "# Ez amúgy 3 db 3 elemű lista egy külső listában.\n",
    "print(tomb_numpyban)"
   ]
  },
  {
   "cell_type": "markdown",
   "id": "5cd7668b-6ff0-41e6-9356-c210b856dcfb",
   "metadata": {},
   "source": [
    "Egy másik numpy megkötés, hogy sorhosszak, oszlophosszak\n",
    "is homogének kell, hogy legyenek.\n",
    "\n",
    "Nem lehet ún. 'rongyos' (ragged) tömböt csinálni:\n",
    "\n",
    "```python\n",
    "rongyos_tomb = np.array([\n",
    "    [0, 0, 0],\n",
    "    [1, 1, 1, 1, 1],\n",
    "    [2, 2, 2, 2],\n",
    "])  # Ez hibát dobna, ha lefuttatnánk.\n",
    "```\n"
   ]
  },
  {
   "cell_type": "code",
   "execution_count": 47,
   "id": "520061ab-be7f-43bb-bfe1-1701413b0b9f",
   "metadata": {},
   "outputs": [
    {
     "name": "stdout",
     "output_type": "stream",
     "text": [
      "(3, 4)\n",
      "int64\n"
     ]
    }
   ],
   "source": [
    "# Lekérhetjük egy tömb alakját:\n",
    "print(tomb_numpyban.shape)\n",
    "\n",
    "# Lekérhetjük az adat típusát (data type):\n",
    "print(tomb_numpyban.dtype)\n",
    "\n",
    "# int32, int64, float32, float64 - ilyen típusmegnevezésekkel találkozhatsz.\n",
    "# Azt jelenti, hogy 32 (float) vagy 64 (double) biten tároljuk a számokat.\n",
    "# Ezzel nem valószínű, hogy foglalkozni kell, csak megemlítem."
   ]
  },
  {
   "cell_type": "code",
   "execution_count": 48,
   "id": "ab0805b9-6b94-45c9-a72b-3ef7131d8f0b",
   "metadata": {},
   "outputs": [
    {
     "name": "stdout",
     "output_type": "stream",
     "text": [
      "sum: 30\n",
      "mean: 2.5\n",
      "std: 1.118033988749895\n"
     ]
    }
   ],
   "source": [
    "# Pár matematikai és statisztikai függvény be van építve a numpy tömbökbe:\n",
    "print(\"sum:\", tomb_numpyban.sum())  # szumma\n",
    "print(\"mean:\", tomb_numpyban.mean())  # átlag\n",
    "print(\"std:\", tomb_numpyban.std())  # minta szórás"
   ]
  },
  {
   "cell_type": "code",
   "execution_count": 49,
   "id": "8615acc5-2d43-41db-8d81-9315082d886e",
   "metadata": {},
   "outputs": [
    {
     "name": "stdout",
     "output_type": "stream",
     "text": [
      "sum: [ 3  6  9 12]\n",
      "mean: [10 10 10]\n"
     ]
    }
   ],
   "source": [
    "# Mátrixok esetében ezeket soronként vagy oszloponként is elvégezhetjük:\n",
    "print(\"sum:\", tomb_numpyban.sum(axis=0))  # oszlopok szummája\n",
    "print(\"mean:\", tomb_numpyban.sum(axis=1))  # sorok szummája\n",
    "# Numpy-ban megegyeztés alapján a 0. dimenzió a sor és az 1. dimenzió az oszlop."
   ]
  },
  {
   "cell_type": "markdown",
   "id": "7408d483-6297-44c0-92fc-13d57398672e",
   "metadata": {},
   "source": [
    "Enny elég is a NumPy-ról, térjünk át a **Pandas**-ra. Pár dolog hiányzik a NumPy-ből, hogy táblázatos adat kezelésére használjuk.\n",
    "\n",
    "Az oszlopokat jó lenne, ha el tudnánk nevezni. Egy táblázatos adatban az oszlopok neveivel hivatkozunk, pl:\n",
    "\n",
    "| Név    | Életkor | Nem | Dohányzik? |\n",
    "| ------ | ------- | --- | ---------- |\n",
    "| Bubi   | 26      |  ?  |   igen     |\n",
    "| Dáma   | 18      |  F  |   nem      |\n",
    "| Király | 45      |  N  |   igen     |\n",
    "\n",
    "\n",
    "Jó lenne, ha keverhetnénk a típusokat legalább oszlopok szintjén:\n",
    "- **Név**: karakterlánc\n",
    "- **Életkor**: egész\n",
    "- **Nem**: karakterlánc, esetleg igaz/hamis (bool)\n",
    "- **Dohányzik**: igaz/hamis\n",
    "\n",
    "A Pandas biztosítja ezeket a lehetőségeket. Belül a NumPy homogén tömbjeit használja az adat tárolására, de ad kényelmes módokat az oszlopok szintjén történő manipulációra és sok más varázslatra is.\n",
    "\n",
    "A Pandas a táblázatokat ezzel az osztállyal reprezentálja: **DataFrame** (DF), ami adatkeretet jelent, de gondolhatsz rá egy Excel táblaként is.\n",
    "\n",
    "Ami az Excelből hiányzik, de a Pandasban kötelező, az **az index**, ami a sorok azonosítója. Ennek egyedinek érdemes lenni soronként (bár ez nincs szigorúan ellenőrizve, de hibához vezethet).\n",
    "\n",
    "Ha mi nem adunk meg indexet, akkor kitalál nekünk egy sorszámozást, emiatt nem kell aggódni, de fontos információ, hogy van index és kötelező eleme a DF-nek (pl. ha kitörlünk egy sort, akkor kiesik az az indexszű sor)."
   ]
  },
  {
   "cell_type": "code",
   "execution_count": 50,
   "id": "a8518698-7237-41ad-8573-e467b1f7ba72",
   "metadata": {},
   "outputs": [
    {
     "name": "stdout",
     "output_type": "stream",
     "text": [
      "Empty DataFrame\n",
      "Columns: [Név, Életkor, Nem, Dohányzik?]\n",
      "Index: []\n"
     ]
    }
   ],
   "source": [
    "import pandas as pd\n",
    "\n",
    "adataink = pd.DataFrame(columns=[\"Név\", \"Életkor\", \"Nem\", \"Dohányzik?\"])\n",
    "print(adataink)"
   ]
  },
  {
   "cell_type": "markdown",
   "id": "913480c6-9373-45cc-9c48-6bc3786914ef",
   "metadata": {},
   "source": [
    "A Pandas oszlopokban gondolkozik, DF-hez soronként adatot hozzáadni sajnos nem lehet, csak oszloponként.\n",
    "\n",
    "Illetve ennél is jobb megoldás, ha a DF létrehozásakor adjuk be neki az adatokat. Alább mutatok pár megoldást adattal való feltöltésre:"
   ]
  },
  {
   "cell_type": "code",
   "execution_count": 51,
   "id": "fc48ed89-9d62-470e-8b73-fa2281f53b5a",
   "metadata": {},
   "outputs": [
    {
     "data": {
      "text/html": [
       "<div>\n",
       "<style scoped>\n",
       "    .dataframe tbody tr th:only-of-type {\n",
       "        vertical-align: middle;\n",
       "    }\n",
       "\n",
       "    .dataframe tbody tr th {\n",
       "        vertical-align: top;\n",
       "    }\n",
       "\n",
       "    .dataframe thead th {\n",
       "        text-align: right;\n",
       "    }\n",
       "</style>\n",
       "<table border=\"1\" class=\"dataframe\">\n",
       "  <thead>\n",
       "    <tr style=\"text-align: right;\">\n",
       "      <th></th>\n",
       "      <th>Név</th>\n",
       "      <th>Életkor</th>\n",
       "      <th>Nem</th>\n",
       "      <th>Dohányzik?</th>\n",
       "    </tr>\n",
       "  </thead>\n",
       "  <tbody>\n",
       "    <tr>\n",
       "      <th>0</th>\n",
       "      <td>Bubi</td>\n",
       "      <td>26</td>\n",
       "      <td>None</td>\n",
       "      <td>True</td>\n",
       "    </tr>\n",
       "    <tr>\n",
       "      <th>1</th>\n",
       "      <td>Dáma</td>\n",
       "      <td>18</td>\n",
       "      <td>N</td>\n",
       "      <td>False</td>\n",
       "    </tr>\n",
       "    <tr>\n",
       "      <th>2</th>\n",
       "      <td>Király</td>\n",
       "      <td>45</td>\n",
       "      <td>F</td>\n",
       "      <td>True</td>\n",
       "    </tr>\n",
       "  </tbody>\n",
       "</table>\n",
       "</div>"
      ],
      "text/plain": [
       "      Név  Életkor   Nem  Dohányzik?\n",
       "0    Bubi       26  None        True\n",
       "1    Dáma       18     N       False\n",
       "2  Király       45     F        True"
      ]
     },
     "execution_count": 51,
     "metadata": {},
     "output_type": "execute_result"
    }
   ],
   "source": [
    "adataink = pd.DataFrame(data={\n",
    "    \"Név\": [\"Bubi\", \"Dáma\", \"Király\"],\n",
    "    \"Életkor\": [26, 18, 45],\n",
    "    \"Nem\": [None, \"N\", \"F\"],\n",
    "    \"Dohányzik?\": [True, False, True],\n",
    "})  # A típusokat magától kiokoskodja.\n",
    "# A data paraméter ebben az esetben egy Python dict-et vár, aminek a kulcsai\n",
    "# az oszlopnevek és értékei Python listába szedve az oszlopok.\n",
    "adataink"
   ]
  },
  {
   "cell_type": "markdown",
   "id": "a5d16a44-df17-4c3a-84e0-5dbf68f70f84",
   "metadata": {},
   "source": [
    "Fent megfigyelheted, hogy elhagytam a `print()` hívást. Ezt azért tehetjük meg, mert a Jupyter extrán támogatja a Pandas-t és megformázza ilyen szép táblázattá, ha a cellában az utolsó utasítás (de csak a legutolsó) az egy ilyen 'meztelen' DF hivatkozás.\n",
    "\n",
    "Minden más ilyen 'meztelen' hivatkozást figyelmen kívül fog hagyni (ha nem a legutolsó sorban van)."
   ]
  },
  {
   "cell_type": "code",
   "execution_count": 52,
   "id": "af7d17c0-c5ea-485e-a274-c27ff8cb3222",
   "metadata": {},
   "outputs": [
    {
     "data": {
      "text/html": [
       "<div>\n",
       "<style scoped>\n",
       "    .dataframe tbody tr th:only-of-type {\n",
       "        vertical-align: middle;\n",
       "    }\n",
       "\n",
       "    .dataframe tbody tr th {\n",
       "        vertical-align: top;\n",
       "    }\n",
       "\n",
       "    .dataframe thead th {\n",
       "        text-align: right;\n",
       "    }\n",
       "</style>\n",
       "<table border=\"1\" class=\"dataframe\">\n",
       "  <thead>\n",
       "    <tr style=\"text-align: right;\">\n",
       "      <th></th>\n",
       "      <th>Név</th>\n",
       "      <th>Életkor</th>\n",
       "      <th>Nem</th>\n",
       "      <th>Dohányzik?</th>\n",
       "    </tr>\n",
       "  </thead>\n",
       "  <tbody>\n",
       "    <tr>\n",
       "      <th>0</th>\n",
       "      <td>Káró</td>\n",
       "      <td>23</td>\n",
       "      <td>F</td>\n",
       "      <td>False</td>\n",
       "    </tr>\n",
       "    <tr>\n",
       "      <th>1</th>\n",
       "      <td>Treff</td>\n",
       "      <td>19</td>\n",
       "      <td>N</td>\n",
       "      <td>False</td>\n",
       "    </tr>\n",
       "    <tr>\n",
       "      <th>2</th>\n",
       "      <td>Pikk</td>\n",
       "      <td>50</td>\n",
       "      <td>F</td>\n",
       "      <td>True</td>\n",
       "    </tr>\n",
       "  </tbody>\n",
       "</table>\n",
       "</div>"
      ],
      "text/plain": [
       "     Név  Életkor Nem  Dohányzik?\n",
       "0   Káró       23   F       False\n",
       "1  Treff       19   N       False\n",
       "2   Pikk       50   F        True"
      ]
     },
     "execution_count": 52,
     "metadata": {},
     "output_type": "execute_result"
    }
   ],
   "source": [
    "# Üres DF-et hozunk létre:\n",
    "adataink2 = pd.DataFrame()\n",
    "\n",
    "# Oszloponként feltöltjük adattal.\n",
    "adataink2[\"Név\"] = [\"Káró\", \"Treff\", \"Pikk\"]\n",
    "adataink2[\"Életkor\"] = [23, 19, 50]\n",
    "adataink2[\"Nem\"] = [\"F\", \"N\", \"F\"]\n",
    "adataink2[\"Dohányzik?\"] = [False, False, True]\n",
    "adataink2"
   ]
  },
  {
   "cell_type": "markdown",
   "id": "e347c2ce-41d1-4655-8fac-6dcc217eb751",
   "metadata": {},
   "source": [
    "## 2.2 Adat műveletek\n",
    "\n",
    "### Adatforrás: fájlok\n",
    "\n",
    "Így kódban adatot bevinni pokol. Normál esetben az ember az adatbevitelt excelben csinálja,\n",
    "majd behúzza az adatot manipulációra, vizualizálásra Pandas DF-be:"
   ]
  },
  {
   "cell_type": "code",
   "execution_count": 53,
   "id": "e858f23b-7207-4d87-88fd-2fd9eab929cf",
   "metadata": {},
   "outputs": [
    {
     "data": {
      "text/html": [
       "<div>\n",
       "<style scoped>\n",
       "    .dataframe tbody tr th:only-of-type {\n",
       "        vertical-align: middle;\n",
       "    }\n",
       "\n",
       "    .dataframe tbody tr th {\n",
       "        vertical-align: top;\n",
       "    }\n",
       "\n",
       "    .dataframe thead th {\n",
       "        text-align: right;\n",
       "    }\n",
       "</style>\n",
       "<table border=\"1\" class=\"dataframe\">\n",
       "  <thead>\n",
       "    <tr style=\"text-align: right;\">\n",
       "      <th></th>\n",
       "      <th>Név</th>\n",
       "      <th>Életkor</th>\n",
       "      <th>Nem</th>\n",
       "      <th>Dohányzik?</th>\n",
       "    </tr>\n",
       "  </thead>\n",
       "  <tbody>\n",
       "    <tr>\n",
       "      <th>0</th>\n",
       "      <td>Górapa</td>\n",
       "      <td>60</td>\n",
       "      <td>F</td>\n",
       "      <td>0</td>\n",
       "    </tr>\n",
       "    <tr>\n",
       "      <th>1</th>\n",
       "      <td>Gorenje</td>\n",
       "      <td>58</td>\n",
       "      <td>N</td>\n",
       "      <td>1</td>\n",
       "    </tr>\n",
       "    <tr>\n",
       "      <th>2</th>\n",
       "      <td>Nagypappantyú</td>\n",
       "      <td>69</td>\n",
       "      <td>F</td>\n",
       "      <td>0</td>\n",
       "    </tr>\n",
       "    <tr>\n",
       "      <th>3</th>\n",
       "      <td>Nyanyanyó</td>\n",
       "      <td>65</td>\n",
       "      <td>N</td>\n",
       "      <td>0</td>\n",
       "    </tr>\n",
       "    <tr>\n",
       "      <th>4</th>\n",
       "      <td>Oltyemajm</td>\n",
       "      <td>26</td>\n",
       "      <td>NaN</td>\n",
       "      <td>0</td>\n",
       "    </tr>\n",
       "    <tr>\n",
       "      <th>5</th>\n",
       "      <td>Marci</td>\n",
       "      <td>30</td>\n",
       "      <td>NaN</td>\n",
       "      <td>0</td>\n",
       "    </tr>\n",
       "    <tr>\n",
       "      <th>6</th>\n",
       "      <td>Mámicuj</td>\n",
       "      <td>18</td>\n",
       "      <td>N</td>\n",
       "      <td>0</td>\n",
       "    </tr>\n",
       "    <tr>\n",
       "      <th>7</th>\n",
       "      <td>Apacuj</td>\n",
       "      <td>98</td>\n",
       "      <td>F</td>\n",
       "      <td>0</td>\n",
       "    </tr>\n",
       "    <tr>\n",
       "      <th>8</th>\n",
       "      <td>Alíz</td>\n",
       "      <td>13</td>\n",
       "      <td>N</td>\n",
       "      <td>1</td>\n",
       "    </tr>\n",
       "    <tr>\n",
       "      <th>9</th>\n",
       "      <td>Bencsussz</td>\n",
       "      <td>10</td>\n",
       "      <td>F</td>\n",
       "      <td>0</td>\n",
       "    </tr>\n",
       "    <tr>\n",
       "      <th>10</th>\n",
       "      <td>Lucko</td>\n",
       "      <td>25</td>\n",
       "      <td>N</td>\n",
       "      <td>1</td>\n",
       "    </tr>\n",
       "  </tbody>\n",
       "</table>\n",
       "</div>"
      ],
      "text/plain": [
       "              Név  Életkor  Nem  Dohányzik?\n",
       "0          Górapa       60    F           0\n",
       "1         Gorenje       58    N           1\n",
       "2   Nagypappantyú       69    F           0\n",
       "3       Nyanyanyó       65    N           0\n",
       "4       Oltyemajm       26  NaN           0\n",
       "5           Marci       30  NaN           0\n",
       "6         Mámicuj       18    N           0\n",
       "7          Apacuj       98    F           0\n",
       "8            Alíz       13    N           1\n",
       "9       Bencsussz       10    F           0\n",
       "10          Lucko       25    N           1"
      ]
     },
     "execution_count": 53,
     "metadata": {},
     "output_type": "execute_result"
    }
   ],
   "source": [
    "adat1_eleresi_utja = \"_assets/adat1.xlsx\"\n",
    "\n",
    "# A pandas (pd) könyvtár tagja a 'read_excel' nevű függvény.\n",
    "adat1 = pd.read_excel(adat1_eleresi_utja)\n",
    "adat1"
   ]
  },
  {
   "cell_type": "markdown",
   "id": "44090764-b74a-4dbb-90b1-9cf9d2ce6931",
   "metadata": {},
   "source": [
    "A fenti táblában megfigyelhető az adathiányt jelző speciális érték (NaN - Not a Number) a 4. és 5. sorokban.\n",
    "\n",
    "Gyakori fájlformátum nyers adatok esetében a .csv Comma-separated value, azaz vesszővel elválasztott értékek.\n",
    "\n",
    "A CSV nyers formában így néz ki (ha pl. jegyzettömbbel megnyitnád, ilyen lenne):"
   ]
  },
  {
   "cell_type": "code",
   "execution_count": 54,
   "id": "a0c2416b-9c5e-41b2-bbaa-e582d7c035d7",
   "metadata": {},
   "outputs": [
    {
     "name": "stdout",
     "output_type": "stream",
     "text": [
      "Név,Életkor,Nem,Dohányzik?\n",
      "Kovács Bence,8,F,0\n",
      "Szabó Hanna,24,N,1\n",
      "Tóth Levente,37,F,0\n",
      "Nagy Dóra,15,N,0\n",
      "Farkas Gergő,42,F,1\n",
      "Horváth Lilla,19,N,0\n",
      "Balogh Ádám,63,F,0\n",
      "Molnár Nóra,29,N,0\n",
      "Varga Tamás,10,F,1\n",
      "Kiss Petra,56,N,0\n",
      "Németh Zoltán,33,F,0\n",
      "\n"
     ]
    }
   ],
   "source": [
    "# Ez a sor megnyitja a nyers szövegfájlt és beolvassa a tartalmát.\n",
    "# Az 'open' beépített Python függvény fájlok megnyitására.\n",
    "csv_nyers_tartalma = open(\"_assets/adat2.csv\").read()\n",
    "print(csv_nyers_tartalma)"
   ]
  },
  {
   "cell_type": "markdown",
   "id": "893b0642-448c-4f09-a763-0025fe8e08e1",
   "metadata": {},
   "source": [
    "*Ez így még nem táblázat, csak nyers adatok sortörésekkel és vesszőkkel elválasztva.*\n",
    "\n",
    "**A csv használatának előnyei**:\n",
    "- Ember számára is olvasható a megnyitott fájl.\n",
    "- Portábilis (legtöbb táblázatkezelő és Pandas is meg tudja nyitni)\n",
    "\n",
    "**Hátrányai**:\n",
    "- Nem menti a formázást, szűrő létrehozást, Excelben készített diagrammokat.\n",
    "- Nagy méretű, nem tömörített (ellenben pl. az xlsx-szel).\n",
    "\n",
    "Mindenesetre nagyon gyakran használunk csv-t. Olvassuk be Pandas-ba:"
   ]
  },
  {
   "cell_type": "code",
   "execution_count": 55,
   "id": "f96f78f3-90eb-40c4-82aa-8d9019c87f0a",
   "metadata": {},
   "outputs": [
    {
     "data": {
      "text/html": [
       "<div>\n",
       "<style scoped>\n",
       "    .dataframe tbody tr th:only-of-type {\n",
       "        vertical-align: middle;\n",
       "    }\n",
       "\n",
       "    .dataframe tbody tr th {\n",
       "        vertical-align: top;\n",
       "    }\n",
       "\n",
       "    .dataframe thead th {\n",
       "        text-align: right;\n",
       "    }\n",
       "</style>\n",
       "<table border=\"1\" class=\"dataframe\">\n",
       "  <thead>\n",
       "    <tr style=\"text-align: right;\">\n",
       "      <th></th>\n",
       "      <th>Név</th>\n",
       "      <th>Életkor</th>\n",
       "      <th>Nem</th>\n",
       "      <th>Dohányzik?</th>\n",
       "    </tr>\n",
       "  </thead>\n",
       "  <tbody>\n",
       "    <tr>\n",
       "      <th>0</th>\n",
       "      <td>Kovács Bence</td>\n",
       "      <td>8</td>\n",
       "      <td>F</td>\n",
       "      <td>0</td>\n",
       "    </tr>\n",
       "    <tr>\n",
       "      <th>1</th>\n",
       "      <td>Szabó Hanna</td>\n",
       "      <td>24</td>\n",
       "      <td>N</td>\n",
       "      <td>1</td>\n",
       "    </tr>\n",
       "    <tr>\n",
       "      <th>2</th>\n",
       "      <td>Tóth Levente</td>\n",
       "      <td>37</td>\n",
       "      <td>F</td>\n",
       "      <td>0</td>\n",
       "    </tr>\n",
       "    <tr>\n",
       "      <th>3</th>\n",
       "      <td>Nagy Dóra</td>\n",
       "      <td>15</td>\n",
       "      <td>N</td>\n",
       "      <td>0</td>\n",
       "    </tr>\n",
       "    <tr>\n",
       "      <th>4</th>\n",
       "      <td>Farkas Gergő</td>\n",
       "      <td>42</td>\n",
       "      <td>F</td>\n",
       "      <td>1</td>\n",
       "    </tr>\n",
       "    <tr>\n",
       "      <th>5</th>\n",
       "      <td>Horváth Lilla</td>\n",
       "      <td>19</td>\n",
       "      <td>N</td>\n",
       "      <td>0</td>\n",
       "    </tr>\n",
       "    <tr>\n",
       "      <th>6</th>\n",
       "      <td>Balogh Ádám</td>\n",
       "      <td>63</td>\n",
       "      <td>F</td>\n",
       "      <td>0</td>\n",
       "    </tr>\n",
       "    <tr>\n",
       "      <th>7</th>\n",
       "      <td>Molnár Nóra</td>\n",
       "      <td>29</td>\n",
       "      <td>N</td>\n",
       "      <td>0</td>\n",
       "    </tr>\n",
       "    <tr>\n",
       "      <th>8</th>\n",
       "      <td>Varga Tamás</td>\n",
       "      <td>10</td>\n",
       "      <td>F</td>\n",
       "      <td>1</td>\n",
       "    </tr>\n",
       "    <tr>\n",
       "      <th>9</th>\n",
       "      <td>Kiss Petra</td>\n",
       "      <td>56</td>\n",
       "      <td>N</td>\n",
       "      <td>0</td>\n",
       "    </tr>\n",
       "    <tr>\n",
       "      <th>10</th>\n",
       "      <td>Németh Zoltán</td>\n",
       "      <td>33</td>\n",
       "      <td>F</td>\n",
       "      <td>0</td>\n",
       "    </tr>\n",
       "  </tbody>\n",
       "</table>\n",
       "</div>"
      ],
      "text/plain": [
       "              Név  Életkor Nem  Dohányzik?\n",
       "0    Kovács Bence        8   F           0\n",
       "1     Szabó Hanna       24   N           1\n",
       "2    Tóth Levente       37   F           0\n",
       "3       Nagy Dóra       15   N           0\n",
       "4    Farkas Gergő       42   F           1\n",
       "5   Horváth Lilla       19   N           0\n",
       "6     Balogh Ádám       63   F           0\n",
       "7     Molnár Nóra       29   N           0\n",
       "8     Varga Tamás       10   F           1\n",
       "9      Kiss Petra       56   N           0\n",
       "10  Németh Zoltán       33   F           0"
      ]
     },
     "execution_count": 55,
     "metadata": {},
     "output_type": "execute_result"
    }
   ],
   "source": [
    "adat2_eleresi_utja = \"_assets/adat2.csv\"\n",
    "\n",
    "# A 'read_csv' a pandas (pd) könyvtár tagja.\n",
    "adat2 = pd.read_csv(adat2_eleresi_utja)  # Az első sort alapból fejlécnek veszi\n",
    "adat2"
   ]
  },
  {
   "cell_type": "markdown",
   "id": "a4df82ae-fddb-404b-95d0-6679cb257d1d",
   "metadata": {},
   "source": [
    "*Egy modern alternatívája a csv-nek a parquet ('parké')*\n",
    "\n",
    "Ezt akkor érdemes használni, ha nagyon nagy méretű adattáblánk van és sok helyet foglal. Használata: pd.read_parquet(\"<fájlnév>.parquet\")\n",
    "\n",
    "A parquet előnyei:\n",
    "- tömörített formátum\n",
    "- adattudományban portábilis\n",
    "\n",
    "hátrányai:\n",
    "- grafikus táblázatkezelők (Excel, LibreOffice) és \"Jegyzettömb\" nem támogatják.\n",
    "\n",
    "parquet-re nem hozok példát, ha belefutsz, hogy kezelhetetlen méretűvé kezdenek válni az adatok, majd jusson eszedbe."
   ]
  },
  {
   "cell_type": "markdown",
   "id": "2437cfcd-4e04-4de3-a5a4-3573ff333851",
   "metadata": {},
   "source": [
    "Mindkét beolvasott formátum esetében látható, hogy a pandas automatikusan észlelte a fejlécet és létrehozta az oszlopneveket. Létrehozott egyedi indexeket is. Jelenleg van két külön táblázatunk, jó lenne összefűzni őket:"
   ]
  },
  {
   "cell_type": "code",
   "execution_count": 56,
   "id": "9e76a0f5-0b18-43ec-83e9-963062be7305",
   "metadata": {},
   "outputs": [
    {
     "data": {
      "text/html": [
       "<div>\n",
       "<style scoped>\n",
       "    .dataframe tbody tr th:only-of-type {\n",
       "        vertical-align: middle;\n",
       "    }\n",
       "\n",
       "    .dataframe tbody tr th {\n",
       "        vertical-align: top;\n",
       "    }\n",
       "\n",
       "    .dataframe thead th {\n",
       "        text-align: right;\n",
       "    }\n",
       "</style>\n",
       "<table border=\"1\" class=\"dataframe\">\n",
       "  <thead>\n",
       "    <tr style=\"text-align: right;\">\n",
       "      <th></th>\n",
       "      <th>Név</th>\n",
       "      <th>Életkor</th>\n",
       "      <th>Nem</th>\n",
       "      <th>Dohányzik?</th>\n",
       "    </tr>\n",
       "  </thead>\n",
       "  <tbody>\n",
       "    <tr>\n",
       "      <th>0</th>\n",
       "      <td>Górapa</td>\n",
       "      <td>60</td>\n",
       "      <td>F</td>\n",
       "      <td>0</td>\n",
       "    </tr>\n",
       "    <tr>\n",
       "      <th>1</th>\n",
       "      <td>Gorenje</td>\n",
       "      <td>58</td>\n",
       "      <td>N</td>\n",
       "      <td>1</td>\n",
       "    </tr>\n",
       "    <tr>\n",
       "      <th>2</th>\n",
       "      <td>Nagypappantyú</td>\n",
       "      <td>69</td>\n",
       "      <td>F</td>\n",
       "      <td>0</td>\n",
       "    </tr>\n",
       "    <tr>\n",
       "      <th>3</th>\n",
       "      <td>Nyanyanyó</td>\n",
       "      <td>65</td>\n",
       "      <td>N</td>\n",
       "      <td>0</td>\n",
       "    </tr>\n",
       "    <tr>\n",
       "      <th>4</th>\n",
       "      <td>Oltyemajm</td>\n",
       "      <td>26</td>\n",
       "      <td>NaN</td>\n",
       "      <td>0</td>\n",
       "    </tr>\n",
       "    <tr>\n",
       "      <th>5</th>\n",
       "      <td>Marci</td>\n",
       "      <td>30</td>\n",
       "      <td>NaN</td>\n",
       "      <td>0</td>\n",
       "    </tr>\n",
       "    <tr>\n",
       "      <th>6</th>\n",
       "      <td>Mámicuj</td>\n",
       "      <td>18</td>\n",
       "      <td>N</td>\n",
       "      <td>0</td>\n",
       "    </tr>\n",
       "    <tr>\n",
       "      <th>7</th>\n",
       "      <td>Apacuj</td>\n",
       "      <td>98</td>\n",
       "      <td>F</td>\n",
       "      <td>0</td>\n",
       "    </tr>\n",
       "    <tr>\n",
       "      <th>8</th>\n",
       "      <td>Alíz</td>\n",
       "      <td>13</td>\n",
       "      <td>N</td>\n",
       "      <td>1</td>\n",
       "    </tr>\n",
       "    <tr>\n",
       "      <th>9</th>\n",
       "      <td>Bencsussz</td>\n",
       "      <td>10</td>\n",
       "      <td>F</td>\n",
       "      <td>0</td>\n",
       "    </tr>\n",
       "    <tr>\n",
       "      <th>10</th>\n",
       "      <td>Lucko</td>\n",
       "      <td>25</td>\n",
       "      <td>N</td>\n",
       "      <td>1</td>\n",
       "    </tr>\n",
       "    <tr>\n",
       "      <th>0</th>\n",
       "      <td>Kovács Bence</td>\n",
       "      <td>8</td>\n",
       "      <td>F</td>\n",
       "      <td>0</td>\n",
       "    </tr>\n",
       "    <tr>\n",
       "      <th>1</th>\n",
       "      <td>Szabó Hanna</td>\n",
       "      <td>24</td>\n",
       "      <td>N</td>\n",
       "      <td>1</td>\n",
       "    </tr>\n",
       "    <tr>\n",
       "      <th>2</th>\n",
       "      <td>Tóth Levente</td>\n",
       "      <td>37</td>\n",
       "      <td>F</td>\n",
       "      <td>0</td>\n",
       "    </tr>\n",
       "    <tr>\n",
       "      <th>3</th>\n",
       "      <td>Nagy Dóra</td>\n",
       "      <td>15</td>\n",
       "      <td>N</td>\n",
       "      <td>0</td>\n",
       "    </tr>\n",
       "    <tr>\n",
       "      <th>4</th>\n",
       "      <td>Farkas Gergő</td>\n",
       "      <td>42</td>\n",
       "      <td>F</td>\n",
       "      <td>1</td>\n",
       "    </tr>\n",
       "    <tr>\n",
       "      <th>5</th>\n",
       "      <td>Horváth Lilla</td>\n",
       "      <td>19</td>\n",
       "      <td>N</td>\n",
       "      <td>0</td>\n",
       "    </tr>\n",
       "    <tr>\n",
       "      <th>6</th>\n",
       "      <td>Balogh Ádám</td>\n",
       "      <td>63</td>\n",
       "      <td>F</td>\n",
       "      <td>0</td>\n",
       "    </tr>\n",
       "    <tr>\n",
       "      <th>7</th>\n",
       "      <td>Molnár Nóra</td>\n",
       "      <td>29</td>\n",
       "      <td>N</td>\n",
       "      <td>0</td>\n",
       "    </tr>\n",
       "    <tr>\n",
       "      <th>8</th>\n",
       "      <td>Varga Tamás</td>\n",
       "      <td>10</td>\n",
       "      <td>F</td>\n",
       "      <td>1</td>\n",
       "    </tr>\n",
       "    <tr>\n",
       "      <th>9</th>\n",
       "      <td>Kiss Petra</td>\n",
       "      <td>56</td>\n",
       "      <td>N</td>\n",
       "      <td>0</td>\n",
       "    </tr>\n",
       "    <tr>\n",
       "      <th>10</th>\n",
       "      <td>Németh Zoltán</td>\n",
       "      <td>33</td>\n",
       "      <td>F</td>\n",
       "      <td>0</td>\n",
       "    </tr>\n",
       "  </tbody>\n",
       "</table>\n",
       "</div>"
      ],
      "text/plain": [
       "              Név  Életkor  Nem  Dohányzik?\n",
       "0          Górapa       60    F           0\n",
       "1         Gorenje       58    N           1\n",
       "2   Nagypappantyú       69    F           0\n",
       "3       Nyanyanyó       65    N           0\n",
       "4       Oltyemajm       26  NaN           0\n",
       "5           Marci       30  NaN           0\n",
       "6         Mámicuj       18    N           0\n",
       "7          Apacuj       98    F           0\n",
       "8            Alíz       13    N           1\n",
       "9       Bencsussz       10    F           0\n",
       "10          Lucko       25    N           1\n",
       "0    Kovács Bence        8    F           0\n",
       "1     Szabó Hanna       24    N           1\n",
       "2    Tóth Levente       37    F           0\n",
       "3       Nagy Dóra       15    N           0\n",
       "4    Farkas Gergő       42    F           1\n",
       "5   Horváth Lilla       19    N           0\n",
       "6     Balogh Ádám       63    F           0\n",
       "7     Molnár Nóra       29    N           0\n",
       "8     Varga Tamás       10    F           1\n",
       "9      Kiss Petra       56    N           0\n",
       "10  Németh Zoltán       33    F           0"
      ]
     },
     "execution_count": 56,
     "metadata": {},
     "output_type": "execute_result"
    }
   ],
   "source": [
    "# A két adattábla sorait összefűzhetjük, ha ugyanazok az oszlopneveik.\n",
    "# Egy listában adjuk be a két táblát és a concat elvégzi az összefűzést.\n",
    "dohanyos_adat = pd.concat([adat1, adat2])\n",
    "dohanyos_adat"
   ]
  },
  {
   "cell_type": "markdown",
   "id": "69c11d38-10cd-4e00-b472-2fcd88588d01",
   "metadata": {},
   "source": [
    "Az egyesített tablát érdemes lehet elmenteni, hogy később ne kelljen újra az összefűzéssel bajlódni. Ekkor újra felmerülhet a kérdés, hogy milyen formátumban érdemes menteni.\n",
    "\n",
    "- XLSX (excel): ha később szeretnénk excelben manipulalni az adatokat. Csak relatíve kis táblákkal (<2000 sor, <100 oszlop) működik jól.\n",
    "- CSV: ha később programból hozzáférnénk és az adat kisebb, mint 1-2 GB. Excel meg tudja ezt is nyitni, de pl. formázni nem lehet.\n",
    "- Parquet: Ha bazi nagy az adat, sok sor, sok oszlop, mérete nagyobb, mint 2 GB.\n",
    "\n",
    "Itt érdemes megfigyelni, hogy az indexek összekeveredtek. Ezt később majd érdemes rendbe rakni, mert zavarhoz vezethet, de most nem annyira érdekes."
   ]
  },
  {
   "cell_type": "code",
   "execution_count": 57,
   "id": "e7b93922-dc1d-47c7-99ee-12c6c661ed23",
   "metadata": {},
   "outputs": [],
   "source": [
    "dohanyos_adat.to_excel(\"munkapad/dohanyosok.xlsx\")"
   ]
  },
  {
   "cell_type": "markdown",
   "id": "4354a109-fcc7-4e35-ba24-44ae6c813cb4",
   "metadata": {},
   "source": [
    "Nézz bele az elmentett táblázatba. Figyeld meg, hogy a Pandas kéretlenül is elmenti a létrehozott indexet új oszlopként."
   ]
  },
  {
   "cell_type": "markdown",
   "id": "b7bf11a6-fba6-4d43-96e7-94c9a0ddbb6f",
   "metadata": {},
   "source": [
    "### Oszlopok lekérése \n",
    "\n",
    "Mivel a Pandasban az oszlop az alapvető építőelem, oszlopokat legkönnyeb lekérni. Sorokat (rekordokat) is lehet, de az kicsit komplikáltabb. Sorokat általában nem egyesével kérjük ki, hanem valamely oszlop értékei alapján szűrünk, csoportosítunk."
   ]
  },
  {
   "cell_type": "code",
   "execution_count": 58,
   "id": "ed5086f5-606c-41bd-8e3b-f616f5e2d8de",
   "metadata": {},
   "outputs": [
    {
     "data": {
      "text/plain": [
       "0            Górapa\n",
       "1           Gorenje\n",
       "2     Nagypappantyú\n",
       "3         Nyanyanyó\n",
       "4         Oltyemajm\n",
       "5             Marci\n",
       "6           Mámicuj\n",
       "7            Apacuj\n",
       "8              Alíz\n",
       "9         Bencsussz\n",
       "10            Lucko\n",
       "0      Kovács Bence\n",
       "1       Szabó Hanna\n",
       "2      Tóth Levente\n",
       "3         Nagy Dóra\n",
       "4      Farkas Gergő\n",
       "5     Horváth Lilla\n",
       "6       Balogh Ádám\n",
       "7       Molnár Nóra\n",
       "8       Varga Tamás\n",
       "9        Kiss Petra\n",
       "10    Németh Zoltán\n",
       "Name: Név, dtype: object"
      ]
     },
     "execution_count": 58,
     "metadata": {},
     "output_type": "execute_result"
    }
   ],
   "source": [
    "# Egy oszlop lekérése:\n",
    "dohanyos_adat[\"Név\"]"
   ]
  },
  {
   "cell_type": "code",
   "execution_count": 59,
   "id": "cfb9e1cd-f03c-498d-bc9d-35f1d7615426",
   "metadata": {},
   "outputs": [
    {
     "data": {
      "text/html": [
       "<div>\n",
       "<style scoped>\n",
       "    .dataframe tbody tr th:only-of-type {\n",
       "        vertical-align: middle;\n",
       "    }\n",
       "\n",
       "    .dataframe tbody tr th {\n",
       "        vertical-align: top;\n",
       "    }\n",
       "\n",
       "    .dataframe thead th {\n",
       "        text-align: right;\n",
       "    }\n",
       "</style>\n",
       "<table border=\"1\" class=\"dataframe\">\n",
       "  <thead>\n",
       "    <tr style=\"text-align: right;\">\n",
       "      <th></th>\n",
       "      <th>Név</th>\n",
       "      <th>Életkor</th>\n",
       "    </tr>\n",
       "  </thead>\n",
       "  <tbody>\n",
       "    <tr>\n",
       "      <th>0</th>\n",
       "      <td>Górapa</td>\n",
       "      <td>60</td>\n",
       "    </tr>\n",
       "    <tr>\n",
       "      <th>1</th>\n",
       "      <td>Gorenje</td>\n",
       "      <td>58</td>\n",
       "    </tr>\n",
       "    <tr>\n",
       "      <th>2</th>\n",
       "      <td>Nagypappantyú</td>\n",
       "      <td>69</td>\n",
       "    </tr>\n",
       "    <tr>\n",
       "      <th>3</th>\n",
       "      <td>Nyanyanyó</td>\n",
       "      <td>65</td>\n",
       "    </tr>\n",
       "    <tr>\n",
       "      <th>4</th>\n",
       "      <td>Oltyemajm</td>\n",
       "      <td>26</td>\n",
       "    </tr>\n",
       "    <tr>\n",
       "      <th>5</th>\n",
       "      <td>Marci</td>\n",
       "      <td>30</td>\n",
       "    </tr>\n",
       "    <tr>\n",
       "      <th>6</th>\n",
       "      <td>Mámicuj</td>\n",
       "      <td>18</td>\n",
       "    </tr>\n",
       "    <tr>\n",
       "      <th>7</th>\n",
       "      <td>Apacuj</td>\n",
       "      <td>98</td>\n",
       "    </tr>\n",
       "    <tr>\n",
       "      <th>8</th>\n",
       "      <td>Alíz</td>\n",
       "      <td>13</td>\n",
       "    </tr>\n",
       "    <tr>\n",
       "      <th>9</th>\n",
       "      <td>Bencsussz</td>\n",
       "      <td>10</td>\n",
       "    </tr>\n",
       "    <tr>\n",
       "      <th>10</th>\n",
       "      <td>Lucko</td>\n",
       "      <td>25</td>\n",
       "    </tr>\n",
       "    <tr>\n",
       "      <th>0</th>\n",
       "      <td>Kovács Bence</td>\n",
       "      <td>8</td>\n",
       "    </tr>\n",
       "    <tr>\n",
       "      <th>1</th>\n",
       "      <td>Szabó Hanna</td>\n",
       "      <td>24</td>\n",
       "    </tr>\n",
       "    <tr>\n",
       "      <th>2</th>\n",
       "      <td>Tóth Levente</td>\n",
       "      <td>37</td>\n",
       "    </tr>\n",
       "    <tr>\n",
       "      <th>3</th>\n",
       "      <td>Nagy Dóra</td>\n",
       "      <td>15</td>\n",
       "    </tr>\n",
       "    <tr>\n",
       "      <th>4</th>\n",
       "      <td>Farkas Gergő</td>\n",
       "      <td>42</td>\n",
       "    </tr>\n",
       "    <tr>\n",
       "      <th>5</th>\n",
       "      <td>Horváth Lilla</td>\n",
       "      <td>19</td>\n",
       "    </tr>\n",
       "    <tr>\n",
       "      <th>6</th>\n",
       "      <td>Balogh Ádám</td>\n",
       "      <td>63</td>\n",
       "    </tr>\n",
       "    <tr>\n",
       "      <th>7</th>\n",
       "      <td>Molnár Nóra</td>\n",
       "      <td>29</td>\n",
       "    </tr>\n",
       "    <tr>\n",
       "      <th>8</th>\n",
       "      <td>Varga Tamás</td>\n",
       "      <td>10</td>\n",
       "    </tr>\n",
       "    <tr>\n",
       "      <th>9</th>\n",
       "      <td>Kiss Petra</td>\n",
       "      <td>56</td>\n",
       "    </tr>\n",
       "    <tr>\n",
       "      <th>10</th>\n",
       "      <td>Németh Zoltán</td>\n",
       "      <td>33</td>\n",
       "    </tr>\n",
       "  </tbody>\n",
       "</table>\n",
       "</div>"
      ],
      "text/plain": [
       "              Név  Életkor\n",
       "0          Górapa       60\n",
       "1         Gorenje       58\n",
       "2   Nagypappantyú       69\n",
       "3       Nyanyanyó       65\n",
       "4       Oltyemajm       26\n",
       "5           Marci       30\n",
       "6         Mámicuj       18\n",
       "7          Apacuj       98\n",
       "8            Alíz       13\n",
       "9       Bencsussz       10\n",
       "10          Lucko       25\n",
       "0    Kovács Bence        8\n",
       "1     Szabó Hanna       24\n",
       "2    Tóth Levente       37\n",
       "3       Nagy Dóra       15\n",
       "4    Farkas Gergő       42\n",
       "5   Horváth Lilla       19\n",
       "6     Balogh Ádám       63\n",
       "7     Molnár Nóra       29\n",
       "8     Varga Tamás       10\n",
       "9      Kiss Petra       56\n",
       "10  Németh Zoltán       33"
      ]
     },
     "execution_count": 59,
     "metadata": {},
     "output_type": "execute_result"
    }
   ],
   "source": [
    "# Több oszlop lekérése:\n",
    "dohanyos_adat[[\"Név\", \"Életkor\"]]\n",
    "\n",
    "# Ez a dupla-zárójel annak az eredménye, hogy\n",
    "# egy listával [] indexelünk []."
   ]
  },
  {
   "cell_type": "code",
   "execution_count": 60,
   "id": "8d028763-86c5-4807-86b6-1b4b10ad73d6",
   "metadata": {},
   "outputs": [
    {
     "name": "stdout",
     "output_type": "stream",
     "text": [
      "'oszlopok' típusa: <class 'pandas.core.frame.DataFrame'>\n",
      "'egy_oszlop' típusa: <class 'pandas.core.series.Series'>\n",
      "'egy_oszlop_df' típusa: <class 'pandas.core.frame.DataFrame'>\n"
     ]
    }
   ],
   "source": [
    "# Amikor több oszlopot kérünk le, az eredmény, amit kapunk egy másik DataFrame lesz:\n",
    "oszlopok = dohanyos_adat[[\"Nem\", \"Életkor\"]]\n",
    "print(\"'oszlopok' típusa:\", type(oszlopok))\n",
    "\n",
    "# Ellenben amikor egyetlen oszlopot kérünk le, az eredmény egy 'sorozat' (Series) típusú objektum lesz:\n",
    "egy_oszlop = dohanyos_adat[\"Dohányzik?\"]\n",
    "print(\"'egy_oszlop' típusa:\", type(egy_oszlop))\n",
    "\n",
    "# De kényszeríthetjük a Pandas-t, hogy DF-et adjon vissza, ha egyelemű listával indexelünk:\n",
    "egy_oszlop_df = dohanyos_adat[[\"Dohányzik?\"]]\n",
    "print(\"'egy_oszlop_df' típusa:\", type(egy_oszlop_df))"
   ]
  },
  {
   "cell_type": "markdown",
   "id": "552b6acb-4a45-4160-8da7-93e13c41ae81",
   "metadata": {},
   "source": [
    "A Series is egy Pandas típus, akkor adja a Pandas, ha egy sort vagy egy oszlopot kikérünk. Míg a DataFrame két dimenziós (oszlopai és sorai vannak), a Series egy dimenziós adatot reprezentál (egy sor, egy oszlop).\n",
    "\n",
    "A Series olyasmi, mint egy dictionary és egy NumPy tömb keveréke:\n",
    "- Ha egy sort képvisel, akkor oszlopnevekkel indexelhető.\n",
    "- Ha egy oszlopot képvisel, akkor a sorok indexével indexelhető.\n",
    "- A NumPy tömbök matematikai, statisztikai beépített műveletei elvégezhetőek rajta (.sum(), .mean(), stb.)"
   ]
  },
  {
   "cell_type": "markdown",
   "id": "00565f87-9a19-44bc-afed-d5983b43165d",
   "metadata": {},
   "source": [
    "### Sorok lekérése (.loc, .iloc)\n",
    "\n",
    "Erre a Pandas ad egy speciális módszert, mellyel kicsit strukturáltabban indexelhetünk:"
   ]
  },
  {
   "cell_type": "code",
   "execution_count": 61,
   "id": "f506463b-8ac0-4c29-a9a6-3cb5ce3aca11",
   "metadata": {},
   "outputs": [
    {
     "data": {
      "text/html": [
       "<div>\n",
       "<style scoped>\n",
       "    .dataframe tbody tr th:only-of-type {\n",
       "        vertical-align: middle;\n",
       "    }\n",
       "\n",
       "    .dataframe tbody tr th {\n",
       "        vertical-align: top;\n",
       "    }\n",
       "\n",
       "    .dataframe thead th {\n",
       "        text-align: right;\n",
       "    }\n",
       "</style>\n",
       "<table border=\"1\" class=\"dataframe\">\n",
       "  <thead>\n",
       "    <tr style=\"text-align: right;\">\n",
       "      <th></th>\n",
       "      <th>Cégnév</th>\n",
       "      <th>Egyenleg (HUF)</th>\n",
       "    </tr>\n",
       "  </thead>\n",
       "  <tbody>\n",
       "    <tr>\n",
       "      <th>123-456-789</th>\n",
       "      <td>Kovács és Társa Kft.</td>\n",
       "      <td>1250000</td>\n",
       "    </tr>\n",
       "    <tr>\n",
       "      <th>987-654-321</th>\n",
       "      <td>Global Tech Zrt.</td>\n",
       "      <td>-450000</td>\n",
       "    </tr>\n",
       "    <tr>\n",
       "      <th>456-789-123</th>\n",
       "      <td>Almafa Bt.</td>\n",
       "      <td>320000</td>\n",
       "    </tr>\n",
       "  </tbody>\n",
       "</table>\n",
       "</div>"
      ],
      "text/plain": [
       "                           Cégnév  Egyenleg (HUF)\n",
       "123-456-789  Kovács és Társa Kft.         1250000\n",
       "987-654-321      Global Tech Zrt.         -450000\n",
       "456-789-123            Almafa Bt.          320000"
      ]
     },
     "execution_count": 61,
     "metadata": {},
     "output_type": "execute_result"
    }
   ],
   "source": [
    "# Készítünk egy másik DF-et:\n",
    "ceg_adatok = pd.DataFrame(\n",
    "    data={\n",
    "        \"Cégnév\": [\"Kovács és Társa Kft.\", \"Global Tech Zrt.\", \"Almafa Bt.\"],\n",
    "        \"Egyenleg (HUF)\": [1250000, -450000, 320000]\n",
    "    },\n",
    "    index=[\"123-456-789\", \"987-654-321\", \"456-789-123\"]  # Adóazonosítók az indexek\n",
    ")\n",
    "ceg_adatok"
   ]
  },
  {
   "cell_type": "markdown",
   "id": "a28562d7-21fb-43e6-953a-5e7f257a53f1",
   "metadata": {},
   "source": [
    "Ennek a DF-nek az indexe már nem egy sima sorszám, hanem string típusú adóazonosítók.\n",
    "\n",
    "Bonyolultabb lekérésekre minden Pandas DF biztosít egy `.loc` nevű attribútumot (localizer), mellyel a következőképpen tudunk indexelni:"
   ]
  },
  {
   "cell_type": "code",
   "execution_count": 62,
   "id": "f16bd5ce-c976-47c8-bce8-45e31b2c443d",
   "metadata": {},
   "outputs": [
    {
     "data": {
      "text/html": [
       "<div>\n",
       "<style scoped>\n",
       "    .dataframe tbody tr th:only-of-type {\n",
       "        vertical-align: middle;\n",
       "    }\n",
       "\n",
       "    .dataframe tbody tr th {\n",
       "        vertical-align: top;\n",
       "    }\n",
       "\n",
       "    .dataframe thead th {\n",
       "        text-align: right;\n",
       "    }\n",
       "</style>\n",
       "<table border=\"1\" class=\"dataframe\">\n",
       "  <thead>\n",
       "    <tr style=\"text-align: right;\">\n",
       "      <th></th>\n",
       "      <th>Cégnév</th>\n",
       "    </tr>\n",
       "  </thead>\n",
       "  <tbody>\n",
       "    <tr>\n",
       "      <th>123-456-789</th>\n",
       "      <td>Kovács és Társa Kft.</td>\n",
       "    </tr>\n",
       "    <tr>\n",
       "      <th>456-789-123</th>\n",
       "      <td>Almafa Bt.</td>\n",
       "    </tr>\n",
       "  </tbody>\n",
       "</table>\n",
       "</div>"
      ],
      "text/plain": [
       "                           Cégnév\n",
       "123-456-789  Kovács és Társa Kft.\n",
       "456-789-123            Almafa Bt."
      ]
     },
     "execution_count": 62,
     "metadata": {},
     "output_type": "execute_result"
    }
   ],
   "source": [
    "sorok_indexei = [\"123-456-789\", \"456-789-123\"]\n",
    "oszlopok_nevei = [\"Cégnév\"]\n",
    "lekeres = ceg_adatok.loc[sorok_indexei, oszlopok_nevei]\n",
    "lekeres"
   ]
  },
  {
   "cell_type": "markdown",
   "id": "43528b11-e174-4aa3-8c6c-821362146e93",
   "metadata": {},
   "source": [
    "A `.loc` első paramétere mindig a sorra való hivatkozás (pl. index), második paramétere az oszlopra való hivatkozás (pl. oszlopnevek).\n",
    "\n",
    "Mind a sorra, mind az oszlopra való hivatkozás opcionális. Ha valamelyiket kihagyjuk, azt egy `:` karakterrel kell helyettesíteni, ami azt jelenti, 'Mindent kérek':"
   ]
  },
  {
   "cell_type": "code",
   "execution_count": 63,
   "id": "23d6a097-19d5-487d-8186-dfc83d53e96d",
   "metadata": {},
   "outputs": [
    {
     "data": {
      "text/html": [
       "<div>\n",
       "<style scoped>\n",
       "    .dataframe tbody tr th:only-of-type {\n",
       "        vertical-align: middle;\n",
       "    }\n",
       "\n",
       "    .dataframe tbody tr th {\n",
       "        vertical-align: top;\n",
       "    }\n",
       "\n",
       "    .dataframe thead th {\n",
       "        text-align: right;\n",
       "    }\n",
       "</style>\n",
       "<table border=\"1\" class=\"dataframe\">\n",
       "  <thead>\n",
       "    <tr style=\"text-align: right;\">\n",
       "      <th></th>\n",
       "      <th>Cégnév</th>\n",
       "    </tr>\n",
       "  </thead>\n",
       "  <tbody>\n",
       "    <tr>\n",
       "      <th>123-456-789</th>\n",
       "      <td>Kovács és Társa Kft.</td>\n",
       "    </tr>\n",
       "    <tr>\n",
       "      <th>987-654-321</th>\n",
       "      <td>Global Tech Zrt.</td>\n",
       "    </tr>\n",
       "    <tr>\n",
       "      <th>456-789-123</th>\n",
       "      <td>Almafa Bt.</td>\n",
       "    </tr>\n",
       "  </tbody>\n",
       "</table>\n",
       "</div>"
      ],
      "text/plain": [
       "                           Cégnév\n",
       "123-456-789  Kovács és Társa Kft.\n",
       "987-654-321      Global Tech Zrt.\n",
       "456-789-123            Almafa Bt."
      ]
     },
     "execution_count": 63,
     "metadata": {},
     "output_type": "execute_result"
    }
   ],
   "source": [
    "ceg_adatok.loc[:, [\"Cégnév\"]]  # Minden sort kérek és bizonyos oszlopokat"
   ]
  },
  {
   "cell_type": "code",
   "execution_count": 64,
   "id": "684a9d53-1de1-4be5-a3ef-0611ce3103cf",
   "metadata": {},
   "outputs": [
    {
     "data": {
      "text/html": [
       "<div>\n",
       "<style scoped>\n",
       "    .dataframe tbody tr th:only-of-type {\n",
       "        vertical-align: middle;\n",
       "    }\n",
       "\n",
       "    .dataframe tbody tr th {\n",
       "        vertical-align: top;\n",
       "    }\n",
       "\n",
       "    .dataframe thead th {\n",
       "        text-align: right;\n",
       "    }\n",
       "</style>\n",
       "<table border=\"1\" class=\"dataframe\">\n",
       "  <thead>\n",
       "    <tr style=\"text-align: right;\">\n",
       "      <th></th>\n",
       "      <th>Cégnév</th>\n",
       "      <th>Egyenleg (HUF)</th>\n",
       "    </tr>\n",
       "  </thead>\n",
       "  <tbody>\n",
       "    <tr>\n",
       "      <th>123-456-789</th>\n",
       "      <td>Kovács és Társa Kft.</td>\n",
       "      <td>1250000</td>\n",
       "    </tr>\n",
       "  </tbody>\n",
       "</table>\n",
       "</div>"
      ],
      "text/plain": [
       "                           Cégnév  Egyenleg (HUF)\n",
       "123-456-789  Kovács és Társa Kft.         1250000"
      ]
     },
     "execution_count": 64,
     "metadata": {},
     "output_type": "execute_result"
    }
   ],
   "source": [
    "ceg_adatok.loc[[\"123-456-789\"], :]  # Bizonyos sorokat kérek és minden oszlopot"
   ]
  },
  {
   "cell_type": "code",
   "execution_count": 65,
   "id": "c0433b73-bd21-4dcc-9ec6-ee2c585cf1a5",
   "metadata": {},
   "outputs": [],
   "source": [
    "# Rövidítés végett a 'hátsó' kettőspontok elhagyhatóak:\n",
    "lekeres = ceg_adatok.loc[[\"123-456-789\"]]  # Ez minden oszlopot lekér.a megadott sor mellé.\n",
    "# Másik ilyen \"rövidítés\":\n",
    "lekeres = ceg_adatok[oszlopok_nevei]  # Ez ugyanazt csinálja, mint a .loc[:, oszlopok_nevei]"
   ]
  },
  {
   "cell_type": "code",
   "execution_count": 66,
   "id": "80aa1701-3b14-48f6-93fd-464a62f4d424",
   "metadata": {},
   "outputs": [
    {
     "data": {
      "text/html": [
       "<div>\n",
       "<style scoped>\n",
       "    .dataframe tbody tr th:only-of-type {\n",
       "        vertical-align: middle;\n",
       "    }\n",
       "\n",
       "    .dataframe tbody tr th {\n",
       "        vertical-align: top;\n",
       "    }\n",
       "\n",
       "    .dataframe thead th {\n",
       "        text-align: right;\n",
       "    }\n",
       "</style>\n",
       "<table border=\"1\" class=\"dataframe\">\n",
       "  <thead>\n",
       "    <tr style=\"text-align: right;\">\n",
       "      <th></th>\n",
       "      <th>Név</th>\n",
       "      <th>Életkor</th>\n",
       "      <th>Nem</th>\n",
       "      <th>Dohányzik?</th>\n",
       "    </tr>\n",
       "  </thead>\n",
       "  <tbody>\n",
       "    <tr>\n",
       "      <th>0</th>\n",
       "      <td>Górapa</td>\n",
       "      <td>60</td>\n",
       "      <td>F</td>\n",
       "      <td>0</td>\n",
       "    </tr>\n",
       "    <tr>\n",
       "      <th>1</th>\n",
       "      <td>Gorenje</td>\n",
       "      <td>58</td>\n",
       "      <td>N</td>\n",
       "      <td>1</td>\n",
       "    </tr>\n",
       "    <tr>\n",
       "      <th>2</th>\n",
       "      <td>Nagypappantyú</td>\n",
       "      <td>69</td>\n",
       "      <td>F</td>\n",
       "      <td>0</td>\n",
       "    </tr>\n",
       "    <tr>\n",
       "      <th>3</th>\n",
       "      <td>Nyanyanyó</td>\n",
       "      <td>65</td>\n",
       "      <td>N</td>\n",
       "      <td>0</td>\n",
       "    </tr>\n",
       "    <tr>\n",
       "      <th>4</th>\n",
       "      <td>Oltyemajm</td>\n",
       "      <td>26</td>\n",
       "      <td>NaN</td>\n",
       "      <td>0</td>\n",
       "    </tr>\n",
       "    <tr>\n",
       "      <th>5</th>\n",
       "      <td>Marci</td>\n",
       "      <td>30</td>\n",
       "      <td>NaN</td>\n",
       "      <td>0</td>\n",
       "    </tr>\n",
       "    <tr>\n",
       "      <th>6</th>\n",
       "      <td>Mámicuj</td>\n",
       "      <td>18</td>\n",
       "      <td>N</td>\n",
       "      <td>0</td>\n",
       "    </tr>\n",
       "    <tr>\n",
       "      <th>7</th>\n",
       "      <td>Apacuj</td>\n",
       "      <td>98</td>\n",
       "      <td>F</td>\n",
       "      <td>0</td>\n",
       "    </tr>\n",
       "    <tr>\n",
       "      <th>8</th>\n",
       "      <td>Alíz</td>\n",
       "      <td>13</td>\n",
       "      <td>N</td>\n",
       "      <td>1</td>\n",
       "    </tr>\n",
       "    <tr>\n",
       "      <th>9</th>\n",
       "      <td>Bencsussz</td>\n",
       "      <td>10</td>\n",
       "      <td>F</td>\n",
       "      <td>0</td>\n",
       "    </tr>\n",
       "    <tr>\n",
       "      <th>10</th>\n",
       "      <td>Lucko</td>\n",
       "      <td>25</td>\n",
       "      <td>N</td>\n",
       "      <td>1</td>\n",
       "    </tr>\n",
       "    <tr>\n",
       "      <th>0</th>\n",
       "      <td>Kovács Bence</td>\n",
       "      <td>8</td>\n",
       "      <td>F</td>\n",
       "      <td>0</td>\n",
       "    </tr>\n",
       "    <tr>\n",
       "      <th>1</th>\n",
       "      <td>Szabó Hanna</td>\n",
       "      <td>24</td>\n",
       "      <td>N</td>\n",
       "      <td>1</td>\n",
       "    </tr>\n",
       "    <tr>\n",
       "      <th>2</th>\n",
       "      <td>Tóth Levente</td>\n",
       "      <td>37</td>\n",
       "      <td>F</td>\n",
       "      <td>0</td>\n",
       "    </tr>\n",
       "    <tr>\n",
       "      <th>3</th>\n",
       "      <td>Nagy Dóra</td>\n",
       "      <td>15</td>\n",
       "      <td>N</td>\n",
       "      <td>0</td>\n",
       "    </tr>\n",
       "    <tr>\n",
       "      <th>4</th>\n",
       "      <td>Farkas Gergő</td>\n",
       "      <td>42</td>\n",
       "      <td>F</td>\n",
       "      <td>1</td>\n",
       "    </tr>\n",
       "    <tr>\n",
       "      <th>5</th>\n",
       "      <td>Horváth Lilla</td>\n",
       "      <td>19</td>\n",
       "      <td>N</td>\n",
       "      <td>0</td>\n",
       "    </tr>\n",
       "    <tr>\n",
       "      <th>6</th>\n",
       "      <td>Balogh Ádám</td>\n",
       "      <td>63</td>\n",
       "      <td>F</td>\n",
       "      <td>0</td>\n",
       "    </tr>\n",
       "    <tr>\n",
       "      <th>7</th>\n",
       "      <td>Molnár Nóra</td>\n",
       "      <td>29</td>\n",
       "      <td>N</td>\n",
       "      <td>0</td>\n",
       "    </tr>\n",
       "    <tr>\n",
       "      <th>8</th>\n",
       "      <td>Varga Tamás</td>\n",
       "      <td>10</td>\n",
       "      <td>F</td>\n",
       "      <td>1</td>\n",
       "    </tr>\n",
       "    <tr>\n",
       "      <th>9</th>\n",
       "      <td>Kiss Petra</td>\n",
       "      <td>56</td>\n",
       "      <td>N</td>\n",
       "      <td>0</td>\n",
       "    </tr>\n",
       "    <tr>\n",
       "      <th>10</th>\n",
       "      <td>Németh Zoltán</td>\n",
       "      <td>33</td>\n",
       "      <td>F</td>\n",
       "      <td>0</td>\n",
       "    </tr>\n",
       "  </tbody>\n",
       "</table>\n",
       "</div>"
      ],
      "text/plain": [
       "              Név  Életkor  Nem  Dohányzik?\n",
       "0          Górapa       60    F           0\n",
       "1         Gorenje       58    N           1\n",
       "2   Nagypappantyú       69    F           0\n",
       "3       Nyanyanyó       65    N           0\n",
       "4       Oltyemajm       26  NaN           0\n",
       "5           Marci       30  NaN           0\n",
       "6         Mámicuj       18    N           0\n",
       "7          Apacuj       98    F           0\n",
       "8            Alíz       13    N           1\n",
       "9       Bencsussz       10    F           0\n",
       "10          Lucko       25    N           1\n",
       "0    Kovács Bence        8    F           0\n",
       "1     Szabó Hanna       24    N           1\n",
       "2    Tóth Levente       37    F           0\n",
       "3       Nagy Dóra       15    N           0\n",
       "4    Farkas Gergő       42    F           1\n",
       "5   Horváth Lilla       19    N           0\n",
       "6     Balogh Ádám       63    F           0\n",
       "7     Molnár Nóra       29    N           0\n",
       "8     Varga Tamás       10    F           1\n",
       "9      Kiss Petra       56    N           0\n",
       "10  Németh Zoltán       33    F           0"
      ]
     },
     "execution_count": 66,
     "metadata": {},
     "output_type": "execute_result"
    }
   ],
   "source": [
    "# Ezen a ponton érthető, hogy miért problémás, ha duplikáció van az indexek között:\n",
    "dohanyos_adat"
   ]
  },
  {
   "cell_type": "code",
   "execution_count": 67,
   "id": "870316af-fc00-4bff-9417-552fbf8de6b0",
   "metadata": {},
   "outputs": [
    {
     "data": {
      "text/html": [
       "<div>\n",
       "<style scoped>\n",
       "    .dataframe tbody tr th:only-of-type {\n",
       "        vertical-align: middle;\n",
       "    }\n",
       "\n",
       "    .dataframe tbody tr th {\n",
       "        vertical-align: top;\n",
       "    }\n",
       "\n",
       "    .dataframe thead th {\n",
       "        text-align: right;\n",
       "    }\n",
       "</style>\n",
       "<table border=\"1\" class=\"dataframe\">\n",
       "  <thead>\n",
       "    <tr style=\"text-align: right;\">\n",
       "      <th></th>\n",
       "      <th>Név</th>\n",
       "      <th>Életkor</th>\n",
       "      <th>Nem</th>\n",
       "      <th>Dohányzik?</th>\n",
       "    </tr>\n",
       "  </thead>\n",
       "  <tbody>\n",
       "    <tr>\n",
       "      <th>0</th>\n",
       "      <td>Górapa</td>\n",
       "      <td>60</td>\n",
       "      <td>F</td>\n",
       "      <td>0</td>\n",
       "    </tr>\n",
       "    <tr>\n",
       "      <th>0</th>\n",
       "      <td>Kovács Bence</td>\n",
       "      <td>8</td>\n",
       "      <td>F</td>\n",
       "      <td>0</td>\n",
       "    </tr>\n",
       "    <tr>\n",
       "      <th>2</th>\n",
       "      <td>Nagypappantyú</td>\n",
       "      <td>69</td>\n",
       "      <td>F</td>\n",
       "      <td>0</td>\n",
       "    </tr>\n",
       "    <tr>\n",
       "      <th>2</th>\n",
       "      <td>Tóth Levente</td>\n",
       "      <td>37</td>\n",
       "      <td>F</td>\n",
       "      <td>0</td>\n",
       "    </tr>\n",
       "    <tr>\n",
       "      <th>4</th>\n",
       "      <td>Oltyemajm</td>\n",
       "      <td>26</td>\n",
       "      <td>NaN</td>\n",
       "      <td>0</td>\n",
       "    </tr>\n",
       "    <tr>\n",
       "      <th>4</th>\n",
       "      <td>Farkas Gergő</td>\n",
       "      <td>42</td>\n",
       "      <td>F</td>\n",
       "      <td>1</td>\n",
       "    </tr>\n",
       "  </tbody>\n",
       "</table>\n",
       "</div>"
      ],
      "text/plain": [
       "             Név  Életkor  Nem  Dohányzik?\n",
       "0         Górapa       60    F           0\n",
       "0   Kovács Bence        8    F           0\n",
       "2  Nagypappantyú       69    F           0\n",
       "2   Tóth Levente       37    F           0\n",
       "4      Oltyemajm       26  NaN           0\n",
       "4   Farkas Gergő       42    F           1"
      ]
     },
     "execution_count": 67,
     "metadata": {},
     "output_type": "execute_result"
    }
   ],
   "source": [
    "# Szeretném kikérni, a 0, 2, 4 indexű sorokat:\n",
    "dohanyos_adat.loc[[0, 2, 4]]"
   ]
  },
  {
   "cell_type": "code",
   "execution_count": 68,
   "id": "ae20651c-3d78-48ff-a649-7f3fb870cc58",
   "metadata": {},
   "outputs": [
    {
     "data": {
      "text/html": [
       "<div>\n",
       "<style scoped>\n",
       "    .dataframe tbody tr th:only-of-type {\n",
       "        vertical-align: middle;\n",
       "    }\n",
       "\n",
       "    .dataframe tbody tr th {\n",
       "        vertical-align: top;\n",
       "    }\n",
       "\n",
       "    .dataframe thead th {\n",
       "        text-align: right;\n",
       "    }\n",
       "</style>\n",
       "<table border=\"1\" class=\"dataframe\">\n",
       "  <thead>\n",
       "    <tr style=\"text-align: right;\">\n",
       "      <th></th>\n",
       "      <th>Név</th>\n",
       "      <th>Életkor</th>\n",
       "      <th>Nem</th>\n",
       "      <th>Dohányzik?</th>\n",
       "    </tr>\n",
       "  </thead>\n",
       "  <tbody>\n",
       "    <tr>\n",
       "      <th>0</th>\n",
       "      <td>Górapa</td>\n",
       "      <td>60</td>\n",
       "      <td>F</td>\n",
       "      <td>0</td>\n",
       "    </tr>\n",
       "    <tr>\n",
       "      <th>1</th>\n",
       "      <td>Gorenje</td>\n",
       "      <td>58</td>\n",
       "      <td>N</td>\n",
       "      <td>1</td>\n",
       "    </tr>\n",
       "    <tr>\n",
       "      <th>2</th>\n",
       "      <td>Nagypappantyú</td>\n",
       "      <td>69</td>\n",
       "      <td>F</td>\n",
       "      <td>0</td>\n",
       "    </tr>\n",
       "    <tr>\n",
       "      <th>3</th>\n",
       "      <td>Nyanyanyó</td>\n",
       "      <td>65</td>\n",
       "      <td>N</td>\n",
       "      <td>0</td>\n",
       "    </tr>\n",
       "    <tr>\n",
       "      <th>4</th>\n",
       "      <td>Oltyemajm</td>\n",
       "      <td>26</td>\n",
       "      <td>NaN</td>\n",
       "      <td>0</td>\n",
       "    </tr>\n",
       "    <tr>\n",
       "      <th>5</th>\n",
       "      <td>Marci</td>\n",
       "      <td>30</td>\n",
       "      <td>NaN</td>\n",
       "      <td>0</td>\n",
       "    </tr>\n",
       "    <tr>\n",
       "      <th>6</th>\n",
       "      <td>Mámicuj</td>\n",
       "      <td>18</td>\n",
       "      <td>N</td>\n",
       "      <td>0</td>\n",
       "    </tr>\n",
       "    <tr>\n",
       "      <th>7</th>\n",
       "      <td>Apacuj</td>\n",
       "      <td>98</td>\n",
       "      <td>F</td>\n",
       "      <td>0</td>\n",
       "    </tr>\n",
       "    <tr>\n",
       "      <th>8</th>\n",
       "      <td>Alíz</td>\n",
       "      <td>13</td>\n",
       "      <td>N</td>\n",
       "      <td>1</td>\n",
       "    </tr>\n",
       "    <tr>\n",
       "      <th>9</th>\n",
       "      <td>Bencsussz</td>\n",
       "      <td>10</td>\n",
       "      <td>F</td>\n",
       "      <td>0</td>\n",
       "    </tr>\n",
       "    <tr>\n",
       "      <th>10</th>\n",
       "      <td>Lucko</td>\n",
       "      <td>25</td>\n",
       "      <td>N</td>\n",
       "      <td>1</td>\n",
       "    </tr>\n",
       "    <tr>\n",
       "      <th>11</th>\n",
       "      <td>Kovács Bence</td>\n",
       "      <td>8</td>\n",
       "      <td>F</td>\n",
       "      <td>0</td>\n",
       "    </tr>\n",
       "    <tr>\n",
       "      <th>12</th>\n",
       "      <td>Szabó Hanna</td>\n",
       "      <td>24</td>\n",
       "      <td>N</td>\n",
       "      <td>1</td>\n",
       "    </tr>\n",
       "    <tr>\n",
       "      <th>13</th>\n",
       "      <td>Tóth Levente</td>\n",
       "      <td>37</td>\n",
       "      <td>F</td>\n",
       "      <td>0</td>\n",
       "    </tr>\n",
       "    <tr>\n",
       "      <th>14</th>\n",
       "      <td>Nagy Dóra</td>\n",
       "      <td>15</td>\n",
       "      <td>N</td>\n",
       "      <td>0</td>\n",
       "    </tr>\n",
       "    <tr>\n",
       "      <th>15</th>\n",
       "      <td>Farkas Gergő</td>\n",
       "      <td>42</td>\n",
       "      <td>F</td>\n",
       "      <td>1</td>\n",
       "    </tr>\n",
       "    <tr>\n",
       "      <th>16</th>\n",
       "      <td>Horváth Lilla</td>\n",
       "      <td>19</td>\n",
       "      <td>N</td>\n",
       "      <td>0</td>\n",
       "    </tr>\n",
       "    <tr>\n",
       "      <th>17</th>\n",
       "      <td>Balogh Ádám</td>\n",
       "      <td>63</td>\n",
       "      <td>F</td>\n",
       "      <td>0</td>\n",
       "    </tr>\n",
       "    <tr>\n",
       "      <th>18</th>\n",
       "      <td>Molnár Nóra</td>\n",
       "      <td>29</td>\n",
       "      <td>N</td>\n",
       "      <td>0</td>\n",
       "    </tr>\n",
       "    <tr>\n",
       "      <th>19</th>\n",
       "      <td>Varga Tamás</td>\n",
       "      <td>10</td>\n",
       "      <td>F</td>\n",
       "      <td>1</td>\n",
       "    </tr>\n",
       "    <tr>\n",
       "      <th>20</th>\n",
       "      <td>Kiss Petra</td>\n",
       "      <td>56</td>\n",
       "      <td>N</td>\n",
       "      <td>0</td>\n",
       "    </tr>\n",
       "    <tr>\n",
       "      <th>21</th>\n",
       "      <td>Németh Zoltán</td>\n",
       "      <td>33</td>\n",
       "      <td>F</td>\n",
       "      <td>0</td>\n",
       "    </tr>\n",
       "  </tbody>\n",
       "</table>\n",
       "</div>"
      ],
      "text/plain": [
       "              Név  Életkor  Nem  Dohányzik?\n",
       "0          Górapa       60    F           0\n",
       "1         Gorenje       58    N           1\n",
       "2   Nagypappantyú       69    F           0\n",
       "3       Nyanyanyó       65    N           0\n",
       "4       Oltyemajm       26  NaN           0\n",
       "5           Marci       30  NaN           0\n",
       "6         Mámicuj       18    N           0\n",
       "7          Apacuj       98    F           0\n",
       "8            Alíz       13    N           1\n",
       "9       Bencsussz       10    F           0\n",
       "10          Lucko       25    N           1\n",
       "11   Kovács Bence        8    F           0\n",
       "12    Szabó Hanna       24    N           1\n",
       "13   Tóth Levente       37    F           0\n",
       "14      Nagy Dóra       15    N           0\n",
       "15   Farkas Gergő       42    F           1\n",
       "16  Horváth Lilla       19    N           0\n",
       "17    Balogh Ádám       63    F           0\n",
       "18    Molnár Nóra       29    N           0\n",
       "19    Varga Tamás       10    F           1\n",
       "20     Kiss Petra       56    N           0\n",
       "21  Németh Zoltán       33    F           0"
      ]
     },
     "execution_count": 68,
     "metadata": {},
     "output_type": "execute_result"
    }
   ],
   "source": [
    "# Ez egy nem kívánt hatás a legtöbb adatfeldolgozás esetében (értsd: bug).\n",
    "# A duplikált indexet kitörölhetjük és újragenerálhatunk egy új sorszám-indexet:\n",
    "# Ezt érdemes adatok összefűzáse után automatikusan, megszokásból is megcsinálni, hacsak az adat\n",
    "# nem tartalmaz értelmes indexeket (ebben az esetben valószínűleg nem lesz ütközés).\n",
    "dohanyos_adat = dohanyos_adat.reset_index(drop=True)\n",
    "dohanyos_adat"
   ]
  },
  {
   "cell_type": "markdown",
   "id": "8c53f5aa-bc0d-4d8d-a027-3517b2cbe81b",
   "metadata": {},
   "source": [
    "Egyes esetekben szükség lehet rá, hogy sorszám alapján kérjünk ki sort, vagy oszlopot. Erre egy másik indexelési objektum, az `.iloc` használatos (integer localizer):"
   ]
  },
  {
   "cell_type": "code",
   "execution_count": 69,
   "id": "6a9ab1f2-7636-4a5b-b0cb-24648f01c6b3",
   "metadata": {},
   "outputs": [
    {
     "data": {
      "text/html": [
       "<div>\n",
       "<style scoped>\n",
       "    .dataframe tbody tr th:only-of-type {\n",
       "        vertical-align: middle;\n",
       "    }\n",
       "\n",
       "    .dataframe tbody tr th {\n",
       "        vertical-align: top;\n",
       "    }\n",
       "\n",
       "    .dataframe thead th {\n",
       "        text-align: right;\n",
       "    }\n",
       "</style>\n",
       "<table border=\"1\" class=\"dataframe\">\n",
       "  <thead>\n",
       "    <tr style=\"text-align: right;\">\n",
       "      <th></th>\n",
       "      <th>Cégnév</th>\n",
       "      <th>Egyenleg (HUF)</th>\n",
       "    </tr>\n",
       "  </thead>\n",
       "  <tbody>\n",
       "    <tr>\n",
       "      <th>987-654-321</th>\n",
       "      <td>Global Tech Zrt.</td>\n",
       "      <td>-450000</td>\n",
       "    </tr>\n",
       "    <tr>\n",
       "      <th>456-789-123</th>\n",
       "      <td>Almafa Bt.</td>\n",
       "      <td>320000</td>\n",
       "    </tr>\n",
       "  </tbody>\n",
       "</table>\n",
       "</div>"
      ],
      "text/plain": [
       "                       Cégnév  Egyenleg (HUF)\n",
       "987-654-321  Global Tech Zrt.         -450000\n",
       "456-789-123        Almafa Bt.          320000"
      ]
     },
     "execution_count": 69,
     "metadata": {},
     "output_type": "execute_result"
    }
   ],
   "source": [
    "# Kikérjük az első és második sort és első és második oszlopot.\n",
    "sorok_sorszamai = [1, 2]\n",
    "oszlopok_sorszamai = [0, 1]\n",
    "ceg_adatok.iloc[sorok_sorszamai, oszlopok_sorszamai] "
   ]
  },
  {
   "cell_type": "markdown",
   "id": "e172417d-f615-40e3-9c1b-fdac0fb7fbb0",
   "metadata": {},
   "source": [
    "Azért választottam nem-integer indexű DF-et, hogy lásd és érzékeld, mi a különbség a `.loc` és a `.iloc` között. Nagyon gyakori az, hogy sorszámozott indexű DF-fel dolgozunk, de érteni kell, mi a különbség ezek között:\n",
    "\n",
    "```python\n",
    "df.loc[0]\n",
    "df.iloc[0]\n",
    "```\n",
    "\n",
    "`loc[0]` csak olyan DF-ekre fog működni, ahol az indexben szerepel az egész szám `0`. Ez nem feltétlenül pont az első helyen lesz jelen és nem feltétlenül csak egy sorhoz tartozhat (ahogy fentebb is láthattad).\n",
    "\n",
    "`iloc[0]` minden esetben működni fog, bármilyen DF-re, amelyben legalább 1 sor van és minden esetben csak a sorrendben első sort fogja visszaadni.\n",
    "\n",
    "Természetesen ha sorszámozott indexű DF-fel dolgozunk és a sorszámok sorba vannak rendezve az indexben és minden index egyedi, akkor a `.loc[0]` és a `.iloc[0]` ugyanazt a sort fogja visszaadni, de akkor is más a mögöttes működési elv."
   ]
  },
  {
   "cell_type": "markdown",
   "id": "8131fa0a-590d-47a6-ad67-2efc317e3676",
   "metadata": {},
   "source": [
    "### Szűrés\n",
    "\n",
    "Gyakori művelet, melyet DF-eken végzünk, hogy valamilyen oszlop értékei alapján szűrjük a sorokat. Amikor kikérünk egy oszlopot (Nem), egy Pandas Series objektumot kapunk vissza. Ha ezen logikai összehasonlítást végzünk, az az összehasonlítás a sorozat minden egyes elemén külön elvégzésre kerül, így amit kapunk szintén egy Series lesz, logikai igaz/hamis értékekkel feltöltve. Az ilyen bool típusú sorozatokat maszkként használhatjuk a teljes DF-en:"
   ]
  },
  {
   "cell_type": "code",
   "execution_count": 70,
   "id": "11b988b4-a8b8-4817-b57e-0ee7a4b42ed9",
   "metadata": {},
   "outputs": [
    {
     "data": {
      "text/plain": [
       "0     False\n",
       "1      True\n",
       "2     False\n",
       "3      True\n",
       "4     False\n",
       "5     False\n",
       "6      True\n",
       "7     False\n",
       "8      True\n",
       "9     False\n",
       "10     True\n",
       "11    False\n",
       "12     True\n",
       "13    False\n",
       "14     True\n",
       "15    False\n",
       "16     True\n",
       "17    False\n",
       "18     True\n",
       "19    False\n",
       "20     True\n",
       "21    False\n",
       "Name: Nem, dtype: bool"
      ]
     },
     "execution_count": 70,
     "metadata": {},
     "output_type": "execute_result"
    }
   ],
   "source": [
    "maszk = dohanyos_adat[\"Nem\"] == \"N\"\n",
    "maszk"
   ]
  },
  {
   "cell_type": "code",
   "execution_count": 71,
   "id": "bd3ed073-171d-4de1-b799-0b8ee037c2c2",
   "metadata": {},
   "outputs": [
    {
     "data": {
      "text/html": [
       "<div>\n",
       "<style scoped>\n",
       "    .dataframe tbody tr th:only-of-type {\n",
       "        vertical-align: middle;\n",
       "    }\n",
       "\n",
       "    .dataframe tbody tr th {\n",
       "        vertical-align: top;\n",
       "    }\n",
       "\n",
       "    .dataframe thead th {\n",
       "        text-align: right;\n",
       "    }\n",
       "</style>\n",
       "<table border=\"1\" class=\"dataframe\">\n",
       "  <thead>\n",
       "    <tr style=\"text-align: right;\">\n",
       "      <th></th>\n",
       "      <th>Név</th>\n",
       "      <th>Életkor</th>\n",
       "      <th>Nem</th>\n",
       "      <th>Dohányzik?</th>\n",
       "    </tr>\n",
       "  </thead>\n",
       "  <tbody>\n",
       "    <tr>\n",
       "      <th>1</th>\n",
       "      <td>Gorenje</td>\n",
       "      <td>58</td>\n",
       "      <td>N</td>\n",
       "      <td>1</td>\n",
       "    </tr>\n",
       "    <tr>\n",
       "      <th>3</th>\n",
       "      <td>Nyanyanyó</td>\n",
       "      <td>65</td>\n",
       "      <td>N</td>\n",
       "      <td>0</td>\n",
       "    </tr>\n",
       "    <tr>\n",
       "      <th>6</th>\n",
       "      <td>Mámicuj</td>\n",
       "      <td>18</td>\n",
       "      <td>N</td>\n",
       "      <td>0</td>\n",
       "    </tr>\n",
       "    <tr>\n",
       "      <th>8</th>\n",
       "      <td>Alíz</td>\n",
       "      <td>13</td>\n",
       "      <td>N</td>\n",
       "      <td>1</td>\n",
       "    </tr>\n",
       "    <tr>\n",
       "      <th>10</th>\n",
       "      <td>Lucko</td>\n",
       "      <td>25</td>\n",
       "      <td>N</td>\n",
       "      <td>1</td>\n",
       "    </tr>\n",
       "    <tr>\n",
       "      <th>12</th>\n",
       "      <td>Szabó Hanna</td>\n",
       "      <td>24</td>\n",
       "      <td>N</td>\n",
       "      <td>1</td>\n",
       "    </tr>\n",
       "    <tr>\n",
       "      <th>14</th>\n",
       "      <td>Nagy Dóra</td>\n",
       "      <td>15</td>\n",
       "      <td>N</td>\n",
       "      <td>0</td>\n",
       "    </tr>\n",
       "    <tr>\n",
       "      <th>16</th>\n",
       "      <td>Horváth Lilla</td>\n",
       "      <td>19</td>\n",
       "      <td>N</td>\n",
       "      <td>0</td>\n",
       "    </tr>\n",
       "    <tr>\n",
       "      <th>18</th>\n",
       "      <td>Molnár Nóra</td>\n",
       "      <td>29</td>\n",
       "      <td>N</td>\n",
       "      <td>0</td>\n",
       "    </tr>\n",
       "    <tr>\n",
       "      <th>20</th>\n",
       "      <td>Kiss Petra</td>\n",
       "      <td>56</td>\n",
       "      <td>N</td>\n",
       "      <td>0</td>\n",
       "    </tr>\n",
       "  </tbody>\n",
       "</table>\n",
       "</div>"
      ],
      "text/plain": [
       "              Név  Életkor Nem  Dohányzik?\n",
       "1         Gorenje       58   N           1\n",
       "3       Nyanyanyó       65   N           0\n",
       "6         Mámicuj       18   N           0\n",
       "8            Alíz       13   N           1\n",
       "10          Lucko       25   N           1\n",
       "12    Szabó Hanna       24   N           1\n",
       "14      Nagy Dóra       15   N           0\n",
       "16  Horváth Lilla       19   N           0\n",
       "18    Molnár Nóra       29   N           0\n",
       "20     Kiss Petra       56   N           0"
      ]
     },
     "execution_count": 71,
     "metadata": {},
     "output_type": "execute_result"
    }
   ],
   "source": [
    "# Ez alapján a maszk alapján aztán leválogathatjuk a DF-et, ha indexeljük vele:\n",
    "dohanyos_adat[maszk]"
   ]
  },
  {
   "cell_type": "code",
   "execution_count": 72,
   "id": "25eb6eaf-3097-422d-8097-44520df09f47",
   "metadata": {},
   "outputs": [
    {
     "data": {
      "text/html": [
       "<div>\n",
       "<style scoped>\n",
       "    .dataframe tbody tr th:only-of-type {\n",
       "        vertical-align: middle;\n",
       "    }\n",
       "\n",
       "    .dataframe tbody tr th {\n",
       "        vertical-align: top;\n",
       "    }\n",
       "\n",
       "    .dataframe thead th {\n",
       "        text-align: right;\n",
       "    }\n",
       "</style>\n",
       "<table border=\"1\" class=\"dataframe\">\n",
       "  <thead>\n",
       "    <tr style=\"text-align: right;\">\n",
       "      <th></th>\n",
       "      <th>Név</th>\n",
       "      <th>Életkor</th>\n",
       "      <th>Nem</th>\n",
       "      <th>Dohányzik?</th>\n",
       "    </tr>\n",
       "  </thead>\n",
       "  <tbody>\n",
       "    <tr>\n",
       "      <th>1</th>\n",
       "      <td>Gorenje</td>\n",
       "      <td>58</td>\n",
       "      <td>N</td>\n",
       "      <td>1</td>\n",
       "    </tr>\n",
       "    <tr>\n",
       "      <th>8</th>\n",
       "      <td>Alíz</td>\n",
       "      <td>13</td>\n",
       "      <td>N</td>\n",
       "      <td>1</td>\n",
       "    </tr>\n",
       "    <tr>\n",
       "      <th>10</th>\n",
       "      <td>Lucko</td>\n",
       "      <td>25</td>\n",
       "      <td>N</td>\n",
       "      <td>1</td>\n",
       "    </tr>\n",
       "    <tr>\n",
       "      <th>12</th>\n",
       "      <td>Szabó Hanna</td>\n",
       "      <td>24</td>\n",
       "      <td>N</td>\n",
       "      <td>1</td>\n",
       "    </tr>\n",
       "  </tbody>\n",
       "</table>\n",
       "</div>"
      ],
      "text/plain": [
       "            Név  Életkor Nem  Dohányzik?\n",
       "1       Gorenje       58   N           1\n",
       "8          Alíz       13   N           1\n",
       "10        Lucko       25   N           1\n",
       "12  Szabó Hanna       24   N           1"
      ]
     },
     "execution_count": 72,
     "metadata": {},
     "output_type": "execute_result"
    }
   ],
   "source": [
    "# Kombinálhatunk maszkokat logikai műveletekkel:\n",
    "# - és: &\n",
    "# - vagy: |\n",
    "# Ezek szintén elemenként kerülnek elvégzésre.\n",
    "no_nemu = dohanyos_adat[\"Nem\"] == \"N\"\n",
    "dohanyzik = dohanyos_adat[\"Dohányzik?\"] == 1\n",
    "dohanyos_adat[no_nemu & dohanyzik]"
   ]
  },
  {
   "cell_type": "code",
   "execution_count": 74,
   "id": "0a4152cb-91ba-4c35-aab0-4e7c6bd6eaf7",
   "metadata": {},
   "outputs": [
    {
     "name": "stdout",
     "output_type": "stream",
     "text": [
      "Dohányos nők aránya: 0.4\n"
     ]
    }
   ],
   "source": [
    "# Egy sorba összevonható minden, ez már egy igazi datás kód:\n",
    "dohanyos_nok_aranya = dohanyos_adat[dohanyos_adat[\"Nem\"] == \"N\"][\"Dohányzik?\"].mean()\n",
    "print(f\"Dohányos nők aránya: {dohanyos_nok_aranya}\")"
   ]
  },
  {
   "cell_type": "markdown",
   "id": "203cef61-a224-4244-b6db-061e021eec92",
   "metadata": {},
   "source": [
    "*Mi történik a fenti cellában?*\n",
    "\n",
    "A kifejezések balról-jobbra, belülről kifelé értékelődnek ki (a zárójelek előnyt élveznek). Bontsuk fel lépésenként:\n",
    "\n",
    "- `dohanyos_adat[\"Nem\"]`: lekér egy oszlopot, létrejön egy 'Series' objektum\n",
    "- `dohanyos_adat[\"Nem\"] == \"N\"`: elvégzi az összehasonlítást elemenként a Series és a string között. Eredménye egy 'bool' típusú maszk.\n",
    "- `dohanyos_adat[dohanyos_adat[\"Nem\"] == \"N\"]`: szűrjük a teljes dohányos DF-et a maszk alapján. Eredménye a szűrt DF, minden oszlopával.\n",
    "- `dohanyos_adat[dohanyos_adat[\"Nem\"] == \"N\"][\"Dohányzik?\"]`: A szűrt DF-ből lekérjük 'Dohányzik?' oszlopot. Eredménye lekért oszlop (Series típusú), de csak a megszűrt elemek.\n",
    "- `dohanyos_adat[dohanyos_adat[\"Nem\"] == \"N\"][\"Dohányzik?\"].mean()`: Vesszük a megszűrt, lekért oszlop értékeinek átlagát. Mivel 0 és 1 van csak benne, az oszlop átlaga épp a dohányosok arányával lesz egyenlő.\n",
    "\n",
    "Végső soron amit kapunk, az a nőnenműre szűrt dohányosok aránya, ami 0.4 (azaz 40%)."
   ]
  },
  {
   "cell_type": "markdown",
   "id": "ffbe99db-0f4c-4f15-b96d-7799b5591f10",
   "metadata": {},
   "source": [
    "*Ha a fenti cella még zavaros, bonyolult, akkor érdemes szóban átbeszélni, hogy mi minden történik benne.*\n",
    "\n",
    "Ha a fenti cella érhető, alább láthatsz egy konkrét statisztikai összehasonlítást:"
   ]
  },
  {
   "cell_type": "code",
   "execution_count": 78,
   "id": "cf3c5358-8455-4435-84bb-558e98007b43",
   "metadata": {},
   "outputs": [
    {
     "name": "stdout",
     "output_type": "stream",
     "text": [
      "Dohányos nők aránya (10):     0.4 +- 0.5163977794943223\n",
      "Dohányos férfiak aránya (10): 0.2 +- 0.42163702135578396\n"
     ]
    }
   ],
   "source": [
    "dohanyos_nok = \n",
    "# Kiszámoljuk a dohányos nők arányát\n",
    "dohanyos_nok_aranya = dohanyos_adat[dohanyos_adat[\"Nem\"] == \"N\"][\"Dohányzik?\"].mean()\n",
    "# Kiszámoljuk a dohányos nők szórását\n",
    "dohanyos_nok_aranya_szoras = dohanyos_adat[dohanyos_adat[\"Nem\"] == \"N\"][\"Dohányzik?\"].std()\n",
    "# Kiszámoljuk a dohányos nők mintaszámát\n",
    "dohanyos_nok_n = dohanyos_adat[dohanyos_adat[\"Nem\"] == \"N\"][\"Dohányzik?\"].count()\n",
    "# Kiszámoljuk a dohányos férfiak arányát\n",
    "dohanyos_ferfiak_aranya = dohanyos_adat[dohanyos_adat[\"Nem\"] == \"F\"][\"Dohányzik?\"].mean()\n",
    "# Kiszámoljuk a dohányos férfiak szórását\n",
    "dohanyos_ferfiak_aranya_szoras = dohanyos_adat[dohanyos_adat[\"Nem\"] == \"F\"][\"Dohányzik?\"].std()\n",
    "# Kiszámoljuk a dohányos nők mintaszámát\n",
    "dohanyos_ferfiak_n = dohanyos_adat[dohanyos_adat[\"Nem\"] == \"F\"][\"Dohányzik?\"].count()\n",
    "print(f\"Dohányos nők aránya ({dohanyos_nok_n}):     {dohanyos_nok_aranya} +- {dohanyos_nok_aranya_szoras}\")\n",
    "print(f\"Dohányos férfiak aránya ({dohanyos_ferfiak_n}): {dohanyos_ferfiak_aranya} +- {dohanyos_ferfiak_aranya_szoras}\")"
   ]
  },
  {
   "cell_type": "markdown",
   "id": "2dfa3664-6229-4aa8-a73b-bc7fc6f85b3a",
   "metadata": {},
   "source": []
  }
 ],
 "metadata": {
  "kernelspec": {
   "display_name": "Python 3 (ipykernel)",
   "language": "python",
   "name": "python3"
  },
  "language_info": {
   "codemirror_mode": {
    "name": "ipython",
    "version": 3
   },
   "file_extension": ".py",
   "mimetype": "text/x-python",
   "name": "python",
   "nbconvert_exporter": "python",
   "pygments_lexer": "ipython3",
   "version": "3.12.7"
  }
 },
 "nbformat": 4,
 "nbformat_minor": 5
}
