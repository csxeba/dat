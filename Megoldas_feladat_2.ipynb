{
 "cells": [
  {
   "cell_type": "markdown",
   "id": "b1a77ad4-27ff-4042-86f3-45cacdbdf021",
   "metadata": {
    "editable": true,
    "slideshow": {
     "slide_type": ""
    },
    "tags": []
   },
   "source": [
    "# Feladat 2 megoldása\n",
    "\n",
    "Ez a *notebook* a 2. feladat megoldását tartalmazza, **önellenőrzésre**.\n",
    "\n",
    "- Felsorolás példaként\n",
    "- Második elemmel is ellátva"
   ]
  },
  {
   "cell_type": "code",
   "execution_count": 1,
   "id": "70d72d99-9d03-46b6-b890-6b3248269032",
   "metadata": {},
   "outputs": [
    {
     "name": "stdout",
     "output_type": "stream",
     "text": [
      "Hello world!\n"
     ]
    }
   ],
   "source": [
    "# Egy kód cella példaként\n",
    "print(\"Hello world!\")"
   ]
  }
 ],
 "metadata": {
  "kernelspec": {
   "display_name": "Python 3 (ipykernel)",
   "language": "python",
   "name": "python3"
  },
  "language_info": {
   "codemirror_mode": {
    "name": "ipython",
    "version": 3
   },
   "file_extension": ".py",
   "mimetype": "text/x-python",
   "name": "python",
   "nbconvert_exporter": "python",
   "pygments_lexer": "ipython3",
   "version": "3.12.4"
  }
 },
 "nbformat": 4,
 "nbformat_minor": 5
}
